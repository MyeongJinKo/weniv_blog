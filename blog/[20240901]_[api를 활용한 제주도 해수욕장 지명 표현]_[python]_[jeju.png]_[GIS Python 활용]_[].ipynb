{
 "cells": [
  {
   "cell_type": "markdown",
   "id": "ed5ecd0e",
   "metadata": {},
   "source": [
    "# 7. 해수욕장 지도 그리기"
   ]
  },
  {
   "cell_type": "markdown",
   "id": "be8c99eb",
   "metadata": {},
   "source": [
    "## 1. 해수욕장 정보 불러오기"
   ]
  },
  {
   "cell_type": "markdown",
   "id": "e06d0aa3",
   "metadata": {},
   "source": [
    "### 1-1. 공공데이터포털 api 활용하여 json 형식으로 불러오기"
   ]
  },
  {
   "cell_type": "code",
   "execution_count": 1,
   "id": "2ef6d8ac",
   "metadata": {},
   "outputs": [],
   "source": [
    "import requests\n",
    "import pprint\n",
    "import json"
   ]
  },
  {
   "cell_type": "code",
   "execution_count": 5,
   "id": "f5653840",
   "metadata": {},
   "outputs": [],
   "source": [
    "url = ''\n",
    "# url 불러오기\n",
    "response = requests.get(url)\n",
    "\n",
    "contents = response.text"
   ]
  },
  {
   "cell_type": "markdown",
   "id": "c37312f3",
   "metadata": {},
   "source": [
    "pprint를 사용할 경우 보다 알아보기 쉽게 데이터 형태를 만들 수 있다.\n",
    "indent=4는 들여쓴다는 의미"
   ]
  },
  {
   "cell_type": "code",
   "execution_count": 6,
   "id": "bbfe86a2",
   "metadata": {
    "scrolled": true
   },
   "outputs": [
    {
     "name": "stdout",
     "output_type": "stream",
     "text": [
      "('{\"getOceansBeachInfo\":{\"header\":{\"code\":\"00\",\"message\":\"NORMAL '\n",
      " 'SERVIE\"},\"item\":[{\"num\":1,\"sido_nm\":\"제주\",\"gugun_nm\":\"서귀포시\",\"sta_nm\":\"신양섭지코지\",\"beach_wid\":80.000,\"beach_len\":300.000,\"beach_knd\":\"모래\",\"link_addr\":\"http://www.jejutour.go.kr/contents/index.php?mid=TU&cat=TU03&dong=SG02&act=view&seq=248\",\"link_nm\":\"제주놀멍쉬멍\",\"beach_img\":null,\"link_tel\":\"동부보건소성산지소(064-782-2368)\",\"lat\":\"33.4348090000\",\"lon\":\"126.9230210000\"},{\"num\":2,\"sido_nm\":\"제주\",\"gugun_nm\":\"서귀포시\",\"sta_nm\":\"중문색달\",\"beach_wid\":70.000,\"beach_len\":560.000,\"beach_knd\":\"모래\",\"link_addr\":\"http://www.jejutour.go.kr/contents/index.php?mid=TU&cat=TU03&dong=SG01&act=view&seq=295\",\"link_nm\":\"제주놀멍쉬멍\",\"beach_img\":null,\"link_tel\":\"서귀포시중문보건지소(064-738-1605)\",\"lat\":\"33.2451250000\",\"lon\":\"126.4114820000\"},{\"num\":3,\"sido_nm\":\"제주\",\"gugun_nm\":\"서귀포시\",\"sta_nm\":\"표선해비치\",\"beach_wid\":400.000,\"beach_len\":400.000,\"beach_knd\":null,\"link_addr\":\"http://www.jejutour.go.kr/contents/index.php?mid=TU&cat=TU03&dong=SG02&act=view&seq=369\",\"link_nm\":\"제주놀멍쉬멍\",\"beach_img\":null,\"link_tel\":\"동부보건소표선지소(064-787-1304)\",\"lat\":\"33.3279980000\",\"lon\":\"126.8373550000\"},{\"num\":4,\"sido_nm\":\"제주\",\"gugun_nm\":\"서귀포시\",\"sta_nm\":\"화순금모래\",\"beach_wid\":40.000,\"beach_len\":250.000,\"beach_knd\":\"모래\",\"link_addr\":\"http://www.jejutour.go.kr/contents/index.php?mid=TU&cat=TU03&dong=SG03&act=view&seq=288\",\"link_nm\":\"제주놀멍쉬멍\",\"beach_img\":null,\"link_tel\":\"서귀포시서부보건소안덕보건지소(064-794-9101)\",\"lat\":\"33.2399670000\",\"lon\":\"126.3337090000\"},{\"num\":5,\"sido_nm\":\"제주\",\"gugun_nm\":\"제주시\",\"sta_nm\":\"곽지과물\",\"beach_wid\":0.000,\"beach_len\":0.000,\"beach_knd\":\"모래\",\"link_addr\":\"http://www.jejutour.go.kr/contents/index.php?mid=TU&cat=TU03&dong=JJ03&act=view&seq=214\",\"link_nm\":\"제주놀멍쉬멍\",\"beach_img\":null,\"link_tel\":\"북제주군애월읍납읍보건진료소(064-799-4686)\",\"lat\":\"33.4506270000\",\"lon\":\"126.3047160000\"},{\"num\":6,\"sido_nm\":\"제주\",\"gugun_nm\":\"제주시\",\"sta_nm\":\"금능으뜸원\",\"beach_wid\":null,\"beach_len\":null,\"beach_knd\":null,\"link_addr\":\"http://www.jejutour.go.kr/contents/index.php?mid=TU&cat=TU03&dong=JJ03&act=view&seq=257\",\"link_nm\":\"제주놀멍쉬멍\",\"beach_img\":null,\"link_tel\":\"제주시서부보건소(064-796-2911)\",\"lat\":\"33.3897680000\",\"lon\":\"126.2350910000\"},{\"num\":7,\"sido_nm\":\"제주\",\"gugun_nm\":\"제주시\",\"sta_nm\":\"김녕성세기\",\"beach_wid\":0.000,\"beach_len\":0.000,\"beach_knd\":\"모래\",\"link_addr\":\"http://www.jejutour.go.kr/contents/index.php?mid=TU&cat=TU03&dong=JJ02&act=view&seq=238\",\"link_nm\":\"제주놀멍쉬멍\",\"beach_img\":null,\"link_tel\":\"제주시동부보건소(064-783-5042)\",\"lat\":\"33.5577340000\",\"lon\":\"126.7594630000\"},{\"num\":8,\"sido_nm\":\"제주\",\"gugun_nm\":\"제주시\",\"sta_nm\":\"삼양검은모래\",\"beach_wid\":null,\"beach_len\":null,\"beach_knd\":null,\"link_addr\":\"http://www.jejutour.go.kr/contents/index.php?mid=TU&cat=TU03&dong=JJ01&act=view&seq=228\",\"link_nm\":\"제주놀멍쉬멍\",\"beach_img\":null,\"link_tel\":\"제주시동부보건소조천보건지소(064-783-6249)\",\"lat\":\"33.5260160000\",\"lon\":\"126.5858040000\"},{\"num\":9,\"sido_nm\":\"제주\",\"gugun_nm\":\"제주시\",\"sta_nm\":\"이호테우\",\"beach_wid\":60.000,\"beach_len\":600.000,\"beach_knd\":\"모래\",\"link_addr\":\"http://www.jejutour.go.kr/contents/index.php?mid=TU&cat=TU03&dong=JJ01&act=view&seq=209\",\"link_nm\":\"제주놀멍쉬멍\",\"beach_img\":null,\"link_tel\":\"노형보건지소(064-728-8721)\",\"lat\":\"33.4972630000\",\"lon\":\"126.4518210000\"},{\"num\":10,\"sido_nm\":\"제주\",\"gugun_nm\":\"제주시\",\"sta_nm\":\"함덕서우봉\",\"beach_wid\":257.000,\"beach_len\":900.000,\"beach_knd\":\"모래\",\"link_addr\":\"http://www.jejutour.go.kr/contents/index.php?mid=TU&cat=TU03&dong=JJ02&act=view&seq=216\",\"link_nm\":\"제주놀멍쉬멍\",\"beach_img\":null,\"link_tel\":\"제주시동부보건소조천보건지소(064-783-6249)\",\"lat\":\"33.5432760000\",\"lon\":\"126.6692790000\"},{\"num\":11,\"sido_nm\":\"제주\",\"gugun_nm\":\"제주시\",\"sta_nm\":\"협재\",\"beach_wid\":0.000,\"beach_len\":0.000,\"beach_knd\":\"모래\",\"link_addr\":\"http://www.jejutour.go.kr/contents/index.php?mid=TU&cat=TU03&dong=JJ03&act=view&seq=256\",\"link_nm\":\"제주놀멍쉬멍\",\"beach_img\":null,\"link_tel\":\"제주시서부보건소(064-796-2911)\",\"lat\":\"33.3941030000\",\"lon\":\"126.2392100000\"}],\"rows\":null,\"numOfRows\":100,\"pageNo\":1,\"totalCount\":11}}')\n",
      "None\n"
     ]
    }
   ],
   "source": [
    "pp = pprint.PrettyPrinter(indent=4)\n",
    "print(pp.pprint(contents))"
   ]
  },
  {
   "cell_type": "markdown",
   "id": "aa26ade3",
   "metadata": {},
   "source": [
    "### 1-2. 출력된 문자열 json 형태로 변형하기\n",
    "출력된 문자열을 json(JavaScript Object Notation) 형태로 변형시켜준다"
   ]
  },
  {
   "cell_type": "code",
   "execution_count": 7,
   "id": "83b30564",
   "metadata": {
    "scrolled": true
   },
   "outputs": [
    {
     "name": "stdout",
     "output_type": "stream",
     "text": [
      "{'getOceansBeachInfo': {'header': {'code': '00', 'message': 'NORMAL SERVIE'}, 'item': [{'num': 1, 'sido_nm': '제주', 'gugun_nm': '서귀포시', 'sta_nm': '신양섭지코지', 'beach_wid': 80.0, 'beach_len': 300.0, 'beach_knd': '모래', 'link_addr': 'http://www.jejutour.go.kr/contents/index.php?mid=TU&cat=TU03&dong=SG02&act=view&seq=248', 'link_nm': '제주놀멍쉬멍', 'beach_img': None, 'link_tel': '동부보건소성산지소(064-782-2368)', 'lat': '33.4348090000', 'lon': '126.9230210000'}, {'num': 2, 'sido_nm': '제주', 'gugun_nm': '서귀포시', 'sta_nm': '중문색달', 'beach_wid': 70.0, 'beach_len': 560.0, 'beach_knd': '모래', 'link_addr': 'http://www.jejutour.go.kr/contents/index.php?mid=TU&cat=TU03&dong=SG01&act=view&seq=295', 'link_nm': '제주놀멍쉬멍', 'beach_img': None, 'link_tel': '서귀포시중문보건지소(064-738-1605)', 'lat': '33.2451250000', 'lon': '126.4114820000'}, {'num': 3, 'sido_nm': '제주', 'gugun_nm': '서귀포시', 'sta_nm': '표선해비치', 'beach_wid': 400.0, 'beach_len': 400.0, 'beach_knd': None, 'link_addr': 'http://www.jejutour.go.kr/contents/index.php?mid=TU&cat=TU03&dong=SG02&act=view&seq=369', 'link_nm': '제주놀멍쉬멍', 'beach_img': None, 'link_tel': '동부보건소표선지소(064-787-1304)', 'lat': '33.3279980000', 'lon': '126.8373550000'}, {'num': 4, 'sido_nm': '제주', 'gugun_nm': '서귀포시', 'sta_nm': '화순금모래', 'beach_wid': 40.0, 'beach_len': 250.0, 'beach_knd': '모래', 'link_addr': 'http://www.jejutour.go.kr/contents/index.php?mid=TU&cat=TU03&dong=SG03&act=view&seq=288', 'link_nm': '제주놀멍쉬멍', 'beach_img': None, 'link_tel': '서귀포시서부보건소안덕보건지소(064-794-9101)', 'lat': '33.2399670000', 'lon': '126.3337090000'}, {'num': 5, 'sido_nm': '제주', 'gugun_nm': '제주시', 'sta_nm': '곽지과물', 'beach_wid': 0.0, 'beach_len': 0.0, 'beach_knd': '모래', 'link_addr': 'http://www.jejutour.go.kr/contents/index.php?mid=TU&cat=TU03&dong=JJ03&act=view&seq=214', 'link_nm': '제주놀멍쉬멍', 'beach_img': None, 'link_tel': '북제주군애월읍납읍보건진료소(064-799-4686)', 'lat': '33.4506270000', 'lon': '126.3047160000'}, {'num': 6, 'sido_nm': '제주', 'gugun_nm': '제주시', 'sta_nm': '금능으뜸원', 'beach_wid': None, 'beach_len': None, 'beach_knd': None, 'link_addr': 'http://www.jejutour.go.kr/contents/index.php?mid=TU&cat=TU03&dong=JJ03&act=view&seq=257', 'link_nm': '제주놀멍쉬멍', 'beach_img': None, 'link_tel': '제주시서부보건소(064-796-2911)', 'lat': '33.3897680000', 'lon': '126.2350910000'}, {'num': 7, 'sido_nm': '제주', 'gugun_nm': '제주시', 'sta_nm': '김녕성세기', 'beach_wid': 0.0, 'beach_len': 0.0, 'beach_knd': '모래', 'link_addr': 'http://www.jejutour.go.kr/contents/index.php?mid=TU&cat=TU03&dong=JJ02&act=view&seq=238', 'link_nm': '제주놀멍쉬멍', 'beach_img': None, 'link_tel': '제주시동부보건소(064-783-5042)', 'lat': '33.5577340000', 'lon': '126.7594630000'}, {'num': 8, 'sido_nm': '제주', 'gugun_nm': '제주시', 'sta_nm': '삼양검은모래', 'beach_wid': None, 'beach_len': None, 'beach_knd': None, 'link_addr': 'http://www.jejutour.go.kr/contents/index.php?mid=TU&cat=TU03&dong=JJ01&act=view&seq=228', 'link_nm': '제주놀멍쉬멍', 'beach_img': None, 'link_tel': '제주시동부보건소조천보건지소(064-783-6249)', 'lat': '33.5260160000', 'lon': '126.5858040000'}, {'num': 9, 'sido_nm': '제주', 'gugun_nm': '제주시', 'sta_nm': '이호테우', 'beach_wid': 60.0, 'beach_len': 600.0, 'beach_knd': '모래', 'link_addr': 'http://www.jejutour.go.kr/contents/index.php?mid=TU&cat=TU03&dong=JJ01&act=view&seq=209', 'link_nm': '제주놀멍쉬멍', 'beach_img': None, 'link_tel': '노형보건지소(064-728-8721)', 'lat': '33.4972630000', 'lon': '126.4518210000'}, {'num': 10, 'sido_nm': '제주', 'gugun_nm': '제주시', 'sta_nm': '함덕서우봉', 'beach_wid': 257.0, 'beach_len': 900.0, 'beach_knd': '모래', 'link_addr': 'http://www.jejutour.go.kr/contents/index.php?mid=TU&cat=TU03&dong=JJ02&act=view&seq=216', 'link_nm': '제주놀멍쉬멍', 'beach_img': None, 'link_tel': '제주시동부보건소조천보건지소(064-783-6249)', 'lat': '33.5432760000', 'lon': '126.6692790000'}, {'num': 11, 'sido_nm': '제주', 'gugun_nm': '제주시', 'sta_nm': '협재', 'beach_wid': 0.0, 'beach_len': 0.0, 'beach_knd': '모래', 'link_addr': 'http://www.jejutour.go.kr/contents/index.php?mid=TU&cat=TU03&dong=JJ03&act=view&seq=256', 'link_nm': '제주놀멍쉬멍', 'beach_img': None, 'link_tel': '제주시서부보건소(064-796-2911)', 'lat': '33.3941030000', 'lon': '126.2392100000'}], 'rows': None, 'numOfRows': 100, 'pageNo': 1, 'totalCount': 11}}\n",
      "<class 'dict'>\n"
     ]
    }
   ],
   "source": [
    "json_ob = json.loads(contents)\n",
    "print(json_ob)\n",
    "print(type(json_ob))"
   ]
  },
  {
   "cell_type": "markdown",
   "id": "14a2db75",
   "metadata": {},
   "source": [
    "### 1-3. 필요한 정보 가져오기\n",
    "지도를 그릴 때 필요한 정보인 '해수욕장 정보'는 getOceansBeachInfo => item 안에 모두 포함되어 있음을 확인할 수 있다.<br>\n",
    "따라서 item의 내용만 출력해보면"
   ]
  },
  {
   "cell_type": "code",
   "execution_count": 18,
   "id": "2c9de826",
   "metadata": {
    "scrolled": true
   },
   "outputs": [
    {
     "name": "stdout",
     "output_type": "stream",
     "text": [
      "[{'num': 1, 'sido_nm': '제주', 'gugun_nm': '서귀포시', 'sta_nm': '신양섭지코지', 'beach_wid': 80.0, 'beach_len': 300.0, 'beach_knd': '모래', 'link_addr': 'http://www.jejutour.go.kr/contents/index.php?mid=TU&cat=TU03&dong=SG02&act=view&seq=248', 'link_nm': '제주놀멍쉬멍', 'beach_img': None, 'link_tel': '동부보건소성산지소(064-782-2368)', 'lat': '33.4348090000', 'lon': '126.9230210000'}, {'num': 2, 'sido_nm': '제주', 'gugun_nm': '서귀포시', 'sta_nm': '중문색달', 'beach_wid': 70.0, 'beach_len': 560.0, 'beach_knd': '모래', 'link_addr': 'http://www.jejutour.go.kr/contents/index.php?mid=TU&cat=TU03&dong=SG01&act=view&seq=295', 'link_nm': '제주놀멍쉬멍', 'beach_img': None, 'link_tel': '서귀포시중문보건지소(064-738-1605)', 'lat': '33.2451250000', 'lon': '126.4114820000'}, {'num': 3, 'sido_nm': '제주', 'gugun_nm': '서귀포시', 'sta_nm': '표선해비치', 'beach_wid': 400.0, 'beach_len': 400.0, 'beach_knd': None, 'link_addr': 'http://www.jejutour.go.kr/contents/index.php?mid=TU&cat=TU03&dong=SG02&act=view&seq=369', 'link_nm': '제주놀멍쉬멍', 'beach_img': None, 'link_tel': '동부보건소표선지소(064-787-1304)', 'lat': '33.3279980000', 'lon': '126.8373550000'}, {'num': 4, 'sido_nm': '제주', 'gugun_nm': '서귀포시', 'sta_nm': '화순금모래', 'beach_wid': 40.0, 'beach_len': 250.0, 'beach_knd': '모래', 'link_addr': 'http://www.jejutour.go.kr/contents/index.php?mid=TU&cat=TU03&dong=SG03&act=view&seq=288', 'link_nm': '제주놀멍쉬멍', 'beach_img': None, 'link_tel': '서귀포시서부보건소안덕보건지소(064-794-9101)', 'lat': '33.2399670000', 'lon': '126.3337090000'}, {'num': 5, 'sido_nm': '제주', 'gugun_nm': '제주시', 'sta_nm': '곽지과물', 'beach_wid': 0.0, 'beach_len': 0.0, 'beach_knd': '모래', 'link_addr': 'http://www.jejutour.go.kr/contents/index.php?mid=TU&cat=TU03&dong=JJ03&act=view&seq=214', 'link_nm': '제주놀멍쉬멍', 'beach_img': None, 'link_tel': '북제주군애월읍납읍보건진료소(064-799-4686)', 'lat': '33.4506270000', 'lon': '126.3047160000'}, {'num': 6, 'sido_nm': '제주', 'gugun_nm': '제주시', 'sta_nm': '금능으뜸원', 'beach_wid': None, 'beach_len': None, 'beach_knd': None, 'link_addr': 'http://www.jejutour.go.kr/contents/index.php?mid=TU&cat=TU03&dong=JJ03&act=view&seq=257', 'link_nm': '제주놀멍쉬멍', 'beach_img': None, 'link_tel': '제주시서부보건소(064-796-2911)', 'lat': '33.3897680000', 'lon': '126.2350910000'}, {'num': 7, 'sido_nm': '제주', 'gugun_nm': '제주시', 'sta_nm': '김녕성세기', 'beach_wid': 0.0, 'beach_len': 0.0, 'beach_knd': '모래', 'link_addr': 'http://www.jejutour.go.kr/contents/index.php?mid=TU&cat=TU03&dong=JJ02&act=view&seq=238', 'link_nm': '제주놀멍쉬멍', 'beach_img': None, 'link_tel': '제주시동부보건소(064-783-5042)', 'lat': '33.5577340000', 'lon': '126.7594630000'}, {'num': 8, 'sido_nm': '제주', 'gugun_nm': '제주시', 'sta_nm': '삼양검은모래', 'beach_wid': None, 'beach_len': None, 'beach_knd': None, 'link_addr': 'http://www.jejutour.go.kr/contents/index.php?mid=TU&cat=TU03&dong=JJ01&act=view&seq=228', 'link_nm': '제주놀멍쉬멍', 'beach_img': None, 'link_tel': '제주시동부보건소조천보건지소(064-783-6249)', 'lat': '33.5260160000', 'lon': '126.5858040000'}, {'num': 9, 'sido_nm': '제주', 'gugun_nm': '제주시', 'sta_nm': '이호테우', 'beach_wid': 60.0, 'beach_len': 600.0, 'beach_knd': '모래', 'link_addr': 'http://www.jejutour.go.kr/contents/index.php?mid=TU&cat=TU03&dong=JJ01&act=view&seq=209', 'link_nm': '제주놀멍쉬멍', 'beach_img': None, 'link_tel': '노형보건지소(064-728-8721)', 'lat': '33.4972630000', 'lon': '126.4518210000'}, {'num': 10, 'sido_nm': '제주', 'gugun_nm': '제주시', 'sta_nm': '함덕서우봉', 'beach_wid': 257.0, 'beach_len': 900.0, 'beach_knd': '모래', 'link_addr': 'http://www.jejutour.go.kr/contents/index.php?mid=TU&cat=TU03&dong=JJ02&act=view&seq=216', 'link_nm': '제주놀멍쉬멍', 'beach_img': None, 'link_tel': '제주시동부보건소조천보건지소(064-783-6249)', 'lat': '33.5432760000', 'lon': '126.6692790000'}, {'num': 11, 'sido_nm': '제주', 'gugun_nm': '제주시', 'sta_nm': '협재', 'beach_wid': 0.0, 'beach_len': 0.0, 'beach_knd': '모래', 'link_addr': 'http://www.jejutour.go.kr/contents/index.php?mid=TU&cat=TU03&dong=JJ03&act=view&seq=256', 'link_nm': '제주놀멍쉬멍', 'beach_img': None, 'link_tel': '제주시서부보건소(064-796-2911)', 'lat': '33.3941030000', 'lon': '126.2392100000'}]\n"
     ]
    }
   ],
   "source": [
    "item = json_ob['getOceansBeachInfo']['item']\n",
    "print(item)"
   ]
  },
  {
   "cell_type": "markdown",
   "id": "0361f5b2",
   "metadata": {},
   "source": [
    "### 1-4. 데이터프레임 형태로 저장하기\n",
    "데이터프레임 형태로 변환시킨 후 변환된 데이터프레임을 csv파일로 저장해보자"
   ]
  },
  {
   "cell_type": "code",
   "execution_count": 21,
   "id": "8514e74e",
   "metadata": {},
   "outputs": [
    {
     "name": "stdout",
     "output_type": "stream",
     "text": [
      "    num sido_nm gugun_nm  sta_nm  beach_wid  beach_len beach_knd  \\\n",
      "0     1      제주     서귀포시  신양섭지코지       80.0      300.0        모래   \n",
      "1     2      제주     서귀포시    중문색달       70.0      560.0        모래   \n",
      "2     3      제주     서귀포시   표선해비치      400.0      400.0      None   \n",
      "3     4      제주     서귀포시   화순금모래       40.0      250.0        모래   \n",
      "4     5      제주      제주시    곽지과물        0.0        0.0        모래   \n",
      "5     6      제주      제주시   금능으뜸원        NaN        NaN      None   \n",
      "6     7      제주      제주시   김녕성세기        0.0        0.0        모래   \n",
      "7     8      제주      제주시  삼양검은모래        NaN        NaN      None   \n",
      "8     9      제주      제주시    이호테우       60.0      600.0        모래   \n",
      "9    10      제주      제주시   함덕서우봉      257.0      900.0        모래   \n",
      "10   11      제주      제주시      협재        0.0        0.0        모래   \n",
      "\n",
      "                                            link_addr link_nm beach_img  \\\n",
      "0   http://www.jejutour.go.kr/contents/index.php?m...  제주놀멍쉬멍      None   \n",
      "1   http://www.jejutour.go.kr/contents/index.php?m...  제주놀멍쉬멍      None   \n",
      "2   http://www.jejutour.go.kr/contents/index.php?m...  제주놀멍쉬멍      None   \n",
      "3   http://www.jejutour.go.kr/contents/index.php?m...  제주놀멍쉬멍      None   \n",
      "4   http://www.jejutour.go.kr/contents/index.php?m...  제주놀멍쉬멍      None   \n",
      "5   http://www.jejutour.go.kr/contents/index.php?m...  제주놀멍쉬멍      None   \n",
      "6   http://www.jejutour.go.kr/contents/index.php?m...  제주놀멍쉬멍      None   \n",
      "7   http://www.jejutour.go.kr/contents/index.php?m...  제주놀멍쉬멍      None   \n",
      "8   http://www.jejutour.go.kr/contents/index.php?m...  제주놀멍쉬멍      None   \n",
      "9   http://www.jejutour.go.kr/contents/index.php?m...  제주놀멍쉬멍      None   \n",
      "10  http://www.jejutour.go.kr/contents/index.php?m...  제주놀멍쉬멍      None   \n",
      "\n",
      "                         link_tel            lat             lon  \n",
      "0         동부보건소성산지소(064-782-2368)  33.4348090000  126.9230210000  \n",
      "1        서귀포시중문보건지소(064-738-1605)  33.2451250000  126.4114820000  \n",
      "2         동부보건소표선지소(064-787-1304)  33.3279980000  126.8373550000  \n",
      "3   서귀포시서부보건소안덕보건지소(064-794-9101)  33.2399670000  126.3337090000  \n",
      "4    북제주군애월읍납읍보건진료소(064-799-4686)  33.4506270000  126.3047160000  \n",
      "5          제주시서부보건소(064-796-2911)  33.3897680000  126.2350910000  \n",
      "6          제주시동부보건소(064-783-5042)  33.5577340000  126.7594630000  \n",
      "7    제주시동부보건소조천보건지소(064-783-6249)  33.5260160000  126.5858040000  \n",
      "8            노형보건지소(064-728-8721)  33.4972630000  126.4518210000  \n",
      "9    제주시동부보건소조천보건지소(064-783-6249)  33.5432760000  126.6692790000  \n",
      "10         제주시서부보건소(064-796-2911)  33.3941030000  126.2392100000  \n"
     ]
    }
   ],
   "source": [
    "import pandas as pd\n",
    "\n",
    "dataframe = pd.json_normalize(item)\n",
    "\n",
    "print(dataframe)\n",
    "\n",
    "result = dataframe.to_csv('result.csv', index=False, encoding='CP949')"
   ]
  },
  {
   "cell_type": "markdown",
   "id": "40589305",
   "metadata": {},
   "source": [
    "## 2. 행정경계 데이터(제주) 불러오기"
   ]
  },
  {
   "cell_type": "markdown",
   "id": "1f7ae707",
   "metadata": {},
   "source": [
    "### 2-1. 국토지리원에서 제공하는 행정경계데이터의 형태를  확인"
   ]
  },
  {
   "cell_type": "code",
   "execution_count": 34,
   "id": "9f929c7c",
   "metadata": {
    "scrolled": true
   },
   "outputs": [
    {
     "data": {
      "text/html": [
       "<div>\n",
       "<style scoped>\n",
       "    .dataframe tbody tr th:only-of-type {\n",
       "        vertical-align: middle;\n",
       "    }\n",
       "\n",
       "    .dataframe tbody tr th {\n",
       "        vertical-align: top;\n",
       "    }\n",
       "\n",
       "    .dataframe thead th {\n",
       "        text-align: right;\n",
       "    }\n",
       "</style>\n",
       "<table border=\"1\" class=\"dataframe\">\n",
       "  <thead>\n",
       "    <tr style=\"text-align: right;\">\n",
       "      <th></th>\n",
       "      <th>ADM_SECT_C</th>\n",
       "      <th>SGG_NM</th>\n",
       "      <th>SGG_OID</th>\n",
       "      <th>COL_ADM_SE</th>\n",
       "      <th>geometry</th>\n",
       "    </tr>\n",
       "  </thead>\n",
       "  <tbody>\n",
       "    <tr>\n",
       "      <th>0</th>\n",
       "      <td>50110</td>\n",
       "      <td>제주도 제주시</td>\n",
       "      <td>690</td>\n",
       "      <td>50110</td>\n",
       "      <td>MULTIPOLYGON (((122257.877 76973.731, 122258.1...</td>\n",
       "    </tr>\n",
       "    <tr>\n",
       "      <th>1</th>\n",
       "      <td>50130</td>\n",
       "      <td>제주도 서귀포시</td>\n",
       "      <td>659</td>\n",
       "      <td>50130</td>\n",
       "      <td>MULTIPOLYGON (((131721.35 57965.02, 131719.25 ...</td>\n",
       "    </tr>\n",
       "  </tbody>\n",
       "</table>\n",
       "</div>"
      ],
      "text/plain": [
       "  ADM_SECT_C    SGG_NM  SGG_OID COL_ADM_SE  \\\n",
       "0      50110   제주도 제주시      690      50110   \n",
       "1      50130  제주도 서귀포시      659      50130   \n",
       "\n",
       "                                            geometry  \n",
       "0  MULTIPOLYGON (((122257.877 76973.731, 122258.1...  \n",
       "1  MULTIPOLYGON (((131721.35 57965.02, 131719.25 ...  "
      ]
     },
     "execution_count": 34,
     "metadata": {},
     "output_type": "execute_result"
    }
   ],
   "source": [
    "import geopandas as gpd\n",
    "from shapely.geometry import Polygon, LineString, Point\n",
    "\n",
    "jeju_sgg = gpd.read_file(\"C:/Users/GBOOK/PythonGeoSpatialAnalysis/archive/LARD_ADM_SECT_SGG_제주/LARD_ADM_SECT_SGG_50_202405.shp\")\n",
    "jeju_sgg\n"
   ]
  },
  {
   "cell_type": "markdown",
   "id": "1d62f446",
   "metadata": {},
   "source": [
    "불러온 jeju_sgg의 정보를 확인해보면 geodataframe 형태로 불러왔음을 알 수 있다."
   ]
  },
  {
   "cell_type": "code",
   "execution_count": 35,
   "id": "68e94551",
   "metadata": {
    "scrolled": true
   },
   "outputs": [
    {
     "name": "stdout",
     "output_type": "stream",
     "text": [
      "<class 'geopandas.geodataframe.GeoDataFrame'>\n",
      "RangeIndex: 2 entries, 0 to 1\n",
      "Data columns (total 5 columns):\n",
      " #   Column      Non-Null Count  Dtype   \n",
      "---  ------      --------------  -----   \n",
      " 0   ADM_SECT_C  2 non-null      object  \n",
      " 1   SGG_NM      2 non-null      object  \n",
      " 2   SGG_OID     2 non-null      int32   \n",
      " 3   COL_ADM_SE  2 non-null      object  \n",
      " 4   geometry    2 non-null      geometry\n",
      "dtypes: geometry(1), int32(1), object(3)\n",
      "memory usage: 204.0+ bytes\n"
     ]
    }
   ],
   "source": [
    "jeju_sgg.info()"
   ]
  },
  {
   "cell_type": "markdown",
   "id": "795d4fdf",
   "metadata": {},
   "source": [
    "## 3. 해수욕장 csv파일 geodataframe으로 변환"
   ]
  },
  {
   "cell_type": "markdown",
   "id": "81ca657d",
   "metadata": {},
   "source": [
    "### 3-1. 데이터 시각화"
   ]
  },
  {
   "cell_type": "code",
   "execution_count": 36,
   "id": "9091f061",
   "metadata": {},
   "outputs": [
    {
     "data": {
      "text/html": [
       "<div>\n",
       "<style scoped>\n",
       "    .dataframe tbody tr th:only-of-type {\n",
       "        vertical-align: middle;\n",
       "    }\n",
       "\n",
       "    .dataframe tbody tr th {\n",
       "        vertical-align: top;\n",
       "    }\n",
       "\n",
       "    .dataframe thead th {\n",
       "        text-align: right;\n",
       "    }\n",
       "</style>\n",
       "<table border=\"1\" class=\"dataframe\">\n",
       "  <thead>\n",
       "    <tr style=\"text-align: right;\">\n",
       "      <th></th>\n",
       "      <th>num</th>\n",
       "      <th>sido_nm</th>\n",
       "      <th>gugun_nm</th>\n",
       "      <th>sta_nm</th>\n",
       "      <th>beach_wid</th>\n",
       "      <th>beach_len</th>\n",
       "      <th>beach_knd</th>\n",
       "      <th>link_addr</th>\n",
       "      <th>link_nm</th>\n",
       "      <th>beach_img</th>\n",
       "      <th>link_tel</th>\n",
       "      <th>lat</th>\n",
       "      <th>lon</th>\n",
       "    </tr>\n",
       "  </thead>\n",
       "  <tbody>\n",
       "    <tr>\n",
       "      <th>0</th>\n",
       "      <td>1</td>\n",
       "      <td>제주</td>\n",
       "      <td>서귀포시</td>\n",
       "      <td>신양섭지코지</td>\n",
       "      <td>80.0</td>\n",
       "      <td>300.0</td>\n",
       "      <td>모래</td>\n",
       "      <td>http://www.jejutour.go.kr/contents/index.php?m...</td>\n",
       "      <td>제주놀멍쉬멍</td>\n",
       "      <td>NaN</td>\n",
       "      <td>동부보건소성산지소(064-782-2368)</td>\n",
       "      <td>33.434809</td>\n",
       "      <td>126.923021</td>\n",
       "    </tr>\n",
       "    <tr>\n",
       "      <th>1</th>\n",
       "      <td>2</td>\n",
       "      <td>제주</td>\n",
       "      <td>서귀포시</td>\n",
       "      <td>중문색달</td>\n",
       "      <td>70.0</td>\n",
       "      <td>560.0</td>\n",
       "      <td>모래</td>\n",
       "      <td>http://www.jejutour.go.kr/contents/index.php?m...</td>\n",
       "      <td>제주놀멍쉬멍</td>\n",
       "      <td>NaN</td>\n",
       "      <td>서귀포시중문보건지소(064-738-1605)</td>\n",
       "      <td>33.245125</td>\n",
       "      <td>126.411482</td>\n",
       "    </tr>\n",
       "    <tr>\n",
       "      <th>2</th>\n",
       "      <td>3</td>\n",
       "      <td>제주</td>\n",
       "      <td>서귀포시</td>\n",
       "      <td>표선해비치</td>\n",
       "      <td>400.0</td>\n",
       "      <td>400.0</td>\n",
       "      <td>NaN</td>\n",
       "      <td>http://www.jejutour.go.kr/contents/index.php?m...</td>\n",
       "      <td>제주놀멍쉬멍</td>\n",
       "      <td>NaN</td>\n",
       "      <td>동부보건소표선지소(064-787-1304)</td>\n",
       "      <td>33.327998</td>\n",
       "      <td>126.837355</td>\n",
       "    </tr>\n",
       "    <tr>\n",
       "      <th>3</th>\n",
       "      <td>4</td>\n",
       "      <td>제주</td>\n",
       "      <td>서귀포시</td>\n",
       "      <td>화순금모래</td>\n",
       "      <td>40.0</td>\n",
       "      <td>250.0</td>\n",
       "      <td>모래</td>\n",
       "      <td>http://www.jejutour.go.kr/contents/index.php?m...</td>\n",
       "      <td>제주놀멍쉬멍</td>\n",
       "      <td>NaN</td>\n",
       "      <td>서귀포시서부보건소안덕보건지소(064-794-9101)</td>\n",
       "      <td>33.239967</td>\n",
       "      <td>126.333709</td>\n",
       "    </tr>\n",
       "    <tr>\n",
       "      <th>4</th>\n",
       "      <td>5</td>\n",
       "      <td>제주</td>\n",
       "      <td>제주시</td>\n",
       "      <td>곽지과물</td>\n",
       "      <td>0.0</td>\n",
       "      <td>0.0</td>\n",
       "      <td>모래</td>\n",
       "      <td>http://www.jejutour.go.kr/contents/index.php?m...</td>\n",
       "      <td>제주놀멍쉬멍</td>\n",
       "      <td>NaN</td>\n",
       "      <td>북제주군애월읍납읍보건진료소(064-799-4686)</td>\n",
       "      <td>33.450627</td>\n",
       "      <td>126.304716</td>\n",
       "    </tr>\n",
       "    <tr>\n",
       "      <th>5</th>\n",
       "      <td>6</td>\n",
       "      <td>제주</td>\n",
       "      <td>제주시</td>\n",
       "      <td>금능으뜸원</td>\n",
       "      <td>NaN</td>\n",
       "      <td>NaN</td>\n",
       "      <td>NaN</td>\n",
       "      <td>http://www.jejutour.go.kr/contents/index.php?m...</td>\n",
       "      <td>제주놀멍쉬멍</td>\n",
       "      <td>NaN</td>\n",
       "      <td>제주시서부보건소(064-796-2911)</td>\n",
       "      <td>33.389768</td>\n",
       "      <td>126.235091</td>\n",
       "    </tr>\n",
       "    <tr>\n",
       "      <th>6</th>\n",
       "      <td>7</td>\n",
       "      <td>제주</td>\n",
       "      <td>제주시</td>\n",
       "      <td>김녕성세기</td>\n",
       "      <td>0.0</td>\n",
       "      <td>0.0</td>\n",
       "      <td>모래</td>\n",
       "      <td>http://www.jejutour.go.kr/contents/index.php?m...</td>\n",
       "      <td>제주놀멍쉬멍</td>\n",
       "      <td>NaN</td>\n",
       "      <td>제주시동부보건소(064-783-5042)</td>\n",
       "      <td>33.557734</td>\n",
       "      <td>126.759463</td>\n",
       "    </tr>\n",
       "    <tr>\n",
       "      <th>7</th>\n",
       "      <td>8</td>\n",
       "      <td>제주</td>\n",
       "      <td>제주시</td>\n",
       "      <td>삼양검은모래</td>\n",
       "      <td>NaN</td>\n",
       "      <td>NaN</td>\n",
       "      <td>NaN</td>\n",
       "      <td>http://www.jejutour.go.kr/contents/index.php?m...</td>\n",
       "      <td>제주놀멍쉬멍</td>\n",
       "      <td>NaN</td>\n",
       "      <td>제주시동부보건소조천보건지소(064-783-6249)</td>\n",
       "      <td>33.526016</td>\n",
       "      <td>126.585804</td>\n",
       "    </tr>\n",
       "    <tr>\n",
       "      <th>8</th>\n",
       "      <td>9</td>\n",
       "      <td>제주</td>\n",
       "      <td>제주시</td>\n",
       "      <td>이호테우</td>\n",
       "      <td>60.0</td>\n",
       "      <td>600.0</td>\n",
       "      <td>모래</td>\n",
       "      <td>http://www.jejutour.go.kr/contents/index.php?m...</td>\n",
       "      <td>제주놀멍쉬멍</td>\n",
       "      <td>NaN</td>\n",
       "      <td>노형보건지소(064-728-8721)</td>\n",
       "      <td>33.497263</td>\n",
       "      <td>126.451821</td>\n",
       "    </tr>\n",
       "    <tr>\n",
       "      <th>9</th>\n",
       "      <td>10</td>\n",
       "      <td>제주</td>\n",
       "      <td>제주시</td>\n",
       "      <td>함덕서우봉</td>\n",
       "      <td>257.0</td>\n",
       "      <td>900.0</td>\n",
       "      <td>모래</td>\n",
       "      <td>http://www.jejutour.go.kr/contents/index.php?m...</td>\n",
       "      <td>제주놀멍쉬멍</td>\n",
       "      <td>NaN</td>\n",
       "      <td>제주시동부보건소조천보건지소(064-783-6249)</td>\n",
       "      <td>33.543276</td>\n",
       "      <td>126.669279</td>\n",
       "    </tr>\n",
       "    <tr>\n",
       "      <th>10</th>\n",
       "      <td>11</td>\n",
       "      <td>제주</td>\n",
       "      <td>제주시</td>\n",
       "      <td>협재</td>\n",
       "      <td>0.0</td>\n",
       "      <td>0.0</td>\n",
       "      <td>모래</td>\n",
       "      <td>http://www.jejutour.go.kr/contents/index.php?m...</td>\n",
       "      <td>제주놀멍쉬멍</td>\n",
       "      <td>NaN</td>\n",
       "      <td>제주시서부보건소(064-796-2911)</td>\n",
       "      <td>33.394103</td>\n",
       "      <td>126.239210</td>\n",
       "    </tr>\n",
       "  </tbody>\n",
       "</table>\n",
       "</div>"
      ],
      "text/plain": [
       "    num sido_nm gugun_nm  sta_nm  beach_wid  beach_len beach_knd  \\\n",
       "0     1      제주     서귀포시  신양섭지코지       80.0      300.0        모래   \n",
       "1     2      제주     서귀포시    중문색달       70.0      560.0        모래   \n",
       "2     3      제주     서귀포시   표선해비치      400.0      400.0       NaN   \n",
       "3     4      제주     서귀포시   화순금모래       40.0      250.0        모래   \n",
       "4     5      제주      제주시    곽지과물        0.0        0.0        모래   \n",
       "5     6      제주      제주시   금능으뜸원        NaN        NaN       NaN   \n",
       "6     7      제주      제주시   김녕성세기        0.0        0.0        모래   \n",
       "7     8      제주      제주시  삼양검은모래        NaN        NaN       NaN   \n",
       "8     9      제주      제주시    이호테우       60.0      600.0        모래   \n",
       "9    10      제주      제주시   함덕서우봉      257.0      900.0        모래   \n",
       "10   11      제주      제주시      협재        0.0        0.0        모래   \n",
       "\n",
       "                                            link_addr link_nm  beach_img  \\\n",
       "0   http://www.jejutour.go.kr/contents/index.php?m...  제주놀멍쉬멍        NaN   \n",
       "1   http://www.jejutour.go.kr/contents/index.php?m...  제주놀멍쉬멍        NaN   \n",
       "2   http://www.jejutour.go.kr/contents/index.php?m...  제주놀멍쉬멍        NaN   \n",
       "3   http://www.jejutour.go.kr/contents/index.php?m...  제주놀멍쉬멍        NaN   \n",
       "4   http://www.jejutour.go.kr/contents/index.php?m...  제주놀멍쉬멍        NaN   \n",
       "5   http://www.jejutour.go.kr/contents/index.php?m...  제주놀멍쉬멍        NaN   \n",
       "6   http://www.jejutour.go.kr/contents/index.php?m...  제주놀멍쉬멍        NaN   \n",
       "7   http://www.jejutour.go.kr/contents/index.php?m...  제주놀멍쉬멍        NaN   \n",
       "8   http://www.jejutour.go.kr/contents/index.php?m...  제주놀멍쉬멍        NaN   \n",
       "9   http://www.jejutour.go.kr/contents/index.php?m...  제주놀멍쉬멍        NaN   \n",
       "10  http://www.jejutour.go.kr/contents/index.php?m...  제주놀멍쉬멍        NaN   \n",
       "\n",
       "                         link_tel        lat         lon  \n",
       "0         동부보건소성산지소(064-782-2368)  33.434809  126.923021  \n",
       "1        서귀포시중문보건지소(064-738-1605)  33.245125  126.411482  \n",
       "2         동부보건소표선지소(064-787-1304)  33.327998  126.837355  \n",
       "3   서귀포시서부보건소안덕보건지소(064-794-9101)  33.239967  126.333709  \n",
       "4    북제주군애월읍납읍보건진료소(064-799-4686)  33.450627  126.304716  \n",
       "5          제주시서부보건소(064-796-2911)  33.389768  126.235091  \n",
       "6          제주시동부보건소(064-783-5042)  33.557734  126.759463  \n",
       "7    제주시동부보건소조천보건지소(064-783-6249)  33.526016  126.585804  \n",
       "8            노형보건지소(064-728-8721)  33.497263  126.451821  \n",
       "9    제주시동부보건소조천보건지소(064-783-6249)  33.543276  126.669279  \n",
       "10         제주시서부보건소(064-796-2911)  33.394103  126.239210  "
      ]
     },
     "execution_count": 36,
     "metadata": {},
     "output_type": "execute_result"
    }
   ],
   "source": [
    "# pandas를 통해 해수욕장 csv 파일 불러기기\n",
    "jeju_beach = pd.read_csv(\"C:/Users/GBOOK/PythonGeoSpatialAnalysis/result.csv\", encoding='CP949')\n",
    "jeju_beach"
   ]
  },
  {
   "cell_type": "code",
   "execution_count": 37,
   "id": "864a94cd",
   "metadata": {},
   "outputs": [
    {
     "name": "stdout",
     "output_type": "stream",
     "text": [
      "<class 'pandas.core.frame.DataFrame'>\n",
      "RangeIndex: 11 entries, 0 to 10\n",
      "Data columns (total 13 columns):\n",
      " #   Column     Non-Null Count  Dtype  \n",
      "---  ------     --------------  -----  \n",
      " 0   num        11 non-null     int64  \n",
      " 1   sido_nm    11 non-null     object \n",
      " 2   gugun_nm   11 non-null     object \n",
      " 3   sta_nm     11 non-null     object \n",
      " 4   beach_wid  9 non-null      float64\n",
      " 5   beach_len  9 non-null      float64\n",
      " 6   beach_knd  8 non-null      object \n",
      " 7   link_addr  11 non-null     object \n",
      " 8   link_nm    11 non-null     object \n",
      " 9   beach_img  0 non-null      float64\n",
      " 10  link_tel   11 non-null     object \n",
      " 11  lat        11 non-null     float64\n",
      " 12  lon        11 non-null     float64\n",
      "dtypes: float64(5), int64(1), object(7)\n",
      "memory usage: 1.2+ KB\n"
     ]
    }
   ],
   "source": [
    "# 데이터에 lat, lon 컬럼이 존재한다.\n",
    "jeju_beach.info()"
   ]
  },
  {
   "cell_type": "code",
   "execution_count": 38,
   "id": "65dce1a6",
   "metadata": {
    "scrolled": true
   },
   "outputs": [
    {
     "data": {
      "text/html": [
       "<div>\n",
       "<style scoped>\n",
       "    .dataframe tbody tr th:only-of-type {\n",
       "        vertical-align: middle;\n",
       "    }\n",
       "\n",
       "    .dataframe tbody tr th {\n",
       "        vertical-align: top;\n",
       "    }\n",
       "\n",
       "    .dataframe thead th {\n",
       "        text-align: right;\n",
       "    }\n",
       "</style>\n",
       "<table border=\"1\" class=\"dataframe\">\n",
       "  <thead>\n",
       "    <tr style=\"text-align: right;\">\n",
       "      <th></th>\n",
       "      <th>num</th>\n",
       "      <th>sido_nm</th>\n",
       "      <th>gugun_nm</th>\n",
       "      <th>sta_nm</th>\n",
       "      <th>beach_wid</th>\n",
       "      <th>beach_len</th>\n",
       "      <th>beach_knd</th>\n",
       "      <th>link_addr</th>\n",
       "      <th>link_nm</th>\n",
       "      <th>beach_img</th>\n",
       "      <th>link_tel</th>\n",
       "      <th>lat</th>\n",
       "      <th>lon</th>\n",
       "      <th>geometry</th>\n",
       "    </tr>\n",
       "  </thead>\n",
       "  <tbody>\n",
       "    <tr>\n",
       "      <th>0</th>\n",
       "      <td>1</td>\n",
       "      <td>제주</td>\n",
       "      <td>서귀포시</td>\n",
       "      <td>신양섭지코지</td>\n",
       "      <td>80.0</td>\n",
       "      <td>300.0</td>\n",
       "      <td>모래</td>\n",
       "      <td>http://www.jejutour.go.kr/contents/index.php?m...</td>\n",
       "      <td>제주놀멍쉬멍</td>\n",
       "      <td>NaN</td>\n",
       "      <td>동부보건소성산지소(064-782-2368)</td>\n",
       "      <td>33.434809</td>\n",
       "      <td>126.923021</td>\n",
       "      <td>POINT (126.92302 33.43481)</td>\n",
       "    </tr>\n",
       "    <tr>\n",
       "      <th>1</th>\n",
       "      <td>2</td>\n",
       "      <td>제주</td>\n",
       "      <td>서귀포시</td>\n",
       "      <td>중문색달</td>\n",
       "      <td>70.0</td>\n",
       "      <td>560.0</td>\n",
       "      <td>모래</td>\n",
       "      <td>http://www.jejutour.go.kr/contents/index.php?m...</td>\n",
       "      <td>제주놀멍쉬멍</td>\n",
       "      <td>NaN</td>\n",
       "      <td>서귀포시중문보건지소(064-738-1605)</td>\n",
       "      <td>33.245125</td>\n",
       "      <td>126.411482</td>\n",
       "      <td>POINT (126.41148 33.24512)</td>\n",
       "    </tr>\n",
       "    <tr>\n",
       "      <th>2</th>\n",
       "      <td>3</td>\n",
       "      <td>제주</td>\n",
       "      <td>서귀포시</td>\n",
       "      <td>표선해비치</td>\n",
       "      <td>400.0</td>\n",
       "      <td>400.0</td>\n",
       "      <td>NaN</td>\n",
       "      <td>http://www.jejutour.go.kr/contents/index.php?m...</td>\n",
       "      <td>제주놀멍쉬멍</td>\n",
       "      <td>NaN</td>\n",
       "      <td>동부보건소표선지소(064-787-1304)</td>\n",
       "      <td>33.327998</td>\n",
       "      <td>126.837355</td>\n",
       "      <td>POINT (126.83736 33.328)</td>\n",
       "    </tr>\n",
       "    <tr>\n",
       "      <th>3</th>\n",
       "      <td>4</td>\n",
       "      <td>제주</td>\n",
       "      <td>서귀포시</td>\n",
       "      <td>화순금모래</td>\n",
       "      <td>40.0</td>\n",
       "      <td>250.0</td>\n",
       "      <td>모래</td>\n",
       "      <td>http://www.jejutour.go.kr/contents/index.php?m...</td>\n",
       "      <td>제주놀멍쉬멍</td>\n",
       "      <td>NaN</td>\n",
       "      <td>서귀포시서부보건소안덕보건지소(064-794-9101)</td>\n",
       "      <td>33.239967</td>\n",
       "      <td>126.333709</td>\n",
       "      <td>POINT (126.33371 33.23997)</td>\n",
       "    </tr>\n",
       "    <tr>\n",
       "      <th>4</th>\n",
       "      <td>5</td>\n",
       "      <td>제주</td>\n",
       "      <td>제주시</td>\n",
       "      <td>곽지과물</td>\n",
       "      <td>0.0</td>\n",
       "      <td>0.0</td>\n",
       "      <td>모래</td>\n",
       "      <td>http://www.jejutour.go.kr/contents/index.php?m...</td>\n",
       "      <td>제주놀멍쉬멍</td>\n",
       "      <td>NaN</td>\n",
       "      <td>북제주군애월읍납읍보건진료소(064-799-4686)</td>\n",
       "      <td>33.450627</td>\n",
       "      <td>126.304716</td>\n",
       "      <td>POINT (126.30472 33.45063)</td>\n",
       "    </tr>\n",
       "    <tr>\n",
       "      <th>5</th>\n",
       "      <td>6</td>\n",
       "      <td>제주</td>\n",
       "      <td>제주시</td>\n",
       "      <td>금능으뜸원</td>\n",
       "      <td>NaN</td>\n",
       "      <td>NaN</td>\n",
       "      <td>NaN</td>\n",
       "      <td>http://www.jejutour.go.kr/contents/index.php?m...</td>\n",
       "      <td>제주놀멍쉬멍</td>\n",
       "      <td>NaN</td>\n",
       "      <td>제주시서부보건소(064-796-2911)</td>\n",
       "      <td>33.389768</td>\n",
       "      <td>126.235091</td>\n",
       "      <td>POINT (126.23509 33.38977)</td>\n",
       "    </tr>\n",
       "    <tr>\n",
       "      <th>6</th>\n",
       "      <td>7</td>\n",
       "      <td>제주</td>\n",
       "      <td>제주시</td>\n",
       "      <td>김녕성세기</td>\n",
       "      <td>0.0</td>\n",
       "      <td>0.0</td>\n",
       "      <td>모래</td>\n",
       "      <td>http://www.jejutour.go.kr/contents/index.php?m...</td>\n",
       "      <td>제주놀멍쉬멍</td>\n",
       "      <td>NaN</td>\n",
       "      <td>제주시동부보건소(064-783-5042)</td>\n",
       "      <td>33.557734</td>\n",
       "      <td>126.759463</td>\n",
       "      <td>POINT (126.75946 33.55773)</td>\n",
       "    </tr>\n",
       "    <tr>\n",
       "      <th>7</th>\n",
       "      <td>8</td>\n",
       "      <td>제주</td>\n",
       "      <td>제주시</td>\n",
       "      <td>삼양검은모래</td>\n",
       "      <td>NaN</td>\n",
       "      <td>NaN</td>\n",
       "      <td>NaN</td>\n",
       "      <td>http://www.jejutour.go.kr/contents/index.php?m...</td>\n",
       "      <td>제주놀멍쉬멍</td>\n",
       "      <td>NaN</td>\n",
       "      <td>제주시동부보건소조천보건지소(064-783-6249)</td>\n",
       "      <td>33.526016</td>\n",
       "      <td>126.585804</td>\n",
       "      <td>POINT (126.5858 33.52602)</td>\n",
       "    </tr>\n",
       "    <tr>\n",
       "      <th>8</th>\n",
       "      <td>9</td>\n",
       "      <td>제주</td>\n",
       "      <td>제주시</td>\n",
       "      <td>이호테우</td>\n",
       "      <td>60.0</td>\n",
       "      <td>600.0</td>\n",
       "      <td>모래</td>\n",
       "      <td>http://www.jejutour.go.kr/contents/index.php?m...</td>\n",
       "      <td>제주놀멍쉬멍</td>\n",
       "      <td>NaN</td>\n",
       "      <td>노형보건지소(064-728-8721)</td>\n",
       "      <td>33.497263</td>\n",
       "      <td>126.451821</td>\n",
       "      <td>POINT (126.45182 33.49726)</td>\n",
       "    </tr>\n",
       "    <tr>\n",
       "      <th>9</th>\n",
       "      <td>10</td>\n",
       "      <td>제주</td>\n",
       "      <td>제주시</td>\n",
       "      <td>함덕서우봉</td>\n",
       "      <td>257.0</td>\n",
       "      <td>900.0</td>\n",
       "      <td>모래</td>\n",
       "      <td>http://www.jejutour.go.kr/contents/index.php?m...</td>\n",
       "      <td>제주놀멍쉬멍</td>\n",
       "      <td>NaN</td>\n",
       "      <td>제주시동부보건소조천보건지소(064-783-6249)</td>\n",
       "      <td>33.543276</td>\n",
       "      <td>126.669279</td>\n",
       "      <td>POINT (126.66928 33.54328)</td>\n",
       "    </tr>\n",
       "    <tr>\n",
       "      <th>10</th>\n",
       "      <td>11</td>\n",
       "      <td>제주</td>\n",
       "      <td>제주시</td>\n",
       "      <td>협재</td>\n",
       "      <td>0.0</td>\n",
       "      <td>0.0</td>\n",
       "      <td>모래</td>\n",
       "      <td>http://www.jejutour.go.kr/contents/index.php?m...</td>\n",
       "      <td>제주놀멍쉬멍</td>\n",
       "      <td>NaN</td>\n",
       "      <td>제주시서부보건소(064-796-2911)</td>\n",
       "      <td>33.394103</td>\n",
       "      <td>126.239210</td>\n",
       "      <td>POINT (126.23921 33.3941)</td>\n",
       "    </tr>\n",
       "  </tbody>\n",
       "</table>\n",
       "</div>"
      ],
      "text/plain": [
       "    num sido_nm gugun_nm  sta_nm  beach_wid  beach_len beach_knd  \\\n",
       "0     1      제주     서귀포시  신양섭지코지       80.0      300.0        모래   \n",
       "1     2      제주     서귀포시    중문색달       70.0      560.0        모래   \n",
       "2     3      제주     서귀포시   표선해비치      400.0      400.0       NaN   \n",
       "3     4      제주     서귀포시   화순금모래       40.0      250.0        모래   \n",
       "4     5      제주      제주시    곽지과물        0.0        0.0        모래   \n",
       "5     6      제주      제주시   금능으뜸원        NaN        NaN       NaN   \n",
       "6     7      제주      제주시   김녕성세기        0.0        0.0        모래   \n",
       "7     8      제주      제주시  삼양검은모래        NaN        NaN       NaN   \n",
       "8     9      제주      제주시    이호테우       60.0      600.0        모래   \n",
       "9    10      제주      제주시   함덕서우봉      257.0      900.0        모래   \n",
       "10   11      제주      제주시      협재        0.0        0.0        모래   \n",
       "\n",
       "                                            link_addr link_nm  beach_img  \\\n",
       "0   http://www.jejutour.go.kr/contents/index.php?m...  제주놀멍쉬멍        NaN   \n",
       "1   http://www.jejutour.go.kr/contents/index.php?m...  제주놀멍쉬멍        NaN   \n",
       "2   http://www.jejutour.go.kr/contents/index.php?m...  제주놀멍쉬멍        NaN   \n",
       "3   http://www.jejutour.go.kr/contents/index.php?m...  제주놀멍쉬멍        NaN   \n",
       "4   http://www.jejutour.go.kr/contents/index.php?m...  제주놀멍쉬멍        NaN   \n",
       "5   http://www.jejutour.go.kr/contents/index.php?m...  제주놀멍쉬멍        NaN   \n",
       "6   http://www.jejutour.go.kr/contents/index.php?m...  제주놀멍쉬멍        NaN   \n",
       "7   http://www.jejutour.go.kr/contents/index.php?m...  제주놀멍쉬멍        NaN   \n",
       "8   http://www.jejutour.go.kr/contents/index.php?m...  제주놀멍쉬멍        NaN   \n",
       "9   http://www.jejutour.go.kr/contents/index.php?m...  제주놀멍쉬멍        NaN   \n",
       "10  http://www.jejutour.go.kr/contents/index.php?m...  제주놀멍쉬멍        NaN   \n",
       "\n",
       "                         link_tel        lat         lon  \\\n",
       "0         동부보건소성산지소(064-782-2368)  33.434809  126.923021   \n",
       "1        서귀포시중문보건지소(064-738-1605)  33.245125  126.411482   \n",
       "2         동부보건소표선지소(064-787-1304)  33.327998  126.837355   \n",
       "3   서귀포시서부보건소안덕보건지소(064-794-9101)  33.239967  126.333709   \n",
       "4    북제주군애월읍납읍보건진료소(064-799-4686)  33.450627  126.304716   \n",
       "5          제주시서부보건소(064-796-2911)  33.389768  126.235091   \n",
       "6          제주시동부보건소(064-783-5042)  33.557734  126.759463   \n",
       "7    제주시동부보건소조천보건지소(064-783-6249)  33.526016  126.585804   \n",
       "8            노형보건지소(064-728-8721)  33.497263  126.451821   \n",
       "9    제주시동부보건소조천보건지소(064-783-6249)  33.543276  126.669279   \n",
       "10         제주시서부보건소(064-796-2911)  33.394103  126.239210   \n",
       "\n",
       "                      geometry  \n",
       "0   POINT (126.92302 33.43481)  \n",
       "1   POINT (126.41148 33.24512)  \n",
       "2     POINT (126.83736 33.328)  \n",
       "3   POINT (126.33371 33.23997)  \n",
       "4   POINT (126.30472 33.45063)  \n",
       "5   POINT (126.23509 33.38977)  \n",
       "6   POINT (126.75946 33.55773)  \n",
       "7    POINT (126.5858 33.52602)  \n",
       "8   POINT (126.45182 33.49726)  \n",
       "9   POINT (126.66928 33.54328)  \n",
       "10   POINT (126.23921 33.3941)  "
      ]
     },
     "execution_count": 38,
     "metadata": {},
     "output_type": "execute_result"
    }
   ],
   "source": [
    "# geometry 컬럼을 새롭게 생성해주고 lat, lon 좌표 컬럼을 lambda 함수로 입력한다.\n",
    "jeju_beach['geometry'] = jeju_beach.apply(lambda row: Point([row['lon'], row['lat']]), axis=1)\n",
    "# geometry 컬럼이 추가된 jeju_beach 데이터를 GeoDataFrame으로 변환해준다.\n",
    "jeju_beach = gpd.GeoDataFrame(jeju_beach, geometry='geometry')\n",
    "jeju_beach"
   ]
  },
  {
   "cell_type": "code",
   "execution_count": 39,
   "id": "34bbd7f7",
   "metadata": {},
   "outputs": [
    {
     "name": "stdout",
     "output_type": "stream",
     "text": [
      "<class 'geopandas.geodataframe.GeoDataFrame'>\n",
      "RangeIndex: 11 entries, 0 to 10\n",
      "Data columns (total 14 columns):\n",
      " #   Column     Non-Null Count  Dtype   \n",
      "---  ------     --------------  -----   \n",
      " 0   num        11 non-null     int64   \n",
      " 1   sido_nm    11 non-null     object  \n",
      " 2   gugun_nm   11 non-null     object  \n",
      " 3   sta_nm     11 non-null     object  \n",
      " 4   beach_wid  9 non-null      float64 \n",
      " 5   beach_len  9 non-null      float64 \n",
      " 6   beach_knd  8 non-null      object  \n",
      " 7   link_addr  11 non-null     object  \n",
      " 8   link_nm    11 non-null     object  \n",
      " 9   beach_img  0 non-null      float64 \n",
      " 10  link_tel   11 non-null     object  \n",
      " 11  lat        11 non-null     float64 \n",
      " 12  lon        11 non-null     float64 \n",
      " 13  geometry   11 non-null     geometry\n",
      "dtypes: float64(5), geometry(1), int64(1), object(7)\n",
      "memory usage: 1.3+ KB\n"
     ]
    }
   ],
   "source": [
    "jeju_beach.info()"
   ]
  },
  {
   "cell_type": "markdown",
   "id": "a8b6dbef",
   "metadata": {},
   "source": [
    "## 4. 데이터 좌표계 정의"
   ]
  },
  {
   "cell_type": "code",
   "execution_count": 40,
   "id": "58905333",
   "metadata": {
    "scrolled": true
   },
   "outputs": [
    {
     "name": "stdout",
     "output_type": "stream",
     "text": [
      "PROJCS[\"Korea_2000_Korea_Central_Belt_2010\",GEOGCS[\"GCS_Korea_2000\",DATUM[\"Korean_Geodetic_Datum_2002\",SPHEROID[\"GRS 1980\",6378137,298.257222101,AUTHORITY[\"EPSG\",\"7019\"]],AUTHORITY[\"EPSG\",\"6737\"]],PRIMEM[\"Greenwich\",0],UNIT[\"Degree\",0.0174532925199433]],PROJECTION[\"Transverse_Mercator\"],PARAMETER[\"latitude_of_origin\",38],PARAMETER[\"central_meridian\",127],PARAMETER[\"scale_factor\",1],PARAMETER[\"false_easting\",200000],PARAMETER[\"false_northing\",600000],UNIT[\"metre\",1,AUTHORITY[\"EPSG\",\"9001\"]],AXIS[\"Easting\",EAST],AXIS[\"Northing\",NORTH]]\n",
      "None\n"
     ]
    }
   ],
   "source": [
    "# 지리원의 행정경계 데이터의 좌표계 확인\n",
    "print(jeju_sgg.crs)\n",
    "# EPSG 5186\n",
    "print(jeju_beach.crs)"
   ]
  },
  {
   "cell_type": "code",
   "execution_count": 42,
   "id": "7ca13a5a",
   "metadata": {},
   "outputs": [],
   "source": [
    "jeju_sgg.crs = {'init':'epsg:5186'}\n",
    "jeju_beach.crs = {'init':'epsg:4326'}"
   ]
  },
  {
   "cell_type": "code",
   "execution_count": 43,
   "id": "b03e7033",
   "metadata": {},
   "outputs": [
    {
     "name": "stdout",
     "output_type": "stream",
     "text": [
      "+init=epsg:5186 +type=crs\n",
      "+init=epsg:4326 +type=crs\n"
     ]
    }
   ],
   "source": [
    "# jeju_sgg(행정경계 데이터)와 jeju_beach(제주 해수욕장) 데이터의 좌표계가 서로 일치하지 않는다. \n",
    "print(jeju_sgg.crs)\n",
    "print(jeju_beach.crs)"
   ]
  },
  {
   "cell_type": "code",
   "execution_count": 44,
   "id": "3e2980b5",
   "metadata": {},
   "outputs": [
    {
     "name": "stdout",
     "output_type": "stream",
     "text": [
      "+init=epsg:5186 +type=crs\n"
     ]
    }
   ],
   "source": [
    "# jeju_beach 데이터를 jeju_sgg 데이터의 좌표계와 일치하도록 설정한다.\n",
    "jeju_beach = jeju_beach.to_crs({'init':'epsg:5186'})\n",
    "print(jeju_beach.crs)"
   ]
  },
  {
   "cell_type": "markdown",
   "id": "283e789d",
   "metadata": {},
   "source": [
    "## 5. 맵에 그리기"
   ]
  },
  {
   "cell_type": "code",
   "execution_count": 56,
   "id": "cd658b48",
   "metadata": {},
   "outputs": [],
   "source": [
    "# folium map 대신 matplotlib을 활용해서 plot을 생성한다.\n",
    "import matplotlib.pyplot as plt\n",
    "import matplotlib as mpl\n",
    "\n",
    "mpl.rc('font', family='Malgun Gothic')\n",
    "\n"
   ]
  },
  {
   "cell_type": "code",
   "execution_count": 59,
   "id": "e8730791",
   "metadata": {},
   "outputs": [
    {
     "data": {
      "image/png": "[encoded data removed]",
      "text/plain": [
       "<Figure size 1000x1000 with 1 Axes>"
      ]
     },
     "metadata": {},
     "output_type": "display_data"
    }
   ],
   "source": [
    "ax = jeju_sgg.plot(column='SGG_NM', figsize=(10, 10), alpha=0.8)\n",
    "jeju_beach.plot(ax=ax, marker='v', color='red', label='beach')\n",
    "\n",
    "for x, y, label in zip(jeju_beach.geometry.x, jeju_beach.geometry.y, jeju_beach['sta_nm']):\n",
    "    ax.text(x, y, label, fontsize=8, ha='right', color='blue')\n",
    "    \n",
    "ax.set_title('Beach of Jeju Island', fontsize=20)\n",
    "ax.set_axis_off()\n",
    "plt.legend()\n",
    "plt.show()"
   ]
  },
  {
   "cell_type": "markdown",
   "id": "52528b4e-d686-42cd-9bb9-7a801ab6d452",
   "metadata": {},
   "source": [
    "<제주도 해수욕장 시각화>\n",
    "- API를 호출하여 JSON 파일로 저장 및 필요한 데이터만 추출한다.\n",
    "- 좌표정보가 포함된 csv파일을 GeoDataFrame 형태로 변환한다.\n",
    "- 좌표계가 서로 일치하지 않은 두 개의 데이터가 존재할 경우 좌표계를 통일한다.\n",
    "- 데이터를 plot하여 표현한다."
   ]
  }
 ],
 "metadata": {
  "kernelspec": {
   "display_name": "Python 3 (ipykernel)",
   "language": "python",
   "name": "python3"
  },
  "language_info": {
   "codemirror_mode": {
    "name": "ipython",
    "version": 3
   },
   "file_extension": ".py",
   "mimetype": "text/x-python",
   "name": "python",
   "nbconvert_exporter": "python",
   "pygments_lexer": "ipython3",
   "version": "3.12.7"
  }
 },
 "nbformat": 4,
 "nbformat_minor": 5
}
