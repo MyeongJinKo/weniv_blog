{
 "cells": [
  {
   "cell_type": "markdown",
   "id": "b6504206",
   "metadata": {},
   "source": [
    "# 캐글 자전거 수요 예측 프로젝트\n",
    "코드잇 데이터분석 스프린트 미션 14번째 주제 : 공유자전거 대여 수요 예측\n",
    "## 1. 분석 주제 : \n",
    "워싱턴DC의 공유자전거 수요를 예측\n",
    "## 2. 분석 목표 : \n",
    "날씨, 날짜, 풍속, 습도 등 다양한 변수를 통해 자전거 대여 수를 예측하여 가장 높은 RMSLE 값을 산출\n",
    "## 3. 분석 데이터셋 :\n",
    "### 3-1. 데이터 컬럼 설명\n",
    "| 컬럼명      | 데이터 타입 | 데이터 설명                                                                 |\n",
    "|-------------|--------------|------------------------------------------------------------------------------|\n",
    "| datetime    | datetime     | 자전거 대여 기록의 날짜 및 시간. 예시: 2011-01-01 00:00:00                  |\n",
    "| season      | int          | 계절 (1: 봄, 2: 여름, 3: 가을, 4: 겨울)                                    |\n",
    "| holiday     | int          | 공휴일 여부 (0: 평일, 1: 공휴일)                                           |\n",
    "| workingday  | int          | 근무일 여부 (0: 주말/공휴일, 1: 근무일)                                     |\n",
    "| weather     | int          | 날씨 상황 (1: 맑음, 2: 구름낌/안개, 3: 약간의 비/눈, 4: 폭우/폭설)          |\n",
    "| temp        | float        | 실측 온도 (섭씨)                                                           |\n",
    "| atemp       | float        | 체감 온도 (섭씨)                                                           |\n",
    "| humidity    | int          | 습도 (%)                                                                   |\n",
    "| windspeed   | float        | 풍속 (m/s)                                                                 |\n",
    "| casual      | int          | 등록되지 않은 사용자의 대여 수                                             |\n",
    "| registered  | int          | 등록된 사용자의 대여 수                                                   |\n",
    "| count       | int          | 총 대여 수 (종속 변수)                                                    |\n",
    "## 4. 분석 방법 :\n",
    "- 전체적인 분석은 회귀분석을 진행\n",
    "- k-fold 모델 교차 검증을 통해 검증 정확도를 향상\n",
    "- 하이퍼 파라미터 튜닝을 통해 최적의 파라미터 값을 도출\n",
    "## 5. 분석 결과 : 최종 RMSLE값은 약 0.3208 도출"
   ]
  },
  {
   "cell_type": "code",
   "execution_count": 1,
   "id": "366e92b2",
   "metadata": {},
   "outputs": [],
   "source": [
    "import pandas as pd\n",
    "import numpy as np\n",
    "import matplotlib.pyplot as plt\n",
    "import seaborn as sns\n",
    "plt.rcParams['font.family'] ='Malgun Gothic'\n",
    "plt.rcParams['axes.unicode_minus'] =False"
   ]
  },
  {
   "cell_type": "markdown",
   "id": "cfebfba4",
   "metadata": {},
   "source": [
    "# 1. 데이터 불러오기"
   ]
  },
  {
   "cell_type": "markdown",
   "id": "12ceddbf",
   "metadata": {},
   "source": [
    "| 컬럼명     | 데이터 타입 | 설명 |\n",
    "|-----------|------------|----------------------------------------------------|\n",
    "| datetime  | datetime   | 자전거 대여 기록의 날짜 및 시간. 예시: 2011-01-01 00:00:00 |\n",
    "| season    | int        | 계절 (1: 봄, 2: 여름, 3: 가을, 4: 겨울) |\n",
    "| holiday   | int        | 공휴일 여부 (0: 평일, 1: 공휴일) |\n",
    "| workingday| int        | 근무일 여부 (0: 주말/공휴일, 1: 근무일) |\n",
    "| weather   | int        | 날씨 상황 (1: 맑음, 2: 구름낌/안개, 3: 약간의 비/눈, 4: 폭우/폭설) |\n",
    "| temp      | float      | 실측 온도 (섭씨) |\n",
    "| atemp     | float      | 체감 온도 (섭씨) |\n",
    "| humidity  | int        | 습도 (%) |\n",
    "| windspeed | float      | 풍속 (m/s) |\n",
    "| casual    | int        | 등록되지 않은 사용자의 대여 수 |\n",
    "| registered| int        | 등록된 사용자의 대여 수 |\n",
    "| count     | int        | 총 대여 수 (종속 변수) |\n"
   ]
  },
  {
   "cell_type": "code",
   "execution_count": 2,
   "id": "3d5affdc",
   "metadata": {},
   "outputs": [],
   "source": [
    "# train data\n",
    "train_df = pd.read_csv(\"data/train.csv\")\n",
    "\n",
    "# test data\n",
    "test_df = pd.read_csv(\"data/test.csv\")"
   ]
  },
  {
   "cell_type": "code",
   "execution_count": 3,
   "id": "c853501e",
   "metadata": {},
   "outputs": [
    {
     "data": {
      "text/html": [
       "<div>\n",
       "<style scoped>\n",
       "    .dataframe tbody tr th:only-of-type {\n",
       "        vertical-align: middle;\n",
       "    }\n",
       "\n",
       "    .dataframe tbody tr th {\n",
       "        vertical-align: top;\n",
       "    }\n",
       "\n",
       "    .dataframe thead th {\n",
       "        text-align: right;\n",
       "    }\n",
       "</style>\n",
       "<table border=\"1\" class=\"dataframe\">\n",
       "  <thead>\n",
       "    <tr style=\"text-align: right;\">\n",
       "      <th></th>\n",
       "      <th>datetime</th>\n",
       "      <th>season</th>\n",
       "      <th>holiday</th>\n",
       "      <th>workingday</th>\n",
       "      <th>weather</th>\n",
       "      <th>temp</th>\n",
       "      <th>atemp</th>\n",
       "      <th>humidity</th>\n",
       "      <th>windspeed</th>\n",
       "      <th>casual</th>\n",
       "      <th>registered</th>\n",
       "      <th>count</th>\n",
       "    </tr>\n",
       "  </thead>\n",
       "  <tbody>\n",
       "    <tr>\n",
       "      <th>0</th>\n",
       "      <td>2011-01-01 00:00:00</td>\n",
       "      <td>1</td>\n",
       "      <td>0</td>\n",
       "      <td>0</td>\n",
       "      <td>1</td>\n",
       "      <td>9.84</td>\n",
       "      <td>14.395</td>\n",
       "      <td>81</td>\n",
       "      <td>0.0000</td>\n",
       "      <td>3</td>\n",
       "      <td>13</td>\n",
       "      <td>16</td>\n",
       "    </tr>\n",
       "    <tr>\n",
       "      <th>1</th>\n",
       "      <td>2011-01-01 01:00:00</td>\n",
       "      <td>1</td>\n",
       "      <td>0</td>\n",
       "      <td>0</td>\n",
       "      <td>1</td>\n",
       "      <td>9.02</td>\n",
       "      <td>13.635</td>\n",
       "      <td>80</td>\n",
       "      <td>0.0000</td>\n",
       "      <td>8</td>\n",
       "      <td>32</td>\n",
       "      <td>40</td>\n",
       "    </tr>\n",
       "    <tr>\n",
       "      <th>2</th>\n",
       "      <td>2011-01-01 02:00:00</td>\n",
       "      <td>1</td>\n",
       "      <td>0</td>\n",
       "      <td>0</td>\n",
       "      <td>1</td>\n",
       "      <td>9.02</td>\n",
       "      <td>13.635</td>\n",
       "      <td>80</td>\n",
       "      <td>0.0000</td>\n",
       "      <td>5</td>\n",
       "      <td>27</td>\n",
       "      <td>32</td>\n",
       "    </tr>\n",
       "    <tr>\n",
       "      <th>3</th>\n",
       "      <td>2011-01-01 03:00:00</td>\n",
       "      <td>1</td>\n",
       "      <td>0</td>\n",
       "      <td>0</td>\n",
       "      <td>1</td>\n",
       "      <td>9.84</td>\n",
       "      <td>14.395</td>\n",
       "      <td>75</td>\n",
       "      <td>0.0000</td>\n",
       "      <td>3</td>\n",
       "      <td>10</td>\n",
       "      <td>13</td>\n",
       "    </tr>\n",
       "    <tr>\n",
       "      <th>4</th>\n",
       "      <td>2011-01-01 04:00:00</td>\n",
       "      <td>1</td>\n",
       "      <td>0</td>\n",
       "      <td>0</td>\n",
       "      <td>1</td>\n",
       "      <td>9.84</td>\n",
       "      <td>14.395</td>\n",
       "      <td>75</td>\n",
       "      <td>0.0000</td>\n",
       "      <td>0</td>\n",
       "      <td>1</td>\n",
       "      <td>1</td>\n",
       "    </tr>\n",
       "    <tr>\n",
       "      <th>...</th>\n",
       "      <td>...</td>\n",
       "      <td>...</td>\n",
       "      <td>...</td>\n",
       "      <td>...</td>\n",
       "      <td>...</td>\n",
       "      <td>...</td>\n",
       "      <td>...</td>\n",
       "      <td>...</td>\n",
       "      <td>...</td>\n",
       "      <td>...</td>\n",
       "      <td>...</td>\n",
       "      <td>...</td>\n",
       "    </tr>\n",
       "    <tr>\n",
       "      <th>10881</th>\n",
       "      <td>2012-12-19 19:00:00</td>\n",
       "      <td>4</td>\n",
       "      <td>0</td>\n",
       "      <td>1</td>\n",
       "      <td>1</td>\n",
       "      <td>15.58</td>\n",
       "      <td>19.695</td>\n",
       "      <td>50</td>\n",
       "      <td>26.0027</td>\n",
       "      <td>7</td>\n",
       "      <td>329</td>\n",
       "      <td>336</td>\n",
       "    </tr>\n",
       "    <tr>\n",
       "      <th>10882</th>\n",
       "      <td>2012-12-19 20:00:00</td>\n",
       "      <td>4</td>\n",
       "      <td>0</td>\n",
       "      <td>1</td>\n",
       "      <td>1</td>\n",
       "      <td>14.76</td>\n",
       "      <td>17.425</td>\n",
       "      <td>57</td>\n",
       "      <td>15.0013</td>\n",
       "      <td>10</td>\n",
       "      <td>231</td>\n",
       "      <td>241</td>\n",
       "    </tr>\n",
       "    <tr>\n",
       "      <th>10883</th>\n",
       "      <td>2012-12-19 21:00:00</td>\n",
       "      <td>4</td>\n",
       "      <td>0</td>\n",
       "      <td>1</td>\n",
       "      <td>1</td>\n",
       "      <td>13.94</td>\n",
       "      <td>15.910</td>\n",
       "      <td>61</td>\n",
       "      <td>15.0013</td>\n",
       "      <td>4</td>\n",
       "      <td>164</td>\n",
       "      <td>168</td>\n",
       "    </tr>\n",
       "    <tr>\n",
       "      <th>10884</th>\n",
       "      <td>2012-12-19 22:00:00</td>\n",
       "      <td>4</td>\n",
       "      <td>0</td>\n",
       "      <td>1</td>\n",
       "      <td>1</td>\n",
       "      <td>13.94</td>\n",
       "      <td>17.425</td>\n",
       "      <td>61</td>\n",
       "      <td>6.0032</td>\n",
       "      <td>12</td>\n",
       "      <td>117</td>\n",
       "      <td>129</td>\n",
       "    </tr>\n",
       "    <tr>\n",
       "      <th>10885</th>\n",
       "      <td>2012-12-19 23:00:00</td>\n",
       "      <td>4</td>\n",
       "      <td>0</td>\n",
       "      <td>1</td>\n",
       "      <td>1</td>\n",
       "      <td>13.12</td>\n",
       "      <td>16.665</td>\n",
       "      <td>66</td>\n",
       "      <td>8.9981</td>\n",
       "      <td>4</td>\n",
       "      <td>84</td>\n",
       "      <td>88</td>\n",
       "    </tr>\n",
       "  </tbody>\n",
       "</table>\n",
       "<p>10886 rows × 12 columns</p>\n",
       "</div>"
      ],
      "text/plain": [
       "                  datetime  season  holiday  workingday  weather   temp  \\\n",
       "0      2011-01-01 00:00:00       1        0           0        1   9.84   \n",
       "1      2011-01-01 01:00:00       1        0           0        1   9.02   \n",
       "2      2011-01-01 02:00:00       1        0           0        1   9.02   \n",
       "3      2011-01-01 03:00:00       1        0           0        1   9.84   \n",
       "4      2011-01-01 04:00:00       1        0           0        1   9.84   \n",
       "...                    ...     ...      ...         ...      ...    ...   \n",
       "10881  2012-12-19 19:00:00       4        0           1        1  15.58   \n",
       "10882  2012-12-19 20:00:00       4        0           1        1  14.76   \n",
       "10883  2012-12-19 21:00:00       4        0           1        1  13.94   \n",
       "10884  2012-12-19 22:00:00       4        0           1        1  13.94   \n",
       "10885  2012-12-19 23:00:00       4        0           1        1  13.12   \n",
       "\n",
       "        atemp  humidity  windspeed  casual  registered  count  \n",
       "0      14.395        81     0.0000       3          13     16  \n",
       "1      13.635        80     0.0000       8          32     40  \n",
       "2      13.635        80     0.0000       5          27     32  \n",
       "3      14.395        75     0.0000       3          10     13  \n",
       "4      14.395        75     0.0000       0           1      1  \n",
       "...       ...       ...        ...     ...         ...    ...  \n",
       "10881  19.695        50    26.0027       7         329    336  \n",
       "10882  17.425        57    15.0013      10         231    241  \n",
       "10883  15.910        61    15.0013       4         164    168  \n",
       "10884  17.425        61     6.0032      12         117    129  \n",
       "10885  16.665        66     8.9981       4          84     88  \n",
       "\n",
       "[10886 rows x 12 columns]"
      ]
     },
     "metadata": {},
     "output_type": "display_data"
    },
    {
     "data": {
      "text/html": [
       "<div>\n",
       "<style scoped>\n",
       "    .dataframe tbody tr th:only-of-type {\n",
       "        vertical-align: middle;\n",
       "    }\n",
       "\n",
       "    .dataframe tbody tr th {\n",
       "        vertical-align: top;\n",
       "    }\n",
       "\n",
       "    .dataframe thead th {\n",
       "        text-align: right;\n",
       "    }\n",
       "</style>\n",
       "<table border=\"1\" class=\"dataframe\">\n",
       "  <thead>\n",
       "    <tr style=\"text-align: right;\">\n",
       "      <th></th>\n",
       "      <th>datetime</th>\n",
       "      <th>season</th>\n",
       "      <th>holiday</th>\n",
       "      <th>workingday</th>\n",
       "      <th>weather</th>\n",
       "      <th>temp</th>\n",
       "      <th>atemp</th>\n",
       "      <th>humidity</th>\n",
       "      <th>windspeed</th>\n",
       "    </tr>\n",
       "  </thead>\n",
       "  <tbody>\n",
       "    <tr>\n",
       "      <th>0</th>\n",
       "      <td>2011-01-20 00:00:00</td>\n",
       "      <td>1</td>\n",
       "      <td>0</td>\n",
       "      <td>1</td>\n",
       "      <td>1</td>\n",
       "      <td>10.66</td>\n",
       "      <td>11.365</td>\n",
       "      <td>56</td>\n",
       "      <td>26.0027</td>\n",
       "    </tr>\n",
       "    <tr>\n",
       "      <th>1</th>\n",
       "      <td>2011-01-20 01:00:00</td>\n",
       "      <td>1</td>\n",
       "      <td>0</td>\n",
       "      <td>1</td>\n",
       "      <td>1</td>\n",
       "      <td>10.66</td>\n",
       "      <td>13.635</td>\n",
       "      <td>56</td>\n",
       "      <td>0.0000</td>\n",
       "    </tr>\n",
       "    <tr>\n",
       "      <th>2</th>\n",
       "      <td>2011-01-20 02:00:00</td>\n",
       "      <td>1</td>\n",
       "      <td>0</td>\n",
       "      <td>1</td>\n",
       "      <td>1</td>\n",
       "      <td>10.66</td>\n",
       "      <td>13.635</td>\n",
       "      <td>56</td>\n",
       "      <td>0.0000</td>\n",
       "    </tr>\n",
       "    <tr>\n",
       "      <th>3</th>\n",
       "      <td>2011-01-20 03:00:00</td>\n",
       "      <td>1</td>\n",
       "      <td>0</td>\n",
       "      <td>1</td>\n",
       "      <td>1</td>\n",
       "      <td>10.66</td>\n",
       "      <td>12.880</td>\n",
       "      <td>56</td>\n",
       "      <td>11.0014</td>\n",
       "    </tr>\n",
       "    <tr>\n",
       "      <th>4</th>\n",
       "      <td>2011-01-20 04:00:00</td>\n",
       "      <td>1</td>\n",
       "      <td>0</td>\n",
       "      <td>1</td>\n",
       "      <td>1</td>\n",
       "      <td>10.66</td>\n",
       "      <td>12.880</td>\n",
       "      <td>56</td>\n",
       "      <td>11.0014</td>\n",
       "    </tr>\n",
       "    <tr>\n",
       "      <th>...</th>\n",
       "      <td>...</td>\n",
       "      <td>...</td>\n",
       "      <td>...</td>\n",
       "      <td>...</td>\n",
       "      <td>...</td>\n",
       "      <td>...</td>\n",
       "      <td>...</td>\n",
       "      <td>...</td>\n",
       "      <td>...</td>\n",
       "    </tr>\n",
       "    <tr>\n",
       "      <th>6488</th>\n",
       "      <td>2012-12-31 19:00:00</td>\n",
       "      <td>1</td>\n",
       "      <td>0</td>\n",
       "      <td>1</td>\n",
       "      <td>2</td>\n",
       "      <td>10.66</td>\n",
       "      <td>12.880</td>\n",
       "      <td>60</td>\n",
       "      <td>11.0014</td>\n",
       "    </tr>\n",
       "    <tr>\n",
       "      <th>6489</th>\n",
       "      <td>2012-12-31 20:00:00</td>\n",
       "      <td>1</td>\n",
       "      <td>0</td>\n",
       "      <td>1</td>\n",
       "      <td>2</td>\n",
       "      <td>10.66</td>\n",
       "      <td>12.880</td>\n",
       "      <td>60</td>\n",
       "      <td>11.0014</td>\n",
       "    </tr>\n",
       "    <tr>\n",
       "      <th>6490</th>\n",
       "      <td>2012-12-31 21:00:00</td>\n",
       "      <td>1</td>\n",
       "      <td>0</td>\n",
       "      <td>1</td>\n",
       "      <td>1</td>\n",
       "      <td>10.66</td>\n",
       "      <td>12.880</td>\n",
       "      <td>60</td>\n",
       "      <td>11.0014</td>\n",
       "    </tr>\n",
       "    <tr>\n",
       "      <th>6491</th>\n",
       "      <td>2012-12-31 22:00:00</td>\n",
       "      <td>1</td>\n",
       "      <td>0</td>\n",
       "      <td>1</td>\n",
       "      <td>1</td>\n",
       "      <td>10.66</td>\n",
       "      <td>13.635</td>\n",
       "      <td>56</td>\n",
       "      <td>8.9981</td>\n",
       "    </tr>\n",
       "    <tr>\n",
       "      <th>6492</th>\n",
       "      <td>2012-12-31 23:00:00</td>\n",
       "      <td>1</td>\n",
       "      <td>0</td>\n",
       "      <td>1</td>\n",
       "      <td>1</td>\n",
       "      <td>10.66</td>\n",
       "      <td>13.635</td>\n",
       "      <td>65</td>\n",
       "      <td>8.9981</td>\n",
       "    </tr>\n",
       "  </tbody>\n",
       "</table>\n",
       "<p>6493 rows × 9 columns</p>\n",
       "</div>"
      ],
      "text/plain": [
       "                 datetime  season  holiday  workingday  weather   temp  \\\n",
       "0     2011-01-20 00:00:00       1        0           1        1  10.66   \n",
       "1     2011-01-20 01:00:00       1        0           1        1  10.66   \n",
       "2     2011-01-20 02:00:00       1        0           1        1  10.66   \n",
       "3     2011-01-20 03:00:00       1        0           1        1  10.66   \n",
       "4     2011-01-20 04:00:00       1        0           1        1  10.66   \n",
       "...                   ...     ...      ...         ...      ...    ...   \n",
       "6488  2012-12-31 19:00:00       1        0           1        2  10.66   \n",
       "6489  2012-12-31 20:00:00       1        0           1        2  10.66   \n",
       "6490  2012-12-31 21:00:00       1        0           1        1  10.66   \n",
       "6491  2012-12-31 22:00:00       1        0           1        1  10.66   \n",
       "6492  2012-12-31 23:00:00       1        0           1        1  10.66   \n",
       "\n",
       "       atemp  humidity  windspeed  \n",
       "0     11.365        56    26.0027  \n",
       "1     13.635        56     0.0000  \n",
       "2     13.635        56     0.0000  \n",
       "3     12.880        56    11.0014  \n",
       "4     12.880        56    11.0014  \n",
       "...      ...       ...        ...  \n",
       "6488  12.880        60    11.0014  \n",
       "6489  12.880        60    11.0014  \n",
       "6490  12.880        60    11.0014  \n",
       "6491  13.635        56     8.9981  \n",
       "6492  13.635        65     8.9981  \n",
       "\n",
       "[6493 rows x 9 columns]"
      ]
     },
     "metadata": {},
     "output_type": "display_data"
    }
   ],
   "source": [
    "display(train_df)\n",
    "display(test_df)"
   ]
  },
  {
   "cell_type": "markdown",
   "id": "409c4029",
   "metadata": {},
   "source": [
    "# 2. 데이터 확인하기"
   ]
  },
  {
   "cell_type": "markdown",
   "id": "3a10a939",
   "metadata": {},
   "source": [
    "## 2.1 기술통계량 확인"
   ]
  },
  {
   "cell_type": "code",
   "execution_count": 4,
   "id": "113b4f16",
   "metadata": {
    "scrolled": false
   },
   "outputs": [
    {
     "data": {
      "text/html": [
       "<div>\n",
       "<style scoped>\n",
       "    .dataframe tbody tr th:only-of-type {\n",
       "        vertical-align: middle;\n",
       "    }\n",
       "\n",
       "    .dataframe tbody tr th {\n",
       "        vertical-align: top;\n",
       "    }\n",
       "\n",
       "    .dataframe thead th {\n",
       "        text-align: right;\n",
       "    }\n",
       "</style>\n",
       "<table border=\"1\" class=\"dataframe\">\n",
       "  <thead>\n",
       "    <tr style=\"text-align: right;\">\n",
       "      <th></th>\n",
       "      <th>season</th>\n",
       "      <th>holiday</th>\n",
       "      <th>workingday</th>\n",
       "      <th>weather</th>\n",
       "      <th>temp</th>\n",
       "      <th>atemp</th>\n",
       "      <th>humidity</th>\n",
       "      <th>windspeed</th>\n",
       "      <th>casual</th>\n",
       "      <th>registered</th>\n",
       "      <th>count</th>\n",
       "    </tr>\n",
       "  </thead>\n",
       "  <tbody>\n",
       "    <tr>\n",
       "      <th>count</th>\n",
       "      <td>10886.000000</td>\n",
       "      <td>10886.000000</td>\n",
       "      <td>10886.000000</td>\n",
       "      <td>10886.000000</td>\n",
       "      <td>10886.00000</td>\n",
       "      <td>10886.000000</td>\n",
       "      <td>10886.000000</td>\n",
       "      <td>10886.000000</td>\n",
       "      <td>10886.000000</td>\n",
       "      <td>10886.000000</td>\n",
       "      <td>10886.000000</td>\n",
       "    </tr>\n",
       "    <tr>\n",
       "      <th>mean</th>\n",
       "      <td>2.506614</td>\n",
       "      <td>0.028569</td>\n",
       "      <td>0.680875</td>\n",
       "      <td>1.418427</td>\n",
       "      <td>20.23086</td>\n",
       "      <td>23.655084</td>\n",
       "      <td>61.886460</td>\n",
       "      <td>12.799395</td>\n",
       "      <td>36.021955</td>\n",
       "      <td>155.552177</td>\n",
       "      <td>191.574132</td>\n",
       "    </tr>\n",
       "    <tr>\n",
       "      <th>std</th>\n",
       "      <td>1.116174</td>\n",
       "      <td>0.166599</td>\n",
       "      <td>0.466159</td>\n",
       "      <td>0.633839</td>\n",
       "      <td>7.79159</td>\n",
       "      <td>8.474601</td>\n",
       "      <td>19.245033</td>\n",
       "      <td>8.164537</td>\n",
       "      <td>49.960477</td>\n",
       "      <td>151.039033</td>\n",
       "      <td>181.144454</td>\n",
       "    </tr>\n",
       "    <tr>\n",
       "      <th>min</th>\n",
       "      <td>1.000000</td>\n",
       "      <td>0.000000</td>\n",
       "      <td>0.000000</td>\n",
       "      <td>1.000000</td>\n",
       "      <td>0.82000</td>\n",
       "      <td>0.760000</td>\n",
       "      <td>0.000000</td>\n",
       "      <td>0.000000</td>\n",
       "      <td>0.000000</td>\n",
       "      <td>0.000000</td>\n",
       "      <td>1.000000</td>\n",
       "    </tr>\n",
       "    <tr>\n",
       "      <th>25%</th>\n",
       "      <td>2.000000</td>\n",
       "      <td>0.000000</td>\n",
       "      <td>0.000000</td>\n",
       "      <td>1.000000</td>\n",
       "      <td>13.94000</td>\n",
       "      <td>16.665000</td>\n",
       "      <td>47.000000</td>\n",
       "      <td>7.001500</td>\n",
       "      <td>4.000000</td>\n",
       "      <td>36.000000</td>\n",
       "      <td>42.000000</td>\n",
       "    </tr>\n",
       "    <tr>\n",
       "      <th>50%</th>\n",
       "      <td>3.000000</td>\n",
       "      <td>0.000000</td>\n",
       "      <td>1.000000</td>\n",
       "      <td>1.000000</td>\n",
       "      <td>20.50000</td>\n",
       "      <td>24.240000</td>\n",
       "      <td>62.000000</td>\n",
       "      <td>12.998000</td>\n",
       "      <td>17.000000</td>\n",
       "      <td>118.000000</td>\n",
       "      <td>145.000000</td>\n",
       "    </tr>\n",
       "    <tr>\n",
       "      <th>75%</th>\n",
       "      <td>4.000000</td>\n",
       "      <td>0.000000</td>\n",
       "      <td>1.000000</td>\n",
       "      <td>2.000000</td>\n",
       "      <td>26.24000</td>\n",
       "      <td>31.060000</td>\n",
       "      <td>77.000000</td>\n",
       "      <td>16.997900</td>\n",
       "      <td>49.000000</td>\n",
       "      <td>222.000000</td>\n",
       "      <td>284.000000</td>\n",
       "    </tr>\n",
       "    <tr>\n",
       "      <th>max</th>\n",
       "      <td>4.000000</td>\n",
       "      <td>1.000000</td>\n",
       "      <td>1.000000</td>\n",
       "      <td>4.000000</td>\n",
       "      <td>41.00000</td>\n",
       "      <td>45.455000</td>\n",
       "      <td>100.000000</td>\n",
       "      <td>56.996900</td>\n",
       "      <td>367.000000</td>\n",
       "      <td>886.000000</td>\n",
       "      <td>977.000000</td>\n",
       "    </tr>\n",
       "  </tbody>\n",
       "</table>\n",
       "</div>"
      ],
      "text/plain": [
       "             season       holiday    workingday       weather         temp  \\\n",
       "count  10886.000000  10886.000000  10886.000000  10886.000000  10886.00000   \n",
       "mean       2.506614      0.028569      0.680875      1.418427     20.23086   \n",
       "std        1.116174      0.166599      0.466159      0.633839      7.79159   \n",
       "min        1.000000      0.000000      0.000000      1.000000      0.82000   \n",
       "25%        2.000000      0.000000      0.000000      1.000000     13.94000   \n",
       "50%        3.000000      0.000000      1.000000      1.000000     20.50000   \n",
       "75%        4.000000      0.000000      1.000000      2.000000     26.24000   \n",
       "max        4.000000      1.000000      1.000000      4.000000     41.00000   \n",
       "\n",
       "              atemp      humidity     windspeed        casual    registered  \\\n",
       "count  10886.000000  10886.000000  10886.000000  10886.000000  10886.000000   \n",
       "mean      23.655084     61.886460     12.799395     36.021955    155.552177   \n",
       "std        8.474601     19.245033      8.164537     49.960477    151.039033   \n",
       "min        0.760000      0.000000      0.000000      0.000000      0.000000   \n",
       "25%       16.665000     47.000000      7.001500      4.000000     36.000000   \n",
       "50%       24.240000     62.000000     12.998000     17.000000    118.000000   \n",
       "75%       31.060000     77.000000     16.997900     49.000000    222.000000   \n",
       "max       45.455000    100.000000     56.996900    367.000000    886.000000   \n",
       "\n",
       "              count  \n",
       "count  10886.000000  \n",
       "mean     191.574132  \n",
       "std      181.144454  \n",
       "min        1.000000  \n",
       "25%       42.000000  \n",
       "50%      145.000000  \n",
       "75%      284.000000  \n",
       "max      977.000000  "
      ]
     },
     "execution_count": 4,
     "metadata": {},
     "output_type": "execute_result"
    }
   ],
   "source": [
    "train_df.describe()"
   ]
  },
  {
   "cell_type": "code",
   "execution_count": 5,
   "id": "344e14fc",
   "metadata": {},
   "outputs": [
    {
     "name": "stdout",
     "output_type": "stream",
     "text": [
      "<class 'pandas.core.frame.DataFrame'>\n",
      "RangeIndex: 10886 entries, 0 to 10885\n",
      "Data columns (total 12 columns):\n",
      " #   Column      Non-Null Count  Dtype  \n",
      "---  ------      --------------  -----  \n",
      " 0   datetime    10886 non-null  object \n",
      " 1   season      10886 non-null  int64  \n",
      " 2   holiday     10886 non-null  int64  \n",
      " 3   workingday  10886 non-null  int64  \n",
      " 4   weather     10886 non-null  int64  \n",
      " 5   temp        10886 non-null  float64\n",
      " 6   atemp       10886 non-null  float64\n",
      " 7   humidity    10886 non-null  int64  \n",
      " 8   windspeed   10886 non-null  float64\n",
      " 9   casual      10886 non-null  int64  \n",
      " 10  registered  10886 non-null  int64  \n",
      " 11  count       10886 non-null  int64  \n",
      "dtypes: float64(3), int64(8), object(1)\n",
      "memory usage: 1020.7+ KB\n"
     ]
    }
   ],
   "source": [
    "train_df.info()"
   ]
  },
  {
   "cell_type": "markdown",
   "id": "b8fe112b",
   "metadata": {},
   "source": [
    "## 2.2 중복값 확인하기 "
   ]
  },
  {
   "cell_type": "code",
   "execution_count": 6,
   "id": "922d66ae",
   "metadata": {},
   "outputs": [
    {
     "data": {
      "text/plain": [
       "0"
      ]
     },
     "execution_count": 6,
     "metadata": {},
     "output_type": "execute_result"
    }
   ],
   "source": [
    "train_df.duplicated().sum()"
   ]
  },
  {
   "cell_type": "markdown",
   "id": "4a4b194f",
   "metadata": {},
   "source": [
    "## 2.3 결측치 확인하기 "
   ]
  },
  {
   "cell_type": "code",
   "execution_count": 7,
   "id": "b1c6eae2",
   "metadata": {},
   "outputs": [
    {
     "data": {
      "text/plain": [
       "datetime      0\n",
       "season        0\n",
       "holiday       0\n",
       "workingday    0\n",
       "weather       0\n",
       "temp          0\n",
       "atemp         0\n",
       "humidity      0\n",
       "windspeed     0\n",
       "casual        0\n",
       "registered    0\n",
       "count         0\n",
       "dtype: int64"
      ]
     },
     "execution_count": 7,
     "metadata": {},
     "output_type": "execute_result"
    }
   ],
   "source": [
    "train_df.isna().sum()"
   ]
  },
  {
   "cell_type": "markdown",
   "id": "204f2ba6",
   "metadata": {},
   "source": [
    "## 2.4 데이터 분포 확인하기"
   ]
  },
  {
   "cell_type": "markdown",
   "id": "c4b0d2ab",
   "metadata": {},
   "source": [
    "### 1) 범주형 데이터 고유값 수 확인하기"
   ]
  },
  {
   "cell_type": "code",
   "execution_count": 8,
   "id": "4194f80a",
   "metadata": {
    "scrolled": true
   },
   "outputs": [
    {
     "name": "stdout",
     "output_type": "stream",
     "text": [
      "season피쳐 데이터 수: \n",
      "4    2734\n",
      "2    2733\n",
      "3    2733\n",
      "1    2686\n",
      "Name: season, dtype: int64\n",
      "holiday피쳐 데이터 수: \n",
      "0    10575\n",
      "1      311\n",
      "Name: holiday, dtype: int64\n",
      "workingday피쳐 데이터 수: \n",
      "1    7412\n",
      "0    3474\n",
      "Name: workingday, dtype: int64\n",
      "weather피쳐 데이터 수: \n",
      "1    7192\n",
      "2    2834\n",
      "3     859\n",
      "4       1\n",
      "Name: weather, dtype: int64\n"
     ]
    }
   ],
   "source": [
    "# 확인할 컬럼 리스트\n",
    "check_col = ['season', 'holiday', 'workingday', 'weather']\n",
    "\n",
    "# for문으로 확인하기\n",
    "for c in train_df[check_col]:\n",
    "    print(f\"{c}피쳐 데이터 수: \\n{train_df[c].value_counts()}\")"
   ]
  },
  {
   "cell_type": "code",
   "execution_count": 9,
   "id": "2c9344e7",
   "metadata": {},
   "outputs": [
    {
     "name": "stdout",
     "output_type": "stream",
     "text": [
      "season피쳐 데이터 수: \n",
      "3    1763\n",
      "2    1676\n",
      "1    1556\n",
      "4    1498\n",
      "Name: season, dtype: int64\n",
      "holiday피쳐 데이터 수: \n",
      "0    6304\n",
      "1     189\n",
      "Name: holiday, dtype: int64\n",
      "workingday피쳐 데이터 수: \n",
      "1    4453\n",
      "0    2040\n",
      "Name: workingday, dtype: int64\n",
      "weather피쳐 데이터 수: \n",
      "1    4221\n",
      "2    1710\n",
      "3     560\n",
      "4       2\n",
      "Name: weather, dtype: int64\n"
     ]
    }
   ],
   "source": [
    "# for문으로 확인하기\n",
    "for c in test_df[check_col]:\n",
    "    print(f\"{c}피쳐 데이터 수: \\n{test_df[c].value_counts()}\")"
   ]
  },
  {
   "cell_type": "markdown",
   "id": "cfc06cdd",
   "metadata": {},
   "source": [
    "### 범주형 데이터 고유값 수 확인 결과\n",
    "#### 1. season\n",
    "대체적으로 고르게 분포\n",
    "#### 2. holiday\n",
    "공휴일이 아닌 날이 많음\n",
    "#### 3. workingday\n",
    "일하는날에 많이 대여함\n",
    "#### 4. weather\n",
    "날씨가 좋은날에 많이 타며, 폭우/폭설에 대여량 한건 존재함"
   ]
  },
  {
   "cell_type": "markdown",
   "id": "b57124ce",
   "metadata": {},
   "source": [
    "### 2) 히스토그램 그리기"
   ]
  },
  {
   "cell_type": "code",
   "execution_count": 10,
   "id": "b185548f",
   "metadata": {
    "scrolled": false
   },
   "outputs": [
    {
     "data": {
      "image/png": "[encoded data removed]",
      "text/plain": [
       "<Figure size 1300x1000 with 12 Axes>"
      ]
     },
     "metadata": {},
     "output_type": "display_data"
    }
   ],
   "source": [
    "# 히스토그램 그리기\n",
    "train_df.hist(bins=40, figsize=(13, 10))\n",
    "plt.show()"
   ]
  },
  {
   "cell_type": "markdown",
   "id": "7d2e2f06",
   "metadata": {},
   "source": [
    "### 데이터 분포(히스토그램) 확인 결과\n",
    "#### 1. 계절\n",
    "계절의 데이터는 대체적으로 고르게 분포\n",
    "#### 2. 공휴일 여부\n",
    "대부분 평일에 대여\n",
    "#### 3. 근무일 여부\n",
    "근무하는 날에 대여량이 더 많음\n",
    "#### 4. 날씨의 상태\n",
    "날씨가 좋을수록 많이 빌리고, 안좋을수록 적게 빌림\n",
    "#### 5. 실측 온도(섭씨)\n",
    "정규분표 형태와 비슷한 형상을 보여줌. 날씨가 좋을 때 대여량이 높음\n",
    "#### 6. 체감 온도(섭씨)\n",
    "정규분표 형태와 비슷한 형상을 보여줌. 날씨가 좋을 때 대여량이 높음\n",
    "#### 7. 습도 (%)\n",
    "정규분포 형태와 비슷한 형상을 보여줌, 왼쪽으로 꼬리가 긴 형태로 보여줌, 즉 습도가 높은쪽에 데이터가 더 많이 분포됨\n",
    "#### 8. 풍속 (m/s)\n",
    "풍속이 낮을 때 대여량이 높음\n"
   ]
  },
  {
   "cell_type": "markdown",
   "id": "e89c7af5",
   "metadata": {},
   "source": [
    "### 3) 수치형 데이터 box-plot 확인하기"
   ]
  },
  {
   "cell_type": "code",
   "execution_count": 11,
   "id": "ea6ec283",
   "metadata": {
    "scrolled": false
   },
   "outputs": [
    {
     "data": {
      "image/png": "[encoded data removed]",
      "text/plain": [
       "<Figure size 800x600 with 1 Axes>"
      ]
     },
     "metadata": {},
     "output_type": "display_data"
    }
   ],
   "source": [
    "# 컬럼 리스트\n",
    "numeric_columns = ['temp', 'atemp', 'humidity', 'windspeed']\n",
    "\n",
    "# 박스플롯 그리기\n",
    "plt.figure(figsize=(8, 6))  # 그래프 크기 조정\n",
    "plt.boxplot([train_df[col] for col in numeric_columns], labels=numeric_columns, patch_artist=True, showmeans=True)\n",
    "\n",
    "# 제목 및 축 레이블 추가\n",
    "plt.title(\"이상치 제거하기 전 수치형 데이터 boxplot\", fontsize=20)\n",
    "plt.ylabel(\"Value\", fontsize=18)\n",
    "\n",
    "plt.xticks(fontsize=18)\n",
    "plt.grid(axis=\"y\", linestyle=\"--\", alpha=0.7)  # 가로줄 추가\n",
    "\n",
    "# 그래프 보이기\n",
    "plt.show()"
   ]
  },
  {
   "cell_type": "markdown",
   "id": "073000d2",
   "metadata": {},
   "source": [
    "## 2.5 날짜와 시간대에 따른 대여량 확인"
   ]
  },
  {
   "cell_type": "markdown",
   "id": "ff406e6f",
   "metadata": {},
   "source": [
    "### 1) datetime 형태 변환"
   ]
  },
  {
   "cell_type": "code",
   "execution_count": 12,
   "id": "39061414",
   "metadata": {
    "scrolled": false
   },
   "outputs": [
    {
     "data": {
      "text/html": [
       "<div>\n",
       "<style scoped>\n",
       "    .dataframe tbody tr th:only-of-type {\n",
       "        vertical-align: middle;\n",
       "    }\n",
       "\n",
       "    .dataframe tbody tr th {\n",
       "        vertical-align: top;\n",
       "    }\n",
       "\n",
       "    .dataframe thead th {\n",
       "        text-align: right;\n",
       "    }\n",
       "</style>\n",
       "<table border=\"1\" class=\"dataframe\">\n",
       "  <thead>\n",
       "    <tr style=\"text-align: right;\">\n",
       "      <th></th>\n",
       "      <th>datetime</th>\n",
       "      <th>season</th>\n",
       "      <th>holiday</th>\n",
       "      <th>workingday</th>\n",
       "      <th>weather</th>\n",
       "      <th>temp</th>\n",
       "      <th>atemp</th>\n",
       "      <th>humidity</th>\n",
       "      <th>windspeed</th>\n",
       "      <th>casual</th>\n",
       "      <th>registered</th>\n",
       "      <th>count</th>\n",
       "      <th>year</th>\n",
       "      <th>date</th>\n",
       "      <th>month</th>\n",
       "      <th>hour</th>\n",
       "    </tr>\n",
       "  </thead>\n",
       "  <tbody>\n",
       "    <tr>\n",
       "      <th>0</th>\n",
       "      <td>2011-01-01 00:00:00</td>\n",
       "      <td>1</td>\n",
       "      <td>0</td>\n",
       "      <td>0</td>\n",
       "      <td>1</td>\n",
       "      <td>9.84</td>\n",
       "      <td>14.395</td>\n",
       "      <td>81</td>\n",
       "      <td>0.0</td>\n",
       "      <td>3</td>\n",
       "      <td>13</td>\n",
       "      <td>16</td>\n",
       "      <td>2011</td>\n",
       "      <td>5</td>\n",
       "      <td>1</td>\n",
       "      <td>0</td>\n",
       "    </tr>\n",
       "    <tr>\n",
       "      <th>1</th>\n",
       "      <td>2011-01-01 01:00:00</td>\n",
       "      <td>1</td>\n",
       "      <td>0</td>\n",
       "      <td>0</td>\n",
       "      <td>1</td>\n",
       "      <td>9.02</td>\n",
       "      <td>13.635</td>\n",
       "      <td>80</td>\n",
       "      <td>0.0</td>\n",
       "      <td>8</td>\n",
       "      <td>32</td>\n",
       "      <td>40</td>\n",
       "      <td>2011</td>\n",
       "      <td>5</td>\n",
       "      <td>1</td>\n",
       "      <td>1</td>\n",
       "    </tr>\n",
       "    <tr>\n",
       "      <th>2</th>\n",
       "      <td>2011-01-01 02:00:00</td>\n",
       "      <td>1</td>\n",
       "      <td>0</td>\n",
       "      <td>0</td>\n",
       "      <td>1</td>\n",
       "      <td>9.02</td>\n",
       "      <td>13.635</td>\n",
       "      <td>80</td>\n",
       "      <td>0.0</td>\n",
       "      <td>5</td>\n",
       "      <td>27</td>\n",
       "      <td>32</td>\n",
       "      <td>2011</td>\n",
       "      <td>5</td>\n",
       "      <td>1</td>\n",
       "      <td>2</td>\n",
       "    </tr>\n",
       "  </tbody>\n",
       "</table>\n",
       "</div>"
      ],
      "text/plain": [
       "             datetime  season  holiday  workingday  weather  temp   atemp  \\\n",
       "0 2011-01-01 00:00:00       1        0           0        1  9.84  14.395   \n",
       "1 2011-01-01 01:00:00       1        0           0        1  9.02  13.635   \n",
       "2 2011-01-01 02:00:00       1        0           0        1  9.02  13.635   \n",
       "\n",
       "   humidity  windspeed  casual  registered  count  year  date  month  hour  \n",
       "0        81        0.0       3          13     16  2011     5      1     0  \n",
       "1        80        0.0       8          32     40  2011     5      1     1  \n",
       "2        80        0.0       5          27     32  2011     5      1     2  "
      ]
     },
     "execution_count": 12,
     "metadata": {},
     "output_type": "execute_result"
    }
   ],
   "source": [
    "# datetime 컬럼의 형태를 datetime 형태로 변환\n",
    "train_df['datetime'] = pd.to_datetime(train_df['datetime'])\n",
    "test_df['datetime'] = pd.to_datetime(test_df['datetime'])\n",
    "\n",
    "# datetime 컬럼에서 연도 데이터를 year 컬럼으로 저장\n",
    "train_df['year'] = train_df['datetime'].dt.year\n",
    "test_df['year'] = test_df['datetime'].dt.year\n",
    "\n",
    "# datetime 컬럼에서 요일 컬럼을 date 컬럼으로 저장\n",
    "train_df['date'] = train_df['datetime'].dt.dayofweek\n",
    "test_df['date'] = test_df['datetime'].dt.dayofweek\n",
    "\n",
    "# datetime 컬럼에서 월 데이터를 month 컬럼으로 저장\n",
    "train_df['month'] = train_df['datetime'].dt.month\n",
    "test_df['month'] = test_df['datetime'].dt.month\n",
    "\n",
    "# datetime 컬럼에서 시간 데이터를 hour 컬럼으로 저장\n",
    "train_df['hour'] = train_df['datetime'].dt.hour\n",
    "test_df['hour'] = test_df['datetime'].dt.hour\n",
    "\n",
    "# hour컬럼으로 저장되었는지 확인\n",
    "train_df.head(3)"
   ]
  },
  {
   "cell_type": "markdown",
   "id": "8e38b992",
   "metadata": {},
   "source": [
    "### 2) 연도별, 월별, 요일별, 시간대별 자전거 대여량 수 시각화"
   ]
  },
  {
   "cell_type": "code",
   "execution_count": 13,
   "id": "60403533",
   "metadata": {
    "scrolled": false
   },
   "outputs": [
    {
     "data": {
      "image/png": "[encoded data removed]",
      "text/plain": [
       "<Figure size 1500x1000 with 4 Axes>"
      ]
     },
     "metadata": {},
     "output_type": "display_data"
    }
   ],
   "source": [
    "# 데이터 그룹화\n",
    "bicycle_count_by_year = train_df.groupby('year')['count'].sum().reset_index()\n",
    "bicycle_count_by_month = train_df.groupby('month')['count'].mean().reset_index()\n",
    "bicycle_count_by_date = train_df.groupby('date')['count'].mean().reset_index()\n",
    "bicycle_count_by_hour = train_df.groupby('hour')['count'].mean().reset_index()\n",
    "\n",
    "# 서브플롯 생성 (2행 2열)\n",
    "fig, ax = plt.subplots(nrows=2, ncols=2, figsize=(15, 10))\n",
    "\n",
    "# 연도별 총 대여량 (좌측 상단)\n",
    "sns.barplot(x=bicycle_count_by_year['year'], y=bicycle_count_by_year['count'], ax=ax[0, 0], palette='Blues')\n",
    "ax[0, 0].set(title='연도별 총 자전거 대여량')\n",
    "\n",
    "# 월별 평균 대여량 (우측 상단)\n",
    "sns.barplot(x=bicycle_count_by_month['month'], y=bicycle_count_by_month['count'], ax=ax[0, 1], palette='Blues')\n",
    "ax[0, 1].set(title='월별 평균 자전거 대여량')\n",
    "\n",
    "# 요일별 평균 대여량 (좌측 하단)\n",
    "sns.barplot(x=bicycle_count_by_date['date'], y=bicycle_count_by_date['count'], ax=ax[1, 0], palette='Blues')\n",
    "ax[1, 0].set(title='요일별 평균 자전거 대여량')\n",
    "\n",
    "# 시간대별 평균 대여량 (우측 하단)\n",
    "sns.barplot(x=bicycle_count_by_hour['hour'], y=bicycle_count_by_hour['count'], ax=ax[1, 1], palette='Blues')\n",
    "ax[1, 1].set(title='시간대별 평균 자전거 대여량')\n",
    "\n",
    "# 그래프 레이아웃 조정\n",
    "plt.tight_layout()\n",
    "plt.show()\n"
   ]
  },
  {
   "cell_type": "markdown",
   "id": "c8c5ad3e",
   "metadata": {},
   "source": [
    "### 3) 결과 해석\n",
    "### 연도별\n",
    "- **2012년**에 대여량이 많음\n",
    "### 월별\n",
    "\n",
    "- **1월~3월**\n",
    "    - 날씨가 추운 겨울에는 이용량이 낮음\n",
    "- **4월~10월**\n",
    "    - 날씨가 좋은 봄~가을까지 이욜량이 높음\n",
    "- **11월~12월**\n",
    "    - 다시 추워지기 시작하는 겨울에는 이용량이 감소함\n",
    "\n",
    "### 요일대별\n",
    "- **전체적으로 대여량이 다 높음**\n",
    "\n",
    "\n",
    "### 시간대별\n",
    "\n",
    "- **0시~6시**\n",
    "    - 밤~새벽 시간대, 대여량 매우 낮음\n",
    "- **7시~8시**\n",
    "    - 출근 시간대, 대여량 증가\n",
    "- **9시~16시**\n",
    "    - 일과 시간대, 대여량 높지 않음\n",
    "- **17시~19시**\n",
    "    - 퇴근 시간대, 대여량 매우 높음\n",
    "- **20시~23시**\n",
    "    - 퇴근 시간대 이후, 대여량 감소"
   ]
  },
  {
   "cell_type": "markdown",
   "id": "15e53c20",
   "metadata": {},
   "source": [
    "# 3. 데이터 전처리"
   ]
  },
  {
   "cell_type": "markdown",
   "id": "a749d5ba",
   "metadata": {},
   "source": [
    "## 3.1 이상치 제거\n",
    "### 1) 예측모델의 정확도 향상을 위해 변수의 이상치를 제거"
   ]
  },
  {
   "cell_type": "code",
   "execution_count": 14,
   "id": "f8836c3c",
   "metadata": {},
   "outputs": [],
   "source": [
    "# 원본 데이터 복사\n",
    "train_clean = train_df.copy()\n",
    "\n",
    "# 이상치 제거할 컬럼\n",
    "outlier_remove_col = ['temp', 'atemp', 'humidity', 'windspeed']\n",
    "\n",
    "# 이상치 제거 함수\n",
    "def remove_outliers(df, columns):\n",
    "    for col in columns: \n",
    "        Q1 = df[col].quantile(0.25) \n",
    "        Q3 = df[col].quantile(0.75)\n",
    "        IQR = Q3 - Q1\n",
    "        \n",
    "        # 이상치 기준\n",
    "        lower_bound = Q1 - 1.5 * IQR\n",
    "        upper_bound = Q3 + 1.5 * IQR\n",
    "        \n",
    "        # 데이터 재분류\n",
    "        df = df[(df[col] >= lower_bound) & (df[col] <= upper_bound)]\n",
    "        \n",
    "    return df"
   ]
  },
  {
   "cell_type": "markdown",
   "id": "446c4c44",
   "metadata": {},
   "source": [
    "### 2) 이상치 제거 전/후 데이터 개수 비교"
   ]
  },
  {
   "cell_type": "code",
   "execution_count": 15,
   "id": "9c4e1225",
   "metadata": {
    "scrolled": false
   },
   "outputs": [
    {
     "name": "stdout",
     "output_type": "stream",
     "text": [
      "이상치 제거 전 데이터의 개수 : 10886개\n",
      "이상치 제거 후 데이터의 개수 : 10638개\n",
      "제거된 데이터의 개수 : 248개\n"
     ]
    }
   ],
   "source": [
    "# 이상치 제거 전 데이터 크기\n",
    "print(f\"이상치 제거 전 데이터의 개수 : {len(train_df)}개\")\n",
    "\n",
    "# 이상치 제거 후 크기\n",
    "cleaned_train_df = remove_outliers(train_clean, outlier_remove_col)\n",
    "\n",
    "print(f\"이상치 제거 후 데이터의 개수 : {len(cleaned_train_df)}개\")\n",
    "\n",
    "# 제거된 데이터 수\n",
    "print(f\"제거된 데이터의 개수 : {len(train_df) - len(cleaned_train_df)}개\")"
   ]
  },
  {
   "cell_type": "markdown",
   "id": "1077b861",
   "metadata": {},
   "source": [
    "### 3) 박스플롯 시각화 확인"
   ]
  },
  {
   "cell_type": "code",
   "execution_count": 16,
   "id": "7555e3b5",
   "metadata": {
    "scrolled": false
   },
   "outputs": [
    {
     "data": {
      "image/png": "[encoded data removed]",
      "text/plain": [
       "<Figure size 800x600 with 1 Axes>"
      ]
     },
     "metadata": {},
     "output_type": "display_data"
    }
   ],
   "source": [
    "# 박스플롯 그리기\n",
    "plt.figure(figsize=(8, 6))  # 그래프 크기 조정\n",
    "plt.boxplot([cleaned_train_df[col] for col in numeric_columns], labels=numeric_columns, patch_artist=True, showmeans=True)\n",
    "\n",
    "# 제목 및 축 레이블 추가\n",
    "plt.title(\"이상치 제거된 수치형 데이터 boxplot\", fontsize=20)\n",
    "plt.ylabel(\"Value\", fontsize=18)\n",
    "plt.xticks(fontsize=18)\n",
    "plt.grid(axis=\"y\", linestyle=\"--\", alpha=0.7)  # 가로줄 추가\n",
    "\n",
    "# 그래프 보이기\n",
    "plt.show()"
   ]
  },
  {
   "cell_type": "markdown",
   "id": "3ed102a6",
   "metadata": {},
   "source": [
    "## 3.2 이상치 대체\n",
    "### 1) windspeed 컬럼 이상치\n",
    "windspeed 컬럼의 데이터 분포를 확인해본 결과 풍속이 0으로 표현된 경우가 다수 존재하므로, 풍속이 0인 경우 train데이터의 최소값으로 데이터를 채워준다. "
   ]
  },
  {
   "cell_type": "code",
   "execution_count": 17,
   "id": "6df0789e",
   "metadata": {
    "scrolled": true
   },
   "outputs": [
    {
     "data": {
      "text/html": [
       "<div>\n",
       "<style scoped>\n",
       "    .dataframe tbody tr th:only-of-type {\n",
       "        vertical-align: middle;\n",
       "    }\n",
       "\n",
       "    .dataframe tbody tr th {\n",
       "        vertical-align: top;\n",
       "    }\n",
       "\n",
       "    .dataframe thead th {\n",
       "        text-align: right;\n",
       "    }\n",
       "</style>\n",
       "<table border=\"1\" class=\"dataframe\">\n",
       "  <thead>\n",
       "    <tr style=\"text-align: right;\">\n",
       "      <th></th>\n",
       "      <th>datetime</th>\n",
       "      <th>season</th>\n",
       "      <th>holiday</th>\n",
       "      <th>workingday</th>\n",
       "      <th>weather</th>\n",
       "      <th>temp</th>\n",
       "      <th>atemp</th>\n",
       "      <th>humidity</th>\n",
       "      <th>windspeed</th>\n",
       "      <th>casual</th>\n",
       "      <th>registered</th>\n",
       "      <th>count</th>\n",
       "      <th>year</th>\n",
       "      <th>date</th>\n",
       "      <th>month</th>\n",
       "      <th>hour</th>\n",
       "    </tr>\n",
       "  </thead>\n",
       "  <tbody>\n",
       "    <tr>\n",
       "      <th>0</th>\n",
       "      <td>2011-01-01 00:00:00</td>\n",
       "      <td>1</td>\n",
       "      <td>0</td>\n",
       "      <td>0</td>\n",
       "      <td>1</td>\n",
       "      <td>9.84</td>\n",
       "      <td>14.395</td>\n",
       "      <td>81</td>\n",
       "      <td>0.0</td>\n",
       "      <td>3</td>\n",
       "      <td>13</td>\n",
       "      <td>16</td>\n",
       "      <td>2011</td>\n",
       "      <td>5</td>\n",
       "      <td>1</td>\n",
       "      <td>0</td>\n",
       "    </tr>\n",
       "    <tr>\n",
       "      <th>1</th>\n",
       "      <td>2011-01-01 01:00:00</td>\n",
       "      <td>1</td>\n",
       "      <td>0</td>\n",
       "      <td>0</td>\n",
       "      <td>1</td>\n",
       "      <td>9.02</td>\n",
       "      <td>13.635</td>\n",
       "      <td>80</td>\n",
       "      <td>0.0</td>\n",
       "      <td>8</td>\n",
       "      <td>32</td>\n",
       "      <td>40</td>\n",
       "      <td>2011</td>\n",
       "      <td>5</td>\n",
       "      <td>1</td>\n",
       "      <td>1</td>\n",
       "    </tr>\n",
       "    <tr>\n",
       "      <th>2</th>\n",
       "      <td>2011-01-01 02:00:00</td>\n",
       "      <td>1</td>\n",
       "      <td>0</td>\n",
       "      <td>0</td>\n",
       "      <td>1</td>\n",
       "      <td>9.02</td>\n",
       "      <td>13.635</td>\n",
       "      <td>80</td>\n",
       "      <td>0.0</td>\n",
       "      <td>5</td>\n",
       "      <td>27</td>\n",
       "      <td>32</td>\n",
       "      <td>2011</td>\n",
       "      <td>5</td>\n",
       "      <td>1</td>\n",
       "      <td>2</td>\n",
       "    </tr>\n",
       "    <tr>\n",
       "      <th>3</th>\n",
       "      <td>2011-01-01 03:00:00</td>\n",
       "      <td>1</td>\n",
       "      <td>0</td>\n",
       "      <td>0</td>\n",
       "      <td>1</td>\n",
       "      <td>9.84</td>\n",
       "      <td>14.395</td>\n",
       "      <td>75</td>\n",
       "      <td>0.0</td>\n",
       "      <td>3</td>\n",
       "      <td>10</td>\n",
       "      <td>13</td>\n",
       "      <td>2011</td>\n",
       "      <td>5</td>\n",
       "      <td>1</td>\n",
       "      <td>3</td>\n",
       "    </tr>\n",
       "    <tr>\n",
       "      <th>4</th>\n",
       "      <td>2011-01-01 04:00:00</td>\n",
       "      <td>1</td>\n",
       "      <td>0</td>\n",
       "      <td>0</td>\n",
       "      <td>1</td>\n",
       "      <td>9.84</td>\n",
       "      <td>14.395</td>\n",
       "      <td>75</td>\n",
       "      <td>0.0</td>\n",
       "      <td>0</td>\n",
       "      <td>1</td>\n",
       "      <td>1</td>\n",
       "      <td>2011</td>\n",
       "      <td>5</td>\n",
       "      <td>1</td>\n",
       "      <td>4</td>\n",
       "    </tr>\n",
       "  </tbody>\n",
       "</table>\n",
       "</div>"
      ],
      "text/plain": [
       "             datetime  season  holiday  workingday  weather  temp   atemp  \\\n",
       "0 2011-01-01 00:00:00       1        0           0        1  9.84  14.395   \n",
       "1 2011-01-01 01:00:00       1        0           0        1  9.02  13.635   \n",
       "2 2011-01-01 02:00:00       1        0           0        1  9.02  13.635   \n",
       "3 2011-01-01 03:00:00       1        0           0        1  9.84  14.395   \n",
       "4 2011-01-01 04:00:00       1        0           0        1  9.84  14.395   \n",
       "\n",
       "   humidity  windspeed  casual  registered  count  year  date  month  hour  \n",
       "0        81        0.0       3          13     16  2011     5      1     0  \n",
       "1        80        0.0       8          32     40  2011     5      1     1  \n",
       "2        80        0.0       5          27     32  2011     5      1     2  \n",
       "3        75        0.0       3          10     13  2011     5      1     3  \n",
       "4        75        0.0       0           1      1  2011     5      1     4  "
      ]
     },
     "execution_count": 17,
     "metadata": {},
     "output_type": "execute_result"
    }
   ],
   "source": [
    "cleaned_train_df.head()"
   ]
  },
  {
   "cell_type": "code",
   "execution_count": 18,
   "id": "8e604df2",
   "metadata": {
    "scrolled": true
   },
   "outputs": [
    {
     "name": "stdout",
     "output_type": "stream",
     "text": [
      "windspeed 0인 데이터 수 : 1313개\n",
      "windspeed 0 다음의 최소값 : 6.0032m/s\n"
     ]
    }
   ],
   "source": [
    "# windspeed 컬럼 0값의 개수 확인\n",
    "windspeed_0_count = len(cleaned_train_df[cleaned_train_df['windspeed'] == 0])\n",
    "\n",
    "print(f\"windspeed 0인 데이터 수 : {windspeed_0_count}개\")\n",
    "\n",
    "# windspeed 0 다음의 최소값 확인\n",
    "next_min_windspeed = cleaned_train_df[cleaned_train_df['windspeed'] > 0].min()['windspeed']\n",
    "\n",
    "print(f\"windspeed 0 다음의 최소값 : {next_min_windspeed}m/s\")"
   ]
  },
  {
   "cell_type": "markdown",
   "id": "f4c0a6d6",
   "metadata": {},
   "source": [
    "풍속이 0인 지점을 6.0032으로 입력해준다."
   ]
  },
  {
   "cell_type": "code",
   "execution_count": 19,
   "id": "bf615bef",
   "metadata": {},
   "outputs": [],
   "source": [
    "# 풍속이 0인 지점을 6.0032 값으로 대체\n",
    "cleaned_train_df.loc[cleaned_train_df['windspeed'] == 0, 'windspeed'] = 6.0032"
   ]
  },
  {
   "cell_type": "code",
   "execution_count": 20,
   "id": "121d7f5f",
   "metadata": {
    "scrolled": true
   },
   "outputs": [
    {
     "name": "stdout",
     "output_type": "stream",
     "text": [
      "windspeed 0인 데이터 수 : 0개\n"
     ]
    }
   ],
   "source": [
    "print(f\"windspeed 0인 데이터 수 : {len(cleaned_train_df[cleaned_train_df['windspeed'] == 0])}개\")"
   ]
  },
  {
   "cell_type": "code",
   "execution_count": 21,
   "id": "f6d4073f",
   "metadata": {},
   "outputs": [
    {
     "data": {
      "image/png": "[encoded data removed]",
      "text/plain": [
       "<Figure size 640x480 with 1 Axes>"
      ]
     },
     "metadata": {},
     "output_type": "display_data"
    }
   ],
   "source": [
    "plt.boxplot(cleaned_train_df['windspeed'], patch_artist=True, showmeans=True)\n",
    "plt.title(\"0m/s값이 대체된 windspeed 데이터 boxplot\", fontsize=15)\n",
    "plt.ylabel(\"Value\", fontsize=15)\n",
    "plt.xticks(fontsize=15)\n",
    "plt.grid(axis=\"y\", linestyle=\"--\", alpha=0.7)  # 가로줄 추가"
   ]
  },
  {
   "cell_type": "markdown",
   "id": "8ed47c57",
   "metadata": {},
   "source": [
    "# 4. 피쳐 엔지니어링\n",
    "### 분산팽창지수\n",
    "변수가 여러개인 데이터에서 회귀분석을 진행할 때 각 변수가 서로 영향을 줘서 분석 정확도가 떨어지거나,\n",
    "<br>데이터가 너무 잘 맞는 과대적합의 문제가 발생할 수 있다.\n",
    "<br>각 변수들의 관계를 파악하기 위해 **분산팽창지수(VIF)** 를 확인하여, 어떤 변수가 다중공선성 문제를 갖고있는지 확인한다.\n",
    "<BR>분산팽창지수는 10을 넘어가는 경우 다중공선성 문제가 있다고 판단하며, 해당 변수들을 전처리하는 과정을 거쳐야 한다."
   ]
  },
  {
   "cell_type": "code",
   "execution_count": 22,
   "id": "59648056",
   "metadata": {
    "scrolled": true
   },
   "outputs": [
    {
     "name": "stderr",
     "output_type": "stream",
     "text": [
      "C:\\Users\\gkdis\\anaconda3\\Lib\\site-packages\\statsmodels\\stats\\outliers_influence.py:195: RuntimeWarning: divide by zero encountered in scalar divide\n",
      "  vif = 1. / (1. - r_squared_i)\n"
     ]
    },
    {
     "data": {
      "text/html": [
       "<div>\n",
       "<style scoped>\n",
       "    .dataframe tbody tr th:only-of-type {\n",
       "        vertical-align: middle;\n",
       "    }\n",
       "\n",
       "    .dataframe tbody tr th {\n",
       "        vertical-align: top;\n",
       "    }\n",
       "\n",
       "    .dataframe thead th {\n",
       "        text-align: right;\n",
       "    }\n",
       "</style>\n",
       "<table border=\"1\" class=\"dataframe\">\n",
       "  <thead>\n",
       "    <tr style=\"text-align: right;\">\n",
       "      <th></th>\n",
       "      <th>Variables</th>\n",
       "      <th>VIF</th>\n",
       "    </tr>\n",
       "  </thead>\n",
       "  <tbody>\n",
       "    <tr>\n",
       "      <th>0</th>\n",
       "      <td>season</td>\n",
       "      <td>111.148432</td>\n",
       "    </tr>\n",
       "    <tr>\n",
       "      <th>1</th>\n",
       "      <td>holiday</td>\n",
       "      <td>1.579266</td>\n",
       "    </tr>\n",
       "    <tr>\n",
       "      <th>2</th>\n",
       "      <td>workingday</td>\n",
       "      <td>10.048791</td>\n",
       "    </tr>\n",
       "    <tr>\n",
       "      <th>3</th>\n",
       "      <td>weather</td>\n",
       "      <td>7.753730</td>\n",
       "    </tr>\n",
       "    <tr>\n",
       "      <th>4</th>\n",
       "      <td>temp</td>\n",
       "      <td>277.867247</td>\n",
       "    </tr>\n",
       "    <tr>\n",
       "      <th>5</th>\n",
       "      <td>atemp</td>\n",
       "      <td>318.511006</td>\n",
       "    </tr>\n",
       "    <tr>\n",
       "      <th>6</th>\n",
       "      <td>humidity</td>\n",
       "      <td>20.919076</td>\n",
       "    </tr>\n",
       "    <tr>\n",
       "      <th>7</th>\n",
       "      <td>windspeed</td>\n",
       "      <td>6.052064</td>\n",
       "    </tr>\n",
       "    <tr>\n",
       "      <th>8</th>\n",
       "      <td>casual</td>\n",
       "      <td>inf</td>\n",
       "    </tr>\n",
       "    <tr>\n",
       "      <th>9</th>\n",
       "      <td>registered</td>\n",
       "      <td>inf</td>\n",
       "    </tr>\n",
       "    <tr>\n",
       "      <th>10</th>\n",
       "      <td>count</td>\n",
       "      <td>inf</td>\n",
       "    </tr>\n",
       "    <tr>\n",
       "      <th>11</th>\n",
       "      <td>year</td>\n",
       "      <td>71.865351</td>\n",
       "    </tr>\n",
       "    <tr>\n",
       "      <th>12</th>\n",
       "      <td>date</td>\n",
       "      <td>9.227257</td>\n",
       "    </tr>\n",
       "    <tr>\n",
       "      <th>13</th>\n",
       "      <td>month</td>\n",
       "      <td>85.184870</td>\n",
       "    </tr>\n",
       "    <tr>\n",
       "      <th>14</th>\n",
       "      <td>hour</td>\n",
       "      <td>4.679143</td>\n",
       "    </tr>\n",
       "  </tbody>\n",
       "</table>\n",
       "</div>"
      ],
      "text/plain": [
       "     Variables         VIF\n",
       "0       season  111.148432\n",
       "1      holiday    1.579266\n",
       "2   workingday   10.048791\n",
       "3      weather    7.753730\n",
       "4         temp  277.867247\n",
       "5        atemp  318.511006\n",
       "6     humidity   20.919076\n",
       "7    windspeed    6.052064\n",
       "8       casual         inf\n",
       "9   registered         inf\n",
       "10       count         inf\n",
       "11        year   71.865351\n",
       "12        date    9.227257\n",
       "13       month   85.184870\n",
       "14        hour    4.679143"
      ]
     },
     "execution_count": 22,
     "metadata": {},
     "output_type": "execute_result"
    }
   ],
   "source": [
    "from statsmodels.stats.outliers_influence import variance_inflation_factor\n",
    "\n",
    "# VIF확인용으로 datetime컬럼 삭제\n",
    "X_VIF = cleaned_train_df.copy()\n",
    "\n",
    "X_VIF.drop(columns='datetime', inplace=True)\n",
    "\n",
    "# 분산팽창지수를 입력할 빈 데이터프레임 생성\n",
    "vif_data = pd.DataFrame()\n",
    "\n",
    "# 변수들의 컬럼명을 전부 입력\n",
    "vif_data['Variables'] = X_VIF.columns\n",
    "\n",
    "# 각 변수의 분산팽창지수 계산하여 VIF컬럼에 입력\n",
    "vif_data['VIF'] = [variance_inflation_factor(X_VIF.values, i) for i in range(X_VIF.shape[1])]\n",
    "\n",
    "# 분산팽창지수 확인\n",
    "vif_data"
   ]
  },
  {
   "cell_type": "markdown",
   "id": "1861acdb",
   "metadata": {},
   "source": [
    "### 분산팽창지수 확인 결과\n",
    "- 대부분의 변수의 분산팽창지수가 10을 초과함\n",
    "- VIF가 10을 넘어가는 변수들을 피쳐엔지니어링 통해 최대한 VIF값을 낮추도록 한다."
   ]
  },
  {
   "cell_type": "markdown",
   "id": "a6b5d429",
   "metadata": {},
   "source": [
    "## 4.1 상관관계 시각화\n",
    "### 1) 히트맵 시각화 진행\n",
    "#### 각 변수들의 상관관계를 확인하기 위해 히트맵 시각화 진행\n",
    "- 상관계수에 절대값 적용을 통해 상관성이 얼마나 강한지 확인한다."
   ]
  },
  {
   "cell_type": "code",
   "execution_count": 23,
   "id": "71152c74",
   "metadata": {
    "scrolled": false
   },
   "outputs": [
    {
     "name": "stderr",
     "output_type": "stream",
     "text": [
      "C:\\Users\\gkdis\\AppData\\Local\\Temp\\ipykernel_22136\\1306038506.py:4: FutureWarning: The default value of numeric_only in DataFrame.corr is deprecated. In a future version, it will default to False. Select only valid columns or specify the value of numeric_only to silence this warning.\n",
      "  sns.heatmap(abs(cleaned_train_df.corr()), annot=True, cmap='Blues')\n"
     ]
    },
    {
     "data": {
      "image/png": "[encoded data removed]",
      "text/plain": [
       "<Figure size 1000x900 with 2 Axes>"
      ]
     },
     "metadata": {},
     "output_type": "display_data"
    }
   ],
   "source": [
    "# 히트맵 시각화 진행\n",
    "plt.figure(figsize=(10,9))\n",
    "# 양의 상관성, 음의 상관성 관계 없이 얼마나 상관성이 많이 존재하는지 확인해보기 위해 절대값으로 확인\n",
    "sns.heatmap(abs(cleaned_train_df.corr()), annot=True, cmap='Blues')\n",
    "plt.show()"
   ]
  },
  {
   "cell_type": "markdown",
   "id": "582796c8",
   "metadata": {},
   "source": [
    "### 2) season, month 상관계수 0.97"
   ]
  },
  {
   "cell_type": "code",
   "execution_count": 24,
   "id": "14818122",
   "metadata": {
    "scrolled": false
   },
   "outputs": [
    {
     "name": "stderr",
     "output_type": "stream",
     "text": [
      "C:\\Users\\gkdis\\AppData\\Local\\Temp\\ipykernel_22136\\758931984.py:2: FutureWarning: pivot_table dropped a column because it failed to aggregate. This behavior is deprecated and will raise in a future version of pandas. Select only the columns that can be aggregated.\n",
      "  pd.pivot_table(cleaned_train_df, index=['season', 'month'])\n"
     ]
    },
    {
     "data": {
      "text/html": [
       "<div>\n",
       "<style scoped>\n",
       "    .dataframe tbody tr th:only-of-type {\n",
       "        vertical-align: middle;\n",
       "    }\n",
       "\n",
       "    .dataframe tbody tr th {\n",
       "        vertical-align: top;\n",
       "    }\n",
       "\n",
       "    .dataframe thead th {\n",
       "        text-align: right;\n",
       "    }\n",
       "</style>\n",
       "<table border=\"1\" class=\"dataframe\">\n",
       "  <thead>\n",
       "    <tr style=\"text-align: right;\">\n",
       "      <th></th>\n",
       "      <th></th>\n",
       "      <th>atemp</th>\n",
       "      <th>casual</th>\n",
       "      <th>count</th>\n",
       "      <th>date</th>\n",
       "      <th>holiday</th>\n",
       "      <th>hour</th>\n",
       "      <th>humidity</th>\n",
       "      <th>registered</th>\n",
       "      <th>temp</th>\n",
       "      <th>weather</th>\n",
       "      <th>windspeed</th>\n",
       "      <th>workingday</th>\n",
       "      <th>year</th>\n",
       "    </tr>\n",
       "    <tr>\n",
       "      <th>season</th>\n",
       "      <th>month</th>\n",
       "      <th></th>\n",
       "      <th></th>\n",
       "      <th></th>\n",
       "      <th></th>\n",
       "      <th></th>\n",
       "      <th></th>\n",
       "      <th></th>\n",
       "      <th></th>\n",
       "      <th></th>\n",
       "      <th></th>\n",
       "      <th></th>\n",
       "      <th></th>\n",
       "      <th></th>\n",
       "    </tr>\n",
       "  </thead>\n",
       "  <tbody>\n",
       "    <tr>\n",
       "      <th rowspan=\"3\" valign=\"top\">1</th>\n",
       "      <th>1</th>\n",
       "      <td>12.102632</td>\n",
       "      <td>8.233294</td>\n",
       "      <td>90.082063</td>\n",
       "      <td>2.953107</td>\n",
       "      <td>0.082063</td>\n",
       "      <td>11.737397</td>\n",
       "      <td>56.379836</td>\n",
       "      <td>81.848769</td>\n",
       "      <td>9.799625</td>\n",
       "      <td>1.409144</td>\n",
       "      <td>14.348887</td>\n",
       "      <td>0.614302</td>\n",
       "      <td>2011.501758</td>\n",
       "    </tr>\n",
       "    <tr>\n",
       "      <th>2</th>\n",
       "      <td>14.519982</td>\n",
       "      <td>10.092090</td>\n",
       "      <td>110.330579</td>\n",
       "      <td>3.126328</td>\n",
       "      <td>0.000000</td>\n",
       "      <td>11.436836</td>\n",
       "      <td>57.641086</td>\n",
       "      <td>100.238489</td>\n",
       "      <td>11.709445</td>\n",
       "      <td>1.478158</td>\n",
       "      <td>13.255875</td>\n",
       "      <td>0.721370</td>\n",
       "      <td>2011.520661</td>\n",
       "    </tr>\n",
       "    <tr>\n",
       "      <th>3</th>\n",
       "      <td>19.026882</td>\n",
       "      <td>28.502959</td>\n",
       "      <td>148.776331</td>\n",
       "      <td>3.061538</td>\n",
       "      <td>0.000000</td>\n",
       "      <td>11.465089</td>\n",
       "      <td>58.671006</td>\n",
       "      <td>120.273373</td>\n",
       "      <td>15.882769</td>\n",
       "      <td>1.373964</td>\n",
       "      <td>14.941468</td>\n",
       "      <td>0.702959</td>\n",
       "      <td>2011.512426</td>\n",
       "    </tr>\n",
       "    <tr>\n",
       "      <th rowspan=\"3\" valign=\"top\">2</th>\n",
       "      <th>4</th>\n",
       "      <td>22.175540</td>\n",
       "      <td>43.725287</td>\n",
       "      <td>184.258621</td>\n",
       "      <td>3.025287</td>\n",
       "      <td>0.054023</td>\n",
       "      <td>11.419540</td>\n",
       "      <td>55.886207</td>\n",
       "      <td>140.533333</td>\n",
       "      <td>18.574414</td>\n",
       "      <td>1.425287</td>\n",
       "      <td>15.185612</td>\n",
       "      <td>0.650575</td>\n",
       "      <td>2011.508046</td>\n",
       "    </tr>\n",
       "    <tr>\n",
       "      <th>5</th>\n",
       "      <td>26.624313</td>\n",
       "      <td>45.254707</td>\n",
       "      <td>219.091916</td>\n",
       "      <td>2.929125</td>\n",
       "      <td>0.000000</td>\n",
       "      <td>11.485050</td>\n",
       "      <td>68.230343</td>\n",
       "      <td>173.837209</td>\n",
       "      <td>22.663965</td>\n",
       "      <td>1.524917</td>\n",
       "      <td>12.787866</td>\n",
       "      <td>0.734219</td>\n",
       "      <td>2011.501661</td>\n",
       "    </tr>\n",
       "    <tr>\n",
       "      <th>6</th>\n",
       "      <td>30.979467</td>\n",
       "      <td>53.193119</td>\n",
       "      <td>240.391787</td>\n",
       "      <td>3.175361</td>\n",
       "      <td>0.000000</td>\n",
       "      <td>11.489456</td>\n",
       "      <td>58.983352</td>\n",
       "      <td>187.198668</td>\n",
       "      <td>27.050899</td>\n",
       "      <td>1.310766</td>\n",
       "      <td>12.658732</td>\n",
       "      <td>0.680355</td>\n",
       "      <td>2011.498335</td>\n",
       "    </tr>\n",
       "    <tr>\n",
       "      <th rowspan=\"3\" valign=\"top\">3</th>\n",
       "      <th>7</th>\n",
       "      <td>34.886564</td>\n",
       "      <td>55.580110</td>\n",
       "      <td>234.197790</td>\n",
       "      <td>2.948066</td>\n",
       "      <td>0.053039</td>\n",
       "      <td>11.462983</td>\n",
       "      <td>58.413260</td>\n",
       "      <td>178.617680</td>\n",
       "      <td>30.832906</td>\n",
       "      <td>1.246409</td>\n",
       "      <td>11.539836</td>\n",
       "      <td>0.658564</td>\n",
       "      <td>2011.499448</td>\n",
       "    </tr>\n",
       "    <tr>\n",
       "      <th>8</th>\n",
       "      <td>33.109237</td>\n",
       "      <td>50.038717</td>\n",
       "      <td>233.545354</td>\n",
       "      <td>2.982301</td>\n",
       "      <td>0.000000</td>\n",
       "      <td>11.460177</td>\n",
       "      <td>62.997788</td>\n",
       "      <td>183.506637</td>\n",
       "      <td>29.730442</td>\n",
       "      <td>1.346239</td>\n",
       "      <td>12.461941</td>\n",
       "      <td>0.740044</td>\n",
       "      <td>2011.502212</td>\n",
       "    </tr>\n",
       "    <tr>\n",
       "      <th>9</th>\n",
       "      <td>29.572191</td>\n",
       "      <td>50.353726</td>\n",
       "      <td>232.984427</td>\n",
       "      <td>3.066741</td>\n",
       "      <td>0.052280</td>\n",
       "      <td>11.525028</td>\n",
       "      <td>70.968854</td>\n",
       "      <td>182.630701</td>\n",
       "      <td>25.762047</td>\n",
       "      <td>1.488320</td>\n",
       "      <td>12.112027</td>\n",
       "      <td>0.630701</td>\n",
       "      <td>2011.498331</td>\n",
       "    </tr>\n",
       "    <tr>\n",
       "      <th rowspan=\"3\" valign=\"top\">4</th>\n",
       "      <th>10</th>\n",
       "      <td>24.711885</td>\n",
       "      <td>41.025499</td>\n",
       "      <td>225.874723</td>\n",
       "      <td>2.838137</td>\n",
       "      <td>0.053215</td>\n",
       "      <td>11.488914</td>\n",
       "      <td>69.544346</td>\n",
       "      <td>184.849224</td>\n",
       "      <td>20.910909</td>\n",
       "      <td>1.524390</td>\n",
       "      <td>12.078533</td>\n",
       "      <td>0.685144</td>\n",
       "      <td>2011.501109</td>\n",
       "    </tr>\n",
       "    <tr>\n",
       "      <th>11</th>\n",
       "      <td>18.311390</td>\n",
       "      <td>27.674419</td>\n",
       "      <td>193.537099</td>\n",
       "      <td>3.073090</td>\n",
       "      <td>0.049834</td>\n",
       "      <td>11.514950</td>\n",
       "      <td>60.866002</td>\n",
       "      <td>165.862680</td>\n",
       "      <td>15.170454</td>\n",
       "      <td>1.356589</td>\n",
       "      <td>13.608709</td>\n",
       "      <td>0.658915</td>\n",
       "      <td>2011.500554</td>\n",
       "    </tr>\n",
       "    <tr>\n",
       "      <th>12</th>\n",
       "      <td>17.108499</td>\n",
       "      <td>16.129139</td>\n",
       "      <td>176.019868</td>\n",
       "      <td>3.059603</td>\n",
       "      <td>0.000000</td>\n",
       "      <td>11.464680</td>\n",
       "      <td>68.398455</td>\n",
       "      <td>159.890728</td>\n",
       "      <td>13.815099</td>\n",
       "      <td>1.487859</td>\n",
       "      <td>11.616964</td>\n",
       "      <td>0.682119</td>\n",
       "      <td>2011.501104</td>\n",
       "    </tr>\n",
       "  </tbody>\n",
       "</table>\n",
       "</div>"
      ],
      "text/plain": [
       "                  atemp     casual       count      date   holiday       hour  \\\n",
       "season month                                                                    \n",
       "1      1      12.102632   8.233294   90.082063  2.953107  0.082063  11.737397   \n",
       "       2      14.519982  10.092090  110.330579  3.126328  0.000000  11.436836   \n",
       "       3      19.026882  28.502959  148.776331  3.061538  0.000000  11.465089   \n",
       "2      4      22.175540  43.725287  184.258621  3.025287  0.054023  11.419540   \n",
       "       5      26.624313  45.254707  219.091916  2.929125  0.000000  11.485050   \n",
       "       6      30.979467  53.193119  240.391787  3.175361  0.000000  11.489456   \n",
       "3      7      34.886564  55.580110  234.197790  2.948066  0.053039  11.462983   \n",
       "       8      33.109237  50.038717  233.545354  2.982301  0.000000  11.460177   \n",
       "       9      29.572191  50.353726  232.984427  3.066741  0.052280  11.525028   \n",
       "4      10     24.711885  41.025499  225.874723  2.838137  0.053215  11.488914   \n",
       "       11     18.311390  27.674419  193.537099  3.073090  0.049834  11.514950   \n",
       "       12     17.108499  16.129139  176.019868  3.059603  0.000000  11.464680   \n",
       "\n",
       "               humidity  registered       temp   weather  windspeed  \\\n",
       "season month                                                          \n",
       "1      1      56.379836   81.848769   9.799625  1.409144  14.348887   \n",
       "       2      57.641086  100.238489  11.709445  1.478158  13.255875   \n",
       "       3      58.671006  120.273373  15.882769  1.373964  14.941468   \n",
       "2      4      55.886207  140.533333  18.574414  1.425287  15.185612   \n",
       "       5      68.230343  173.837209  22.663965  1.524917  12.787866   \n",
       "       6      58.983352  187.198668  27.050899  1.310766  12.658732   \n",
       "3      7      58.413260  178.617680  30.832906  1.246409  11.539836   \n",
       "       8      62.997788  183.506637  29.730442  1.346239  12.461941   \n",
       "       9      70.968854  182.630701  25.762047  1.488320  12.112027   \n",
       "4      10     69.544346  184.849224  20.910909  1.524390  12.078533   \n",
       "       11     60.866002  165.862680  15.170454  1.356589  13.608709   \n",
       "       12     68.398455  159.890728  13.815099  1.487859  11.616964   \n",
       "\n",
       "              workingday         year  \n",
       "season month                           \n",
       "1      1        0.614302  2011.501758  \n",
       "       2        0.721370  2011.520661  \n",
       "       3        0.702959  2011.512426  \n",
       "2      4        0.650575  2011.508046  \n",
       "       5        0.734219  2011.501661  \n",
       "       6        0.680355  2011.498335  \n",
       "3      7        0.658564  2011.499448  \n",
       "       8        0.740044  2011.502212  \n",
       "       9        0.630701  2011.498331  \n",
       "4      10       0.685144  2011.501109  \n",
       "       11       0.658915  2011.500554  \n",
       "       12       0.682119  2011.501104  "
      ]
     },
     "execution_count": 24,
     "metadata": {},
     "output_type": "execute_result"
    }
   ],
   "source": [
    "# season과 month별로 pivot table 생성하여 확인하기\n",
    "pd.pivot_table(cleaned_train_df, index=['season', 'month'])"
   ]
  },
  {
   "cell_type": "markdown",
   "id": "a6296bda",
   "metadata": {},
   "source": [
    "1. season 1은 1,2,3월이 포함됨\n",
    "2. season 2는 4,5,6월이 포함됨\n",
    "3. season 3은 7,8,9월이 포함됨\n",
    "4. season 4는 10,11,12월이 포함됨\n",
    "\n",
    "따라서 `season`컬럼을 삭제 및 **`month`컬럼으로 `season`컬럼을 대체**"
   ]
  },
  {
   "cell_type": "markdown",
   "id": "d591280f",
   "metadata": {},
   "source": [
    "### 3) atemp, temp 상관계수 0.99\n",
    "체감온도와, 실제온도는 매우 비슷한 값이 측정된 수치로 두 컬럼의 상관계수가 높게 형성됨\n",
    "</br>atemp와 temp 컬럼 중 1개의 컬럼을 삭제하거나, 주성분 분석을 진행하여 두 컬럼을 하나의 성분으로 변환\n",
    "\n",
    "#### PCA(주성분 분석) 진행\n",
    "atemp, temp 컬럼의 주성분 분석을 통해서 하나의 컬럼으로 변환작업 진행"
   ]
  },
  {
   "cell_type": "code",
   "execution_count": 25,
   "id": "6b60090a",
   "metadata": {
    "scrolled": false
   },
   "outputs": [
    {
     "data": {
      "text/html": [
       "<div>\n",
       "<style scoped>\n",
       "    .dataframe tbody tr th:only-of-type {\n",
       "        vertical-align: middle;\n",
       "    }\n",
       "\n",
       "    .dataframe tbody tr th {\n",
       "        vertical-align: top;\n",
       "    }\n",
       "\n",
       "    .dataframe thead th {\n",
       "        text-align: right;\n",
       "    }\n",
       "</style>\n",
       "<table border=\"1\" class=\"dataframe\">\n",
       "  <thead>\n",
       "    <tr style=\"text-align: right;\">\n",
       "      <th></th>\n",
       "      <th>datetime</th>\n",
       "      <th>season</th>\n",
       "      <th>holiday</th>\n",
       "      <th>workingday</th>\n",
       "      <th>weather</th>\n",
       "      <th>temp</th>\n",
       "      <th>atemp</th>\n",
       "      <th>humidity</th>\n",
       "      <th>windspeed</th>\n",
       "      <th>casual</th>\n",
       "      <th>registered</th>\n",
       "      <th>count</th>\n",
       "      <th>year</th>\n",
       "      <th>date</th>\n",
       "      <th>month</th>\n",
       "      <th>hour</th>\n",
       "      <th>scaled_atemp</th>\n",
       "      <th>scaled_temp</th>\n",
       "    </tr>\n",
       "  </thead>\n",
       "  <tbody>\n",
       "    <tr>\n",
       "      <th>0</th>\n",
       "      <td>2011-01-01 00:00:00</td>\n",
       "      <td>1</td>\n",
       "      <td>0</td>\n",
       "      <td>0</td>\n",
       "      <td>1</td>\n",
       "      <td>9.84</td>\n",
       "      <td>14.395</td>\n",
       "      <td>81</td>\n",
       "      <td>6.0032</td>\n",
       "      <td>3</td>\n",
       "      <td>13</td>\n",
       "      <td>16</td>\n",
       "      <td>2011</td>\n",
       "      <td>5</td>\n",
       "      <td>1</td>\n",
       "      <td>0</td>\n",
       "      <td>-1.104098</td>\n",
       "      <td>-1.339360</td>\n",
       "    </tr>\n",
       "    <tr>\n",
       "      <th>1</th>\n",
       "      <td>2011-01-01 01:00:00</td>\n",
       "      <td>1</td>\n",
       "      <td>0</td>\n",
       "      <td>0</td>\n",
       "      <td>1</td>\n",
       "      <td>9.02</td>\n",
       "      <td>13.635</td>\n",
       "      <td>80</td>\n",
       "      <td>6.0032</td>\n",
       "      <td>8</td>\n",
       "      <td>32</td>\n",
       "      <td>40</td>\n",
       "      <td>2011</td>\n",
       "      <td>5</td>\n",
       "      <td>1</td>\n",
       "      <td>1</td>\n",
       "      <td>-1.194059</td>\n",
       "      <td>-1.444583</td>\n",
       "    </tr>\n",
       "    <tr>\n",
       "      <th>2</th>\n",
       "      <td>2011-01-01 02:00:00</td>\n",
       "      <td>1</td>\n",
       "      <td>0</td>\n",
       "      <td>0</td>\n",
       "      <td>1</td>\n",
       "      <td>9.02</td>\n",
       "      <td>13.635</td>\n",
       "      <td>80</td>\n",
       "      <td>6.0032</td>\n",
       "      <td>5</td>\n",
       "      <td>27</td>\n",
       "      <td>32</td>\n",
       "      <td>2011</td>\n",
       "      <td>5</td>\n",
       "      <td>1</td>\n",
       "      <td>2</td>\n",
       "      <td>-1.194059</td>\n",
       "      <td>-1.444583</td>\n",
       "    </tr>\n",
       "    <tr>\n",
       "      <th>3</th>\n",
       "      <td>2011-01-01 03:00:00</td>\n",
       "      <td>1</td>\n",
       "      <td>0</td>\n",
       "      <td>0</td>\n",
       "      <td>1</td>\n",
       "      <td>9.84</td>\n",
       "      <td>14.395</td>\n",
       "      <td>75</td>\n",
       "      <td>6.0032</td>\n",
       "      <td>3</td>\n",
       "      <td>10</td>\n",
       "      <td>13</td>\n",
       "      <td>2011</td>\n",
       "      <td>5</td>\n",
       "      <td>1</td>\n",
       "      <td>3</td>\n",
       "      <td>-1.104098</td>\n",
       "      <td>-1.339360</td>\n",
       "    </tr>\n",
       "    <tr>\n",
       "      <th>4</th>\n",
       "      <td>2011-01-01 04:00:00</td>\n",
       "      <td>1</td>\n",
       "      <td>0</td>\n",
       "      <td>0</td>\n",
       "      <td>1</td>\n",
       "      <td>9.84</td>\n",
       "      <td>14.395</td>\n",
       "      <td>75</td>\n",
       "      <td>6.0032</td>\n",
       "      <td>0</td>\n",
       "      <td>1</td>\n",
       "      <td>1</td>\n",
       "      <td>2011</td>\n",
       "      <td>5</td>\n",
       "      <td>1</td>\n",
       "      <td>4</td>\n",
       "      <td>-1.104098</td>\n",
       "      <td>-1.339360</td>\n",
       "    </tr>\n",
       "    <tr>\n",
       "      <th>...</th>\n",
       "      <td>...</td>\n",
       "      <td>...</td>\n",
       "      <td>...</td>\n",
       "      <td>...</td>\n",
       "      <td>...</td>\n",
       "      <td>...</td>\n",
       "      <td>...</td>\n",
       "      <td>...</td>\n",
       "      <td>...</td>\n",
       "      <td>...</td>\n",
       "      <td>...</td>\n",
       "      <td>...</td>\n",
       "      <td>...</td>\n",
       "      <td>...</td>\n",
       "      <td>...</td>\n",
       "      <td>...</td>\n",
       "      <td>...</td>\n",
       "      <td>...</td>\n",
       "    </tr>\n",
       "    <tr>\n",
       "      <th>10881</th>\n",
       "      <td>2012-12-19 19:00:00</td>\n",
       "      <td>4</td>\n",
       "      <td>0</td>\n",
       "      <td>1</td>\n",
       "      <td>1</td>\n",
       "      <td>15.58</td>\n",
       "      <td>19.695</td>\n",
       "      <td>50</td>\n",
       "      <td>26.0027</td>\n",
       "      <td>7</td>\n",
       "      <td>329</td>\n",
       "      <td>336</td>\n",
       "      <td>2012</td>\n",
       "      <td>2</td>\n",
       "      <td>12</td>\n",
       "      <td>19</td>\n",
       "      <td>-0.476741</td>\n",
       "      <td>-0.602800</td>\n",
       "    </tr>\n",
       "    <tr>\n",
       "      <th>10882</th>\n",
       "      <td>2012-12-19 20:00:00</td>\n",
       "      <td>4</td>\n",
       "      <td>0</td>\n",
       "      <td>1</td>\n",
       "      <td>1</td>\n",
       "      <td>14.76</td>\n",
       "      <td>17.425</td>\n",
       "      <td>57</td>\n",
       "      <td>15.0013</td>\n",
       "      <td>10</td>\n",
       "      <td>231</td>\n",
       "      <td>241</td>\n",
       "      <td>2012</td>\n",
       "      <td>2</td>\n",
       "      <td>12</td>\n",
       "      <td>20</td>\n",
       "      <td>-0.745439</td>\n",
       "      <td>-0.708023</td>\n",
       "    </tr>\n",
       "    <tr>\n",
       "      <th>10883</th>\n",
       "      <td>2012-12-19 21:00:00</td>\n",
       "      <td>4</td>\n",
       "      <td>0</td>\n",
       "      <td>1</td>\n",
       "      <td>1</td>\n",
       "      <td>13.94</td>\n",
       "      <td>15.910</td>\n",
       "      <td>61</td>\n",
       "      <td>15.0013</td>\n",
       "      <td>4</td>\n",
       "      <td>164</td>\n",
       "      <td>168</td>\n",
       "      <td>2012</td>\n",
       "      <td>2</td>\n",
       "      <td>12</td>\n",
       "      <td>21</td>\n",
       "      <td>-0.924769</td>\n",
       "      <td>-0.813246</td>\n",
       "    </tr>\n",
       "    <tr>\n",
       "      <th>10884</th>\n",
       "      <td>2012-12-19 22:00:00</td>\n",
       "      <td>4</td>\n",
       "      <td>0</td>\n",
       "      <td>1</td>\n",
       "      <td>1</td>\n",
       "      <td>13.94</td>\n",
       "      <td>17.425</td>\n",
       "      <td>61</td>\n",
       "      <td>6.0032</td>\n",
       "      <td>12</td>\n",
       "      <td>117</td>\n",
       "      <td>129</td>\n",
       "      <td>2012</td>\n",
       "      <td>2</td>\n",
       "      <td>12</td>\n",
       "      <td>22</td>\n",
       "      <td>-0.745439</td>\n",
       "      <td>-0.813246</td>\n",
       "    </tr>\n",
       "    <tr>\n",
       "      <th>10885</th>\n",
       "      <td>2012-12-19 23:00:00</td>\n",
       "      <td>4</td>\n",
       "      <td>0</td>\n",
       "      <td>1</td>\n",
       "      <td>1</td>\n",
       "      <td>13.12</td>\n",
       "      <td>16.665</td>\n",
       "      <td>66</td>\n",
       "      <td>8.9981</td>\n",
       "      <td>4</td>\n",
       "      <td>84</td>\n",
       "      <td>88</td>\n",
       "      <td>2012</td>\n",
       "      <td>2</td>\n",
       "      <td>12</td>\n",
       "      <td>23</td>\n",
       "      <td>-0.835400</td>\n",
       "      <td>-0.918469</td>\n",
       "    </tr>\n",
       "  </tbody>\n",
       "</table>\n",
       "<p>10638 rows × 18 columns</p>\n",
       "</div>"
      ],
      "text/plain": [
       "                 datetime  season  holiday  workingday  weather   temp  \\\n",
       "0     2011-01-01 00:00:00       1        0           0        1   9.84   \n",
       "1     2011-01-01 01:00:00       1        0           0        1   9.02   \n",
       "2     2011-01-01 02:00:00       1        0           0        1   9.02   \n",
       "3     2011-01-01 03:00:00       1        0           0        1   9.84   \n",
       "4     2011-01-01 04:00:00       1        0           0        1   9.84   \n",
       "...                   ...     ...      ...         ...      ...    ...   \n",
       "10881 2012-12-19 19:00:00       4        0           1        1  15.58   \n",
       "10882 2012-12-19 20:00:00       4        0           1        1  14.76   \n",
       "10883 2012-12-19 21:00:00       4        0           1        1  13.94   \n",
       "10884 2012-12-19 22:00:00       4        0           1        1  13.94   \n",
       "10885 2012-12-19 23:00:00       4        0           1        1  13.12   \n",
       "\n",
       "        atemp  humidity  windspeed  casual  registered  count  year  date  \\\n",
       "0      14.395        81     6.0032       3          13     16  2011     5   \n",
       "1      13.635        80     6.0032       8          32     40  2011     5   \n",
       "2      13.635        80     6.0032       5          27     32  2011     5   \n",
       "3      14.395        75     6.0032       3          10     13  2011     5   \n",
       "4      14.395        75     6.0032       0           1      1  2011     5   \n",
       "...       ...       ...        ...     ...         ...    ...   ...   ...   \n",
       "10881  19.695        50    26.0027       7         329    336  2012     2   \n",
       "10882  17.425        57    15.0013      10         231    241  2012     2   \n",
       "10883  15.910        61    15.0013       4         164    168  2012     2   \n",
       "10884  17.425        61     6.0032      12         117    129  2012     2   \n",
       "10885  16.665        66     8.9981       4          84     88  2012     2   \n",
       "\n",
       "       month  hour  scaled_atemp  scaled_temp  \n",
       "0          1     0     -1.104098    -1.339360  \n",
       "1          1     1     -1.194059    -1.444583  \n",
       "2          1     2     -1.194059    -1.444583  \n",
       "3          1     3     -1.104098    -1.339360  \n",
       "4          1     4     -1.104098    -1.339360  \n",
       "...      ...   ...           ...          ...  \n",
       "10881     12    19     -0.476741    -0.602800  \n",
       "10882     12    20     -0.745439    -0.708023  \n",
       "10883     12    21     -0.924769    -0.813246  \n",
       "10884     12    22     -0.745439    -0.813246  \n",
       "10885     12    23     -0.835400    -0.918469  \n",
       "\n",
       "[10638 rows x 18 columns]"
      ]
     },
     "execution_count": 25,
     "metadata": {},
     "output_type": "execute_result"
    }
   ],
   "source": [
    "from sklearn.preprocessing import StandardScaler\n",
    "\n",
    "# 표준화 함수 정의\n",
    "scaler = StandardScaler()\n",
    "\n",
    "# 데이터 복사\n",
    "feature_scaling_df = cleaned_train_df.copy()\n",
    "feature_scaling_df_test = test_df.copy()\n",
    "\n",
    "scaled_temp = scaler.fit_transform(feature_scaling_df[['atemp', 'temp']])\n",
    "scaled_temp_test = scaler.fit_transform(feature_scaling_df_test[['atemp', 'temp']])\n",
    "\n",
    "# scaled_temp\n",
    "feature_scaling_df['scaled_atemp'] = scaled_temp[:, 0]\n",
    "feature_scaling_df['scaled_temp'] = scaled_temp[:, 1]\n",
    "\n",
    "feature_scaling_df_test['scaled_atemp'] = scaled_temp_test[:, 0]\n",
    "feature_scaling_df_test['scaled_temp'] = scaled_temp_test[:, 1]\n",
    "\n",
    "feature_scaling_df"
   ]
  },
  {
   "cell_type": "code",
   "execution_count": 26,
   "id": "4b31fafa",
   "metadata": {
    "scrolled": true
   },
   "outputs": [
    {
     "data": {
      "text/html": [
       "<div>\n",
       "<style scoped>\n",
       "    .dataframe tbody tr th:only-of-type {\n",
       "        vertical-align: middle;\n",
       "    }\n",
       "\n",
       "    .dataframe tbody tr th {\n",
       "        vertical-align: top;\n",
       "    }\n",
       "\n",
       "    .dataframe thead th {\n",
       "        text-align: right;\n",
       "    }\n",
       "</style>\n",
       "<table border=\"1\" class=\"dataframe\">\n",
       "  <thead>\n",
       "    <tr style=\"text-align: right;\">\n",
       "      <th></th>\n",
       "      <th>datetime</th>\n",
       "      <th>season</th>\n",
       "      <th>holiday</th>\n",
       "      <th>workingday</th>\n",
       "      <th>weather</th>\n",
       "      <th>temp</th>\n",
       "      <th>atemp</th>\n",
       "      <th>humidity</th>\n",
       "      <th>windspeed</th>\n",
       "      <th>casual</th>\n",
       "      <th>registered</th>\n",
       "      <th>count</th>\n",
       "      <th>year</th>\n",
       "      <th>date</th>\n",
       "      <th>month</th>\n",
       "      <th>hour</th>\n",
       "      <th>scaled_atemp</th>\n",
       "      <th>scaled_temp</th>\n",
       "      <th>temp_pca</th>\n",
       "    </tr>\n",
       "  </thead>\n",
       "  <tbody>\n",
       "    <tr>\n",
       "      <th>5356</th>\n",
       "      <td>2011-12-17 06:00:00</td>\n",
       "      <td>4</td>\n",
       "      <td>0</td>\n",
       "      <td>0</td>\n",
       "      <td>2</td>\n",
       "      <td>10.66</td>\n",
       "      <td>12.120</td>\n",
       "      <td>56</td>\n",
       "      <td>19.0012</td>\n",
       "      <td>0</td>\n",
       "      <td>17</td>\n",
       "      <td>17</td>\n",
       "      <td>2011</td>\n",
       "      <td>5</td>\n",
       "      <td>12</td>\n",
       "      <td>6</td>\n",
       "      <td>-1.373388</td>\n",
       "      <td>-1.234137</td>\n",
       "      <td>1.843799</td>\n",
       "    </tr>\n",
       "    <tr>\n",
       "      <th>8852</th>\n",
       "      <td>2012-08-11 05:00:00</td>\n",
       "      <td>3</td>\n",
       "      <td>0</td>\n",
       "      <td>0</td>\n",
       "      <td>1</td>\n",
       "      <td>25.42</td>\n",
       "      <td>28.030</td>\n",
       "      <td>88</td>\n",
       "      <td>7.0015</td>\n",
       "      <td>2</td>\n",
       "      <td>9</td>\n",
       "      <td>11</td>\n",
       "      <td>2012</td>\n",
       "      <td>5</td>\n",
       "      <td>8</td>\n",
       "      <td>5</td>\n",
       "      <td>0.509867</td>\n",
       "      <td>0.659873</td>\n",
       "      <td>-0.827131</td>\n",
       "    </tr>\n",
       "    <tr>\n",
       "      <th>7186</th>\n",
       "      <td>2012-04-17 19:00:00</td>\n",
       "      <td>2</td>\n",
       "      <td>0</td>\n",
       "      <td>1</td>\n",
       "      <td>1</td>\n",
       "      <td>24.60</td>\n",
       "      <td>30.305</td>\n",
       "      <td>26</td>\n",
       "      <td>16.9979</td>\n",
       "      <td>73</td>\n",
       "      <td>464</td>\n",
       "      <td>537</td>\n",
       "      <td>2012</td>\n",
       "      <td>1</td>\n",
       "      <td>4</td>\n",
       "      <td>19</td>\n",
       "      <td>0.779157</td>\n",
       "      <td>0.554650</td>\n",
       "      <td>-0.943144</td>\n",
       "    </tr>\n",
       "    <tr>\n",
       "      <th>92</th>\n",
       "      <td>2011-01-05 00:00:00</td>\n",
       "      <td>1</td>\n",
       "      <td>0</td>\n",
       "      <td>1</td>\n",
       "      <td>1</td>\n",
       "      <td>8.20</td>\n",
       "      <td>12.880</td>\n",
       "      <td>64</td>\n",
       "      <td>6.0032</td>\n",
       "      <td>0</td>\n",
       "      <td>6</td>\n",
       "      <td>6</td>\n",
       "      <td>2011</td>\n",
       "      <td>2</td>\n",
       "      <td>1</td>\n",
       "      <td>0</td>\n",
       "      <td>-1.283428</td>\n",
       "      <td>-1.549805</td>\n",
       "      <td>2.003398</td>\n",
       "    </tr>\n",
       "    <tr>\n",
       "      <th>10584</th>\n",
       "      <td>2012-12-07 10:00:00</td>\n",
       "      <td>4</td>\n",
       "      <td>0</td>\n",
       "      <td>1</td>\n",
       "      <td>2</td>\n",
       "      <td>13.12</td>\n",
       "      <td>15.910</td>\n",
       "      <td>76</td>\n",
       "      <td>11.0014</td>\n",
       "      <td>16</td>\n",
       "      <td>150</td>\n",
       "      <td>166</td>\n",
       "      <td>2012</td>\n",
       "      <td>4</td>\n",
       "      <td>12</td>\n",
       "      <td>10</td>\n",
       "      <td>-0.924769</td>\n",
       "      <td>-0.918469</td>\n",
       "      <td>1.303366</td>\n",
       "    </tr>\n",
       "  </tbody>\n",
       "</table>\n",
       "</div>"
      ],
      "text/plain": [
       "                 datetime  season  holiday  workingday  weather   temp  \\\n",
       "5356  2011-12-17 06:00:00       4        0           0        2  10.66   \n",
       "8852  2012-08-11 05:00:00       3        0           0        1  25.42   \n",
       "7186  2012-04-17 19:00:00       2        0           1        1  24.60   \n",
       "92    2011-01-05 00:00:00       1        0           1        1   8.20   \n",
       "10584 2012-12-07 10:00:00       4        0           1        2  13.12   \n",
       "\n",
       "        atemp  humidity  windspeed  casual  registered  count  year  date  \\\n",
       "5356   12.120        56    19.0012       0          17     17  2011     5   \n",
       "8852   28.030        88     7.0015       2           9     11  2012     5   \n",
       "7186   30.305        26    16.9979      73         464    537  2012     1   \n",
       "92     12.880        64     6.0032       0           6      6  2011     2   \n",
       "10584  15.910        76    11.0014      16         150    166  2012     4   \n",
       "\n",
       "       month  hour  scaled_atemp  scaled_temp  temp_pca  \n",
       "5356      12     6     -1.373388    -1.234137  1.843799  \n",
       "8852       8     5      0.509867     0.659873 -0.827131  \n",
       "7186       4    19      0.779157     0.554650 -0.943144  \n",
       "92         1     0     -1.283428    -1.549805  2.003398  \n",
       "10584     12    10     -0.924769    -0.918469  1.303366  "
      ]
     },
     "execution_count": 26,
     "metadata": {},
     "output_type": "execute_result"
    }
   ],
   "source": [
    "from sklearn.decomposition import PCA\n",
    "\n",
    "# 주성분 분석을 진행할 컬럼만 데이터프레임으로 변경\n",
    "temp_df = feature_scaling_df[['scaled_temp', 'scaled_atemp']]\n",
    "temp_df_test = feature_scaling_df_test[['scaled_temp', 'scaled_atemp']]\n",
    "\n",
    "\n",
    "# 주성분분석 모델 설정(주성분은 1개)\n",
    "pca = PCA(n_components=1, random_state=42)\n",
    "pca2 = PCA(n_components=1, random_state=42)\n",
    "\n",
    "# 주성분 변환 진행\n",
    "temp_components = pca.fit_transform(temp_df[['scaled_temp', 'scaled_atemp']])\n",
    "temp_components_test = pca.fit_transform(temp_df_test[['scaled_temp', 'scaled_atemp']])\n",
    "\n",
    "\n",
    "# 주성분 값 적용\n",
    "feature_scaling_df['temp_pca'] = temp_components\n",
    "feature_scaling_df_test['temp_pca'] = temp_components_test\n",
    "\n",
    "\n",
    "feature_scaling_df.sample(5)"
   ]
  },
  {
   "cell_type": "code",
   "execution_count": 27,
   "id": "2dc583f0",
   "metadata": {
    "scrolled": false
   },
   "outputs": [
    {
     "name": "stdout",
     "output_type": "stream",
     "text": [
      "[[0.70710678 0.70710678]]\n"
     ]
    }
   ],
   "source": [
    "# pca의 주성분 벡터의 계수 확인\n",
    "print(pca.components_)"
   ]
  },
  {
   "cell_type": "code",
   "execution_count": 28,
   "id": "5ad22576",
   "metadata": {},
   "outputs": [
    {
     "data": {
      "text/plain": [
       "array([0.99596813])"
      ]
     },
     "execution_count": 28,
     "metadata": {},
     "output_type": "execute_result"
    }
   ],
   "source": [
    "# 생성된 주성분의 분산비율 확인\n",
    "pca.explained_variance_ratio_"
   ]
  },
  {
   "cell_type": "markdown",
   "id": "36b36c23",
   "metadata": {},
   "source": [
    "#### temp와 atemp 데이터의 값이 클수록 temp_pca의 값은 낮아지는 이유\n",
    "- pca의 가중치 값은 **-0.6775837**, **-0.73544567** 으로 전부 음수이다.\n",
    "- 음수 벡터 계수에 의하여 높은 `temp`와 `atemp` 값은 `temp_pca`에서 음의 영향을 받음"
   ]
  },
  {
   "cell_type": "markdown",
   "id": "8b3decb1",
   "metadata": {},
   "source": [
    "## 4.2 연속형 데이터 피쳐 스케일링"
   ]
  },
  {
   "cell_type": "markdown",
   "id": "dfab370e",
   "metadata": {},
   "source": [
    "연속형(수치형) 데이터의 범위를 맞춰주기 위해 데이터 스케일링을 진행한다.\n",
    "<bR>데이터의 퍼진 정도가 크지 않으므로, 정규화 방법을 사용하여 피쳐 스케일링 진행\n",
    "   \n"
   ]
  },
  {
   "cell_type": "code",
   "execution_count": 29,
   "id": "9353ed9d",
   "metadata": {},
   "outputs": [
    {
     "data": {
      "text/html": [
       "<div>\n",
       "<style scoped>\n",
       "    .dataframe tbody tr th:only-of-type {\n",
       "        vertical-align: middle;\n",
       "    }\n",
       "\n",
       "    .dataframe tbody tr th {\n",
       "        vertical-align: top;\n",
       "    }\n",
       "\n",
       "    .dataframe thead th {\n",
       "        text-align: right;\n",
       "    }\n",
       "</style>\n",
       "<table border=\"1\" class=\"dataframe\">\n",
       "  <thead>\n",
       "    <tr style=\"text-align: right;\">\n",
       "      <th></th>\n",
       "      <th>datetime</th>\n",
       "      <th>season</th>\n",
       "      <th>holiday</th>\n",
       "      <th>workingday</th>\n",
       "      <th>weather</th>\n",
       "      <th>temp</th>\n",
       "      <th>atemp</th>\n",
       "      <th>humidity</th>\n",
       "      <th>windspeed</th>\n",
       "      <th>casual</th>\n",
       "      <th>registered</th>\n",
       "      <th>count</th>\n",
       "      <th>year</th>\n",
       "      <th>date</th>\n",
       "      <th>month</th>\n",
       "      <th>hour</th>\n",
       "      <th>scaled_atemp</th>\n",
       "      <th>scaled_temp</th>\n",
       "      <th>temp_pca</th>\n",
       "    </tr>\n",
       "  </thead>\n",
       "  <tbody>\n",
       "    <tr>\n",
       "      <th>6554</th>\n",
       "      <td>2012-03-10 08:00:00</td>\n",
       "      <td>1</td>\n",
       "      <td>0</td>\n",
       "      <td>0</td>\n",
       "      <td>1</td>\n",
       "      <td>9.02</td>\n",
       "      <td>10.605</td>\n",
       "      <td>0.391304</td>\n",
       "      <td>0.559904</td>\n",
       "      <td>15</td>\n",
       "      <td>96</td>\n",
       "      <td>111</td>\n",
       "      <td>2012</td>\n",
       "      <td>5</td>\n",
       "      <td>3</td>\n",
       "      <td>8</td>\n",
       "      <td>-1.552718</td>\n",
       "      <td>-1.444583</td>\n",
       "      <td>2.119411</td>\n",
       "    </tr>\n",
       "    <tr>\n",
       "      <th>7800</th>\n",
       "      <td>2012-06-05 09:00:00</td>\n",
       "      <td>2</td>\n",
       "      <td>0</td>\n",
       "      <td>1</td>\n",
       "      <td>2</td>\n",
       "      <td>21.32</td>\n",
       "      <td>25.000</td>\n",
       "      <td>0.695652</td>\n",
       "      <td>0.439828</td>\n",
       "      <td>50</td>\n",
       "      <td>285</td>\n",
       "      <td>335</td>\n",
       "      <td>2012</td>\n",
       "      <td>1</td>\n",
       "      <td>6</td>\n",
       "      <td>9</td>\n",
       "      <td>0.151208</td>\n",
       "      <td>0.133759</td>\n",
       "      <td>-0.201502</td>\n",
       "    </tr>\n",
       "    <tr>\n",
       "      <th>1542</th>\n",
       "      <td>2011-04-10 03:00:00</td>\n",
       "      <td>2</td>\n",
       "      <td>0</td>\n",
       "      <td>0</td>\n",
       "      <td>2</td>\n",
       "      <td>15.58</td>\n",
       "      <td>19.695</td>\n",
       "      <td>0.858696</td>\n",
       "      <td>0.119807</td>\n",
       "      <td>5</td>\n",
       "      <td>11</td>\n",
       "      <td>16</td>\n",
       "      <td>2011</td>\n",
       "      <td>6</td>\n",
       "      <td>4</td>\n",
       "      <td>3</td>\n",
       "      <td>-0.476741</td>\n",
       "      <td>-0.602800</td>\n",
       "      <td>0.763351</td>\n",
       "    </tr>\n",
       "  </tbody>\n",
       "</table>\n",
       "</div>"
      ],
      "text/plain": [
       "                datetime  season  holiday  workingday  weather   temp   atemp  \\\n",
       "6554 2012-03-10 08:00:00       1        0           0        1   9.02  10.605   \n",
       "7800 2012-06-05 09:00:00       2        0           1        2  21.32  25.000   \n",
       "1542 2011-04-10 03:00:00       2        0           0        2  15.58  19.695   \n",
       "\n",
       "      humidity  windspeed  casual  registered  count  year  date  month  hour  \\\n",
       "6554  0.391304   0.559904      15          96    111  2012     5      3     8   \n",
       "7800  0.695652   0.439828      50         285    335  2012     1      6     9   \n",
       "1542  0.858696   0.119807       5          11     16  2011     6      4     3   \n",
       "\n",
       "      scaled_atemp  scaled_temp  temp_pca  \n",
       "6554     -1.552718    -1.444583  2.119411  \n",
       "7800      0.151208     0.133759 -0.201502  \n",
       "1542     -0.476741    -0.602800  0.763351  "
      ]
     },
     "execution_count": 29,
     "metadata": {},
     "output_type": "execute_result"
    }
   ],
   "source": [
    "from sklearn.preprocessing import MinMaxScaler\n",
    "\n",
    "# 피쳐 스케일링 진행할 컬럼을 데이터프레임으로 받기\n",
    "not_scaled_df = feature_scaling_df[['humidity', 'windspeed']]\n",
    "not_scaled_df_test = feature_scaling_df_test[['humidity', 'windspeed']]\n",
    "\n",
    "# 정규화 함수 인스턴스로 선언\n",
    "minmax_scaler = MinMaxScaler()\n",
    "\n",
    "# 정규화 적용\n",
    "scaled_data = minmax_scaler.fit_transform(not_scaled_df)\n",
    "scaled_data_test = minmax_scaler.fit_transform(not_scaled_df_test)\n",
    "\n",
    "# 정규화된 값을 원본 데이터에 저장\n",
    "feature_scaling_df[['humidity', 'windspeed']] = scaled_data\n",
    "feature_scaling_df_test[['humidity', 'windspeed']] = scaled_data_test\n",
    "\n",
    "feature_scaling_df.sample(3)"
   ]
  },
  {
   "cell_type": "markdown",
   "id": "1a7d36f6",
   "metadata": {},
   "source": [
    "## 4.3 범주형 데이터 변환"
   ]
  },
  {
   "cell_type": "code",
   "execution_count": 30,
   "id": "9eced2c8",
   "metadata": {
    "scrolled": true
   },
   "outputs": [
    {
     "data": {
      "text/html": [
       "<div>\n",
       "<style scoped>\n",
       "    .dataframe tbody tr th:only-of-type {\n",
       "        vertical-align: middle;\n",
       "    }\n",
       "\n",
       "    .dataframe tbody tr th {\n",
       "        vertical-align: top;\n",
       "    }\n",
       "\n",
       "    .dataframe thead th {\n",
       "        text-align: right;\n",
       "    }\n",
       "</style>\n",
       "<table border=\"1\" class=\"dataframe\">\n",
       "  <thead>\n",
       "    <tr style=\"text-align: right;\">\n",
       "      <th></th>\n",
       "      <th>season</th>\n",
       "      <th>weather</th>\n",
       "      <th>workingday</th>\n",
       "      <th>holiday</th>\n",
       "      <th>hour</th>\n",
       "      <th>month</th>\n",
       "    </tr>\n",
       "  </thead>\n",
       "  <tbody>\n",
       "    <tr>\n",
       "      <th>3022</th>\n",
       "      <td>3</td>\n",
       "      <td>1</td>\n",
       "      <td>1</td>\n",
       "      <td>0</td>\n",
       "      <td>20</td>\n",
       "      <td>7</td>\n",
       "    </tr>\n",
       "    <tr>\n",
       "      <th>8358</th>\n",
       "      <td>3</td>\n",
       "      <td>2</td>\n",
       "      <td>1</td>\n",
       "      <td>0</td>\n",
       "      <td>15</td>\n",
       "      <td>7</td>\n",
       "    </tr>\n",
       "    <tr>\n",
       "      <th>7306</th>\n",
       "      <td>2</td>\n",
       "      <td>1</td>\n",
       "      <td>1</td>\n",
       "      <td>0</td>\n",
       "      <td>19</td>\n",
       "      <td>5</td>\n",
       "    </tr>\n",
       "  </tbody>\n",
       "</table>\n",
       "</div>"
      ],
      "text/plain": [
       "      season  weather  workingday  holiday  hour  month\n",
       "3022       3        1           1        0    20      7\n",
       "8358       3        2           1        0    15      7\n",
       "7306       2        1           1        0    19      5"
      ]
     },
     "execution_count": 30,
     "metadata": {},
     "output_type": "execute_result"
    }
   ],
   "source": [
    "# season, weather 데이터 확인\n",
    "feature_scaling_df[['season', 'weather', 'workingday', 'holiday', 'hour', 'month']].sample(3)"
   ]
  },
  {
   "cell_type": "markdown",
   "id": "cc797d2f",
   "metadata": {},
   "source": [
    "- hour, month, season 컬럼의 경우 주기성을 나타내는 컬럼이므로 별다른 변환을 진행하지 않음\n",
    "- 하지만 weather 피쳐의 경우 라벨 인코딩만 되어있는 상태\n",
    "- weather 피쳐는 원-핫 인코딩 진행\n",
    "- **다중공선성** 방지를 위해 불필요한 첫 번째 카테고리는 삭제를 진행"
   ]
  },
  {
   "cell_type": "markdown",
   "id": "aa121e6b",
   "metadata": {},
   "source": [
    "### 1) One-Hot Encoding 진행\n",
    "- get_dummies() : 판다스 자체로 가능, 데이터프레임 바로 변환 가능\n",
    "- OneHotEncoder() : sci-kit learn에서 불러오기, 넘파이 배열로 변환\n",
    "- 데이터프레임 변환을 위해 **get_dummies()** 방식 사용"
   ]
  },
  {
   "cell_type": "code",
   "execution_count": 31,
   "id": "54c0821b",
   "metadata": {},
   "outputs": [],
   "source": [
    "# 원-핫 인코딩 대상 컬럼\n",
    "categorical_columns = ['weather']\n",
    "\n",
    "# 원-핫 인코딩 진행, 다중공선성 방지를 위해 첫번째 데이터는 제거\n",
    "encoded_train_df = pd.get_dummies(feature_scaling_df, columns=categorical_columns, drop_first=True)\n",
    "encoded_test_df = pd.get_dummies(feature_scaling_df_test, columns=categorical_columns, drop_first=True)"
   ]
  },
  {
   "cell_type": "code",
   "execution_count": 32,
   "id": "02e95621",
   "metadata": {
    "scrolled": true
   },
   "outputs": [
    {
     "data": {
      "text/html": [
       "<div>\n",
       "<style scoped>\n",
       "    .dataframe tbody tr th:only-of-type {\n",
       "        vertical-align: middle;\n",
       "    }\n",
       "\n",
       "    .dataframe tbody tr th {\n",
       "        vertical-align: top;\n",
       "    }\n",
       "\n",
       "    .dataframe thead th {\n",
       "        text-align: right;\n",
       "    }\n",
       "</style>\n",
       "<table border=\"1\" class=\"dataframe\">\n",
       "  <thead>\n",
       "    <tr style=\"text-align: right;\">\n",
       "      <th></th>\n",
       "      <th>datetime</th>\n",
       "      <th>season</th>\n",
       "      <th>holiday</th>\n",
       "      <th>workingday</th>\n",
       "      <th>temp</th>\n",
       "      <th>atemp</th>\n",
       "      <th>humidity</th>\n",
       "      <th>windspeed</th>\n",
       "      <th>casual</th>\n",
       "      <th>registered</th>\n",
       "      <th>...</th>\n",
       "      <th>year</th>\n",
       "      <th>date</th>\n",
       "      <th>month</th>\n",
       "      <th>hour</th>\n",
       "      <th>scaled_atemp</th>\n",
       "      <th>scaled_temp</th>\n",
       "      <th>temp_pca</th>\n",
       "      <th>weather_2</th>\n",
       "      <th>weather_3</th>\n",
       "      <th>weather_4</th>\n",
       "    </tr>\n",
       "  </thead>\n",
       "  <tbody>\n",
       "    <tr>\n",
       "      <th>9892</th>\n",
       "      <td>2012-10-16 13:00:00</td>\n",
       "      <td>4</td>\n",
       "      <td>0</td>\n",
       "      <td>1</td>\n",
       "      <td>21.32</td>\n",
       "      <td>25.00</td>\n",
       "      <td>0.402174</td>\n",
       "      <td>0.519968</td>\n",
       "      <td>68</td>\n",
       "      <td>260</td>\n",
       "      <td>...</td>\n",
       "      <td>2012</td>\n",
       "      <td>1</td>\n",
       "      <td>10</td>\n",
       "      <td>13</td>\n",
       "      <td>0.151208</td>\n",
       "      <td>0.133759</td>\n",
       "      <td>-0.201502</td>\n",
       "      <td>0</td>\n",
       "      <td>0</td>\n",
       "      <td>0</td>\n",
       "    </tr>\n",
       "    <tr>\n",
       "      <th>10438</th>\n",
       "      <td>2012-12-01 08:00:00</td>\n",
       "      <td>4</td>\n",
       "      <td>0</td>\n",
       "      <td>0</td>\n",
       "      <td>9.84</td>\n",
       "      <td>12.12</td>\n",
       "      <td>0.858696</td>\n",
       "      <td>0.119807</td>\n",
       "      <td>11</td>\n",
       "      <td>133</td>\n",
       "      <td>...</td>\n",
       "      <td>2012</td>\n",
       "      <td>5</td>\n",
       "      <td>12</td>\n",
       "      <td>8</td>\n",
       "      <td>-1.373388</td>\n",
       "      <td>-1.339360</td>\n",
       "      <td>1.918203</td>\n",
       "      <td>1</td>\n",
       "      <td>0</td>\n",
       "      <td>0</td>\n",
       "    </tr>\n",
       "  </tbody>\n",
       "</table>\n",
       "<p>2 rows × 21 columns</p>\n",
       "</div>"
      ],
      "text/plain": [
       "                 datetime  season  holiday  workingday   temp  atemp  \\\n",
       "9892  2012-10-16 13:00:00       4        0           1  21.32  25.00   \n",
       "10438 2012-12-01 08:00:00       4        0           0   9.84  12.12   \n",
       "\n",
       "       humidity  windspeed  casual  registered  ...  year  date  month  hour  \\\n",
       "9892   0.402174   0.519968      68         260  ...  2012     1     10    13   \n",
       "10438  0.858696   0.119807      11         133  ...  2012     5     12     8   \n",
       "\n",
       "       scaled_atemp  scaled_temp  temp_pca  weather_2  weather_3  weather_4  \n",
       "9892       0.151208     0.133759 -0.201502          0          0          0  \n",
       "10438     -1.373388    -1.339360  1.918203          1          0          0  \n",
       "\n",
       "[2 rows x 21 columns]"
      ]
     },
     "execution_count": 32,
     "metadata": {},
     "output_type": "execute_result"
    }
   ],
   "source": [
    "# 인코딩 완료된 데이터 확인\n",
    "encoded_train_df.sample(2)"
   ]
  },
  {
   "cell_type": "markdown",
   "id": "deffc338",
   "metadata": {},
   "source": [
    "# 5. 예측 모델 생성"
   ]
  },
  {
   "cell_type": "markdown",
   "id": "48b177e8",
   "metadata": {},
   "source": [
    "## 5.1 독립변수 및 종속변수 구분"
   ]
  },
  {
   "cell_type": "markdown",
   "id": "e3f3c052",
   "metadata": {},
   "source": [
    "### 1) 불필요한 컬럼 제거\n",
    "- `datetime` : hour, month 컬럼으로 변환 완료하여 삭제 진행\n",
    "- `casual`, `registered` : 사용하지 않을 컬럼으로 삭제 진행\n",
    "- `temp`, `atemp` : 주성분 분석을 통해 temp_pca 컬럼을 생성하여 삭제 진행\n",
    "- `season` : month 컬럼과 강한 상관관계를 갖고 있으며, 해당 컬럼은 month 컬럼으로 대체"
   ]
  },
  {
   "cell_type": "code",
   "execution_count": 33,
   "id": "0b265266",
   "metadata": {
    "scrolled": false
   },
   "outputs": [
    {
     "data": {
      "text/html": [
       "<div>\n",
       "<style scoped>\n",
       "    .dataframe tbody tr th:only-of-type {\n",
       "        vertical-align: middle;\n",
       "    }\n",
       "\n",
       "    .dataframe tbody tr th {\n",
       "        vertical-align: top;\n",
       "    }\n",
       "\n",
       "    .dataframe thead th {\n",
       "        text-align: right;\n",
       "    }\n",
       "</style>\n",
       "<table border=\"1\" class=\"dataframe\">\n",
       "  <thead>\n",
       "    <tr style=\"text-align: right;\">\n",
       "      <th></th>\n",
       "      <th>holiday</th>\n",
       "      <th>workingday</th>\n",
       "      <th>humidity</th>\n",
       "      <th>windspeed</th>\n",
       "      <th>count</th>\n",
       "      <th>year</th>\n",
       "      <th>date</th>\n",
       "      <th>month</th>\n",
       "      <th>hour</th>\n",
       "      <th>temp_pca</th>\n",
       "      <th>weather_2</th>\n",
       "      <th>weather_3</th>\n",
       "      <th>weather_4</th>\n",
       "    </tr>\n",
       "  </thead>\n",
       "  <tbody>\n",
       "    <tr>\n",
       "      <th>4263</th>\n",
       "      <td>0</td>\n",
       "      <td>0</td>\n",
       "      <td>0.456522</td>\n",
       "      <td>0.119807</td>\n",
       "      <td>470</td>\n",
       "      <td>2011</td>\n",
       "      <td>6</td>\n",
       "      <td>10</td>\n",
       "      <td>16</td>\n",
       "      <td>-1.229548</td>\n",
       "      <td>0</td>\n",
       "      <td>0</td>\n",
       "      <td>0</td>\n",
       "    </tr>\n",
       "    <tr>\n",
       "      <th>5197</th>\n",
       "      <td>0</td>\n",
       "      <td>0</td>\n",
       "      <td>0.282609</td>\n",
       "      <td>0.719914</td>\n",
       "      <td>299</td>\n",
       "      <td>2011</td>\n",
       "      <td>5</td>\n",
       "      <td>12</td>\n",
       "      <td>15</td>\n",
       "      <td>1.292574</td>\n",
       "      <td>0</td>\n",
       "      <td>0</td>\n",
       "      <td>0</td>\n",
       "    </tr>\n",
       "    <tr>\n",
       "      <th>4941</th>\n",
       "      <td>0</td>\n",
       "      <td>1</td>\n",
       "      <td>0.565217</td>\n",
       "      <td>0.119807</td>\n",
       "      <td>59</td>\n",
       "      <td>2011</td>\n",
       "      <td>4</td>\n",
       "      <td>11</td>\n",
       "      <td>23</td>\n",
       "      <td>1.716994</td>\n",
       "      <td>0</td>\n",
       "      <td>0</td>\n",
       "      <td>0</td>\n",
       "    </tr>\n",
       "  </tbody>\n",
       "</table>\n",
       "</div>"
      ],
      "text/plain": [
       "      holiday  workingday  humidity  windspeed  count  year  date  month  \\\n",
       "4263        0           0  0.456522   0.119807    470  2011     6     10   \n",
       "5197        0           0  0.282609   0.719914    299  2011     5     12   \n",
       "4941        0           1  0.565217   0.119807     59  2011     4     11   \n",
       "\n",
       "      hour  temp_pca  weather_2  weather_3  weather_4  \n",
       "4263    16 -1.229548          0          0          0  \n",
       "5197    15  1.292574          0          0          0  \n",
       "4941    23  1.716994          0          0          0  "
      ]
     },
     "metadata": {},
     "output_type": "display_data"
    },
    {
     "data": {
      "text/html": [
       "<div>\n",
       "<style scoped>\n",
       "    .dataframe tbody tr th:only-of-type {\n",
       "        vertical-align: middle;\n",
       "    }\n",
       "\n",
       "    .dataframe tbody tr th {\n",
       "        vertical-align: top;\n",
       "    }\n",
       "\n",
       "    .dataframe thead th {\n",
       "        text-align: right;\n",
       "    }\n",
       "</style>\n",
       "<table border=\"1\" class=\"dataframe\">\n",
       "  <thead>\n",
       "    <tr style=\"text-align: right;\">\n",
       "      <th></th>\n",
       "      <th>holiday</th>\n",
       "      <th>workingday</th>\n",
       "      <th>humidity</th>\n",
       "      <th>windspeed</th>\n",
       "      <th>year</th>\n",
       "      <th>date</th>\n",
       "      <th>month</th>\n",
       "      <th>hour</th>\n",
       "      <th>temp_pca</th>\n",
       "      <th>weather_2</th>\n",
       "      <th>weather_3</th>\n",
       "      <th>weather_4</th>\n",
       "    </tr>\n",
       "  </thead>\n",
       "  <tbody>\n",
       "    <tr>\n",
       "      <th>479</th>\n",
       "      <td>0</td>\n",
       "      <td>0</td>\n",
       "      <td>0.321429</td>\n",
       "      <td>0.339316</td>\n",
       "      <td>2011</td>\n",
       "      <td>6</td>\n",
       "      <td>3</td>\n",
       "      <td>19</td>\n",
       "      <td>-1.105848</td>\n",
       "      <td>0</td>\n",
       "      <td>0</td>\n",
       "      <td>0</td>\n",
       "    </tr>\n",
       "    <tr>\n",
       "      <th>5937</th>\n",
       "      <td>0</td>\n",
       "      <td>1</td>\n",
       "      <td>0.500000</td>\n",
       "      <td>0.196458</td>\n",
       "      <td>2012</td>\n",
       "      <td>2</td>\n",
       "      <td>10</td>\n",
       "      <td>17</td>\n",
       "      <td>-0.656792</td>\n",
       "      <td>1</td>\n",
       "      <td>0</td>\n",
       "      <td>0</td>\n",
       "    </tr>\n",
       "    <tr>\n",
       "      <th>3638</th>\n",
       "      <td>0</td>\n",
       "      <td>0</td>\n",
       "      <td>0.702381</td>\n",
       "      <td>0.392917</td>\n",
       "      <td>2012</td>\n",
       "      <td>5</td>\n",
       "      <td>2</td>\n",
       "      <td>9</td>\n",
       "      <td>-2.158210</td>\n",
       "      <td>0</td>\n",
       "      <td>1</td>\n",
       "      <td>0</td>\n",
       "    </tr>\n",
       "  </tbody>\n",
       "</table>\n",
       "</div>"
      ],
      "text/plain": [
       "      holiday  workingday  humidity  windspeed  year  date  month  hour  \\\n",
       "479         0           0  0.321429   0.339316  2011     6      3    19   \n",
       "5937        0           1  0.500000   0.196458  2012     2     10    17   \n",
       "3638        0           0  0.702381   0.392917  2012     5      2     9   \n",
       "\n",
       "      temp_pca  weather_2  weather_3  weather_4  \n",
       "479  -1.105848          0          0          0  \n",
       "5937 -0.656792          1          0          0  \n",
       "3638 -2.158210          0          1          0  "
      ]
     },
     "metadata": {},
     "output_type": "display_data"
    }
   ],
   "source": [
    "# 'season', 'datetime', 'casual', 'registered', 'scaled_atemp', 'scaled_temp', 'temp', 'atemp' 컬럼 삭제\n",
    "encoded_train_df = encoded_train_df.drop(columns=['season', 'datetime', 'casual', 'registered', 'scaled_atemp', 'scaled_temp', 'temp', 'atemp'], axis=1)\n",
    "display(encoded_train_df.sample(3))\n",
    "\n",
    "encoded_test_df = encoded_test_df.drop(columns=['season', 'datetime', 'scaled_atemp', 'scaled_temp', 'temp', 'atemp'], axis=1)\n",
    "display(encoded_test_df.sample(3))"
   ]
  },
  {
   "cell_type": "markdown",
   "id": "fc635033",
   "metadata": {},
   "source": [
    "### 2) 독립변수 설정\n",
    "데이터에서 종속변수(타겟변수)로 설정되는 count 값을 제외한 데이터만 사용한다."
   ]
  },
  {
   "cell_type": "code",
   "execution_count": 34,
   "id": "7bb7fa2d",
   "metadata": {
    "scrolled": false
   },
   "outputs": [
    {
     "data": {
      "text/html": [
       "<div>\n",
       "<style scoped>\n",
       "    .dataframe tbody tr th:only-of-type {\n",
       "        vertical-align: middle;\n",
       "    }\n",
       "\n",
       "    .dataframe tbody tr th {\n",
       "        vertical-align: top;\n",
       "    }\n",
       "\n",
       "    .dataframe thead th {\n",
       "        text-align: right;\n",
       "    }\n",
       "</style>\n",
       "<table border=\"1\" class=\"dataframe\">\n",
       "  <thead>\n",
       "    <tr style=\"text-align: right;\">\n",
       "      <th></th>\n",
       "      <th>holiday</th>\n",
       "      <th>workingday</th>\n",
       "      <th>humidity</th>\n",
       "      <th>windspeed</th>\n",
       "      <th>year</th>\n",
       "      <th>date</th>\n",
       "      <th>month</th>\n",
       "      <th>hour</th>\n",
       "      <th>temp_pca</th>\n",
       "      <th>weather_2</th>\n",
       "      <th>weather_3</th>\n",
       "      <th>weather_4</th>\n",
       "    </tr>\n",
       "  </thead>\n",
       "  <tbody>\n",
       "    <tr>\n",
       "      <th>7275</th>\n",
       "      <td>0</td>\n",
       "      <td>1</td>\n",
       "      <td>0.815217</td>\n",
       "      <td>0.359957</td>\n",
       "      <td>2012</td>\n",
       "      <td>2</td>\n",
       "      <td>5</td>\n",
       "      <td>12</td>\n",
       "      <td>-0.615130</td>\n",
       "      <td>1</td>\n",
       "      <td>0</td>\n",
       "      <td>0</td>\n",
       "    </tr>\n",
       "    <tr>\n",
       "      <th>5092</th>\n",
       "      <td>0</td>\n",
       "      <td>1</td>\n",
       "      <td>0.934783</td>\n",
       "      <td>0.519968</td>\n",
       "      <td>2011</td>\n",
       "      <td>1</td>\n",
       "      <td>12</td>\n",
       "      <td>6</td>\n",
       "      <td>0.349723</td>\n",
       "      <td>1</td>\n",
       "      <td>0</td>\n",
       "      <td>0</td>\n",
       "    </tr>\n",
       "    <tr>\n",
       "      <th>1158</th>\n",
       "      <td>0</td>\n",
       "      <td>0</td>\n",
       "      <td>0.684783</td>\n",
       "      <td>0.000000</td>\n",
       "      <td>2011</td>\n",
       "      <td>5</td>\n",
       "      <td>3</td>\n",
       "      <td>22</td>\n",
       "      <td>0.900948</td>\n",
       "      <td>0</td>\n",
       "      <td>0</td>\n",
       "      <td>0</td>\n",
       "    </tr>\n",
       "  </tbody>\n",
       "</table>\n",
       "</div>"
      ],
      "text/plain": [
       "      holiday  workingday  humidity  windspeed  year  date  month  hour  \\\n",
       "7275        0           1  0.815217   0.359957  2012     2      5    12   \n",
       "5092        0           1  0.934783   0.519968  2011     1     12     6   \n",
       "1158        0           0  0.684783   0.000000  2011     5      3    22   \n",
       "\n",
       "      temp_pca  weather_2  weather_3  weather_4  \n",
       "7275 -0.615130          1          0          0  \n",
       "5092  0.349723          1          0          0  \n",
       "1158  0.900948          0          0          0  "
      ]
     },
     "execution_count": 34,
     "metadata": {},
     "output_type": "execute_result"
    }
   ],
   "source": [
    "# 종속변수인 count 컬럼 제거\n",
    "X = encoded_train_df.drop(columns='count')\n",
    "X.sample(3)"
   ]
  },
  {
   "cell_type": "markdown",
   "id": "06933879",
   "metadata": {},
   "source": [
    "### 3) 독립변수 VIF, Heatmap 확인\n",
    "피쳐엔지니어링 및 최종 독립변수로 선정된 변수들의 VIF값과 상관계수를 확인한다."
   ]
  },
  {
   "cell_type": "code",
   "execution_count": 35,
   "id": "522b5c8a",
   "metadata": {
    "scrolled": false
   },
   "outputs": [
    {
     "data": {
      "text/html": [
       "<div>\n",
       "<style scoped>\n",
       "    .dataframe tbody tr th:only-of-type {\n",
       "        vertical-align: middle;\n",
       "    }\n",
       "\n",
       "    .dataframe tbody tr th {\n",
       "        vertical-align: top;\n",
       "    }\n",
       "\n",
       "    .dataframe thead th {\n",
       "        text-align: right;\n",
       "    }\n",
       "</style>\n",
       "<table border=\"1\" class=\"dataframe\">\n",
       "  <thead>\n",
       "    <tr style=\"text-align: right;\">\n",
       "      <th></th>\n",
       "      <th>Variable</th>\n",
       "      <th>VIF</th>\n",
       "    </tr>\n",
       "  </thead>\n",
       "  <tbody>\n",
       "    <tr>\n",
       "      <th>0</th>\n",
       "      <td>holiday</td>\n",
       "      <td>1.552408</td>\n",
       "    </tr>\n",
       "    <tr>\n",
       "      <th>1</th>\n",
       "      <td>workingday</td>\n",
       "      <td>8.977624</td>\n",
       "    </tr>\n",
       "    <tr>\n",
       "      <th>2</th>\n",
       "      <td>humidity</td>\n",
       "      <td>14.488486</td>\n",
       "    </tr>\n",
       "    <tr>\n",
       "      <th>3</th>\n",
       "      <td>windspeed</td>\n",
       "      <td>2.523440</td>\n",
       "    </tr>\n",
       "    <tr>\n",
       "      <th>4</th>\n",
       "      <td>year</td>\n",
       "      <td>49.275764</td>\n",
       "    </tr>\n",
       "    <tr>\n",
       "      <th>5</th>\n",
       "      <td>date</td>\n",
       "      <td>9.172161</td>\n",
       "    </tr>\n",
       "    <tr>\n",
       "      <th>6</th>\n",
       "      <td>month</td>\n",
       "      <td>5.264148</td>\n",
       "    </tr>\n",
       "    <tr>\n",
       "      <th>7</th>\n",
       "      <td>hour</td>\n",
       "      <td>4.216616</td>\n",
       "    </tr>\n",
       "    <tr>\n",
       "      <th>8</th>\n",
       "      <td>temp_pca</td>\n",
       "      <td>1.107096</td>\n",
       "    </tr>\n",
       "    <tr>\n",
       "      <th>9</th>\n",
       "      <td>weather_2</td>\n",
       "      <td>1.548678</td>\n",
       "    </tr>\n",
       "    <tr>\n",
       "      <th>10</th>\n",
       "      <td>weather_3</td>\n",
       "      <td>1.351565</td>\n",
       "    </tr>\n",
       "    <tr>\n",
       "      <th>11</th>\n",
       "      <td>weather_4</td>\n",
       "      <td>1.001561</td>\n",
       "    </tr>\n",
       "  </tbody>\n",
       "</table>\n",
       "</div>"
      ],
      "text/plain": [
       "      Variable        VIF\n",
       "0      holiday   1.552408\n",
       "1   workingday   8.977624\n",
       "2     humidity  14.488486\n",
       "3    windspeed   2.523440\n",
       "4         year  49.275764\n",
       "5         date   9.172161\n",
       "6        month   5.264148\n",
       "7         hour   4.216616\n",
       "8     temp_pca   1.107096\n",
       "9    weather_2   1.548678\n",
       "10   weather_3   1.351565\n",
       "11   weather_4   1.001561"
      ]
     },
     "execution_count": 35,
     "metadata": {},
     "output_type": "execute_result"
    }
   ],
   "source": [
    "# vif 구하기\n",
    "X_vif2 = X.copy()\n",
    "\n",
    "vif_data2 = pd.DataFrame()\n",
    "vif_data2['Variable'] = X_vif2.columns\n",
    "\n",
    "vif_data2['VIF'] = [variance_inflation_factor(X_vif2.values, i) for i in range(X_vif2.shape[1])]\n",
    "\n",
    "vif_data2"
   ]
  },
  {
   "cell_type": "code",
   "execution_count": 36,
   "id": "fd6da1c2",
   "metadata": {},
   "outputs": [
    {
     "data": {
      "text/plain": [
       "<Axes: >"
      ]
     },
     "execution_count": 36,
     "metadata": {},
     "output_type": "execute_result"
    },
    {
     "data": {
      "image/png": "[encoded data removed]",
      "text/plain": [
       "<Figure size 1200x900 with 2 Axes>"
      ]
     },
     "metadata": {},
     "output_type": "display_data"
    }
   ],
   "source": [
    "plt.figure(figsize=(12,9))\n",
    "sns.heatmap(abs(X.corr()), annot=True, cmap='Blues')"
   ]
  },
  {
   "cell_type": "markdown",
   "id": "333b4447",
   "metadata": {},
   "source": [
    "### 2) 종속변수 구분"
   ]
  },
  {
   "cell_type": "code",
   "execution_count": 37,
   "id": "83225d39",
   "metadata": {
    "scrolled": true
   },
   "outputs": [
    {
     "data": {
      "text/html": [
       "<div>\n",
       "<style scoped>\n",
       "    .dataframe tbody tr th:only-of-type {\n",
       "        vertical-align: middle;\n",
       "    }\n",
       "\n",
       "    .dataframe tbody tr th {\n",
       "        vertical-align: top;\n",
       "    }\n",
       "\n",
       "    .dataframe thead th {\n",
       "        text-align: right;\n",
       "    }\n",
       "</style>\n",
       "<table border=\"1\" class=\"dataframe\">\n",
       "  <thead>\n",
       "    <tr style=\"text-align: right;\">\n",
       "      <th></th>\n",
       "      <th>count</th>\n",
       "    </tr>\n",
       "  </thead>\n",
       "  <tbody>\n",
       "    <tr>\n",
       "      <th>5616</th>\n",
       "      <td>3</td>\n",
       "    </tr>\n",
       "    <tr>\n",
       "      <th>10534</th>\n",
       "      <td>759</td>\n",
       "    </tr>\n",
       "    <tr>\n",
       "      <th>422</th>\n",
       "      <td>82</td>\n",
       "    </tr>\n",
       "  </tbody>\n",
       "</table>\n",
       "</div>"
      ],
      "text/plain": [
       "       count\n",
       "5616       3\n",
       "10534    759\n",
       "422       82"
      ]
     },
     "execution_count": 37,
     "metadata": {},
     "output_type": "execute_result"
    }
   ],
   "source": [
    "# 종속변수인 count 컬럼만 지정\n",
    "y = encoded_train_df[['count']]\n",
    "y.sample(3)"
   ]
  },
  {
   "cell_type": "markdown",
   "id": "6d4ac148",
   "metadata": {},
   "source": [
    "## 5.2 데이터 분리\n",
    "### 1) 훈련/검증데이터 분리"
   ]
  },
  {
   "cell_type": "code",
   "execution_count": 38,
   "id": "fc9db15e",
   "metadata": {},
   "outputs": [],
   "source": [
    "from sklearn.metrics import mean_squared_error\n",
    "\n",
    "from sklearn.model_selection import train_test_split, KFold, cross_val_score\n",
    "\n",
    "X_train, X_test, y_train, y_test = train_test_split(X, y, test_size=0.3, random_state=42)"
   ]
  },
  {
   "cell_type": "code",
   "execution_count": 39,
   "id": "72eaece0",
   "metadata": {},
   "outputs": [
    {
     "name": "stdout",
     "output_type": "stream",
     "text": [
      "훈련 데이터 독립변수 크기 : 7446\n",
      "테스트 데이터 독립변수 크기 : 3192\n",
      "훈련 데이터 종속변수 크기 : 7446\n",
      "테스트 데이터 종속변수 크기 : 3192\n"
     ]
    }
   ],
   "source": [
    "# 훈련데이터 크기\n",
    "print(\"훈련 데이터 독립변수 크기 :\", len(X_train))\n",
    "print(\"테스트 데이터 독립변수 크기 :\", len(X_test))\n",
    "print(\"훈련 데이터 종속변수 크기 :\", len(y_train))\n",
    "print(\"테스트 데이터 종속변수 크기 :\", len(y_test))"
   ]
  },
  {
   "cell_type": "markdown",
   "id": "5130a930",
   "metadata": {},
   "source": [
    "## 4.4 다중 선형회귀 모델(Linear Regressor)\n",
    "### 1) 기본(default) 파라미터로 모델 예측"
   ]
  },
  {
   "cell_type": "code",
   "execution_count": 40,
   "id": "d9728d2f",
   "metadata": {
    "scrolled": true
   },
   "outputs": [
    {
     "data": {
      "text/html": [
       "<style>#sk-container-id-1 {color: black;background-color: white;}#sk-container-id-1 pre{padding: 0;}#sk-container-id-1 div.sk-toggleable {background-color: white;}#sk-container-id-1 label.sk-toggleable__label {cursor: pointer;display: block;width: 100%;margin-bottom: 0;padding: 0.3em;box-sizing: border-box;text-align: center;}#sk-container-id-1 label.sk-toggleable__label-arrow:before {content: \"▸\";float: left;margin-right: 0.25em;color: #696969;}#sk-container-id-1 label.sk-toggleable__label-arrow:hover:before {color: black;}#sk-container-id-1 div.sk-estimator:hover label.sk-toggleable__label-arrow:before {color: black;}#sk-container-id-1 div.sk-toggleable__content {max-height: 0;max-width: 0;overflow: hidden;text-align: left;background-color: #f0f8ff;}#sk-container-id-1 div.sk-toggleable__content pre {margin: 0.2em;color: black;border-radius: 0.25em;background-color: #f0f8ff;}#sk-container-id-1 input.sk-toggleable__control:checked~div.sk-toggleable__content {max-height: 200px;max-width: 100%;overflow: auto;}#sk-container-id-1 input.sk-toggleable__control:checked~label.sk-toggleable__label-arrow:before {content: \"▾\";}#sk-container-id-1 div.sk-estimator input.sk-toggleable__control:checked~label.sk-toggleable__label {background-color: #d4ebff;}#sk-container-id-1 div.sk-label input.sk-toggleable__control:checked~label.sk-toggleable__label {background-color: #d4ebff;}#sk-container-id-1 input.sk-hidden--visually {border: 0;clip: rect(1px 1px 1px 1px);clip: rect(1px, 1px, 1px, 1px);height: 1px;margin: -1px;overflow: hidden;padding: 0;position: absolute;width: 1px;}#sk-container-id-1 div.sk-estimator {font-family: monospace;background-color: #f0f8ff;border: 1px dotted black;border-radius: 0.25em;box-sizing: border-box;margin-bottom: 0.5em;}#sk-container-id-1 div.sk-estimator:hover {background-color: #d4ebff;}#sk-container-id-1 div.sk-parallel-item::after {content: \"\";width: 100%;border-bottom: 1px solid gray;flex-grow: 1;}#sk-container-id-1 div.sk-label:hover label.sk-toggleable__label {background-color: #d4ebff;}#sk-container-id-1 div.sk-serial::before {content: \"\";position: absolute;border-left: 1px solid gray;box-sizing: border-box;top: 0;bottom: 0;left: 50%;z-index: 0;}#sk-container-id-1 div.sk-serial {display: flex;flex-direction: column;align-items: center;background-color: white;padding-right: 0.2em;padding-left: 0.2em;position: relative;}#sk-container-id-1 div.sk-item {position: relative;z-index: 1;}#sk-container-id-1 div.sk-parallel {display: flex;align-items: stretch;justify-content: center;background-color: white;position: relative;}#sk-container-id-1 div.sk-item::before, #sk-container-id-1 div.sk-parallel-item::before {content: \"\";position: absolute;border-left: 1px solid gray;box-sizing: border-box;top: 0;bottom: 0;left: 50%;z-index: -1;}#sk-container-id-1 div.sk-parallel-item {display: flex;flex-direction: column;z-index: 1;position: relative;background-color: white;}#sk-container-id-1 div.sk-parallel-item:first-child::after {align-self: flex-end;width: 50%;}#sk-container-id-1 div.sk-parallel-item:last-child::after {align-self: flex-start;width: 50%;}#sk-container-id-1 div.sk-parallel-item:only-child::after {width: 0;}#sk-container-id-1 div.sk-dashed-wrapped {border: 1px dashed gray;margin: 0 0.4em 0.5em 0.4em;box-sizing: border-box;padding-bottom: 0.4em;background-color: white;}#sk-container-id-1 div.sk-label label {font-family: monospace;font-weight: bold;display: inline-block;line-height: 1.2em;}#sk-container-id-1 div.sk-label-container {text-align: center;}#sk-container-id-1 div.sk-container {/* jupyter's `normalize.less` sets `[hidden] { display: none; }` but bootstrap.min.css set `[hidden] { display: none !important; }` so we also need the `!important` here to be able to override the default hidden behavior on the sphinx rendered scikit-learn.org. See: https://github.com/scikit-learn/scikit-learn/issues/21755 */display: inline-block !important;position: relative;}#sk-container-id-1 div.sk-text-repr-fallback {display: none;}</style><div id=\"sk-container-id-1\" class=\"sk-top-container\"><div class=\"sk-text-repr-fallback\"><pre>LinearRegression()</pre><b>In a Jupyter environment, please rerun this cell to show the HTML representation or trust the notebook. <br />On GitHub, the HTML representation is unable to render, please try loading this page with nbviewer.org.</b></div><div class=\"sk-container\" hidden><div class=\"sk-item\"><div class=\"sk-estimator sk-toggleable\"><input class=\"sk-toggleable__control sk-hidden--visually\" id=\"sk-estimator-id-1\" type=\"checkbox\" checked><label for=\"sk-estimator-id-1\" class=\"sk-toggleable__label sk-toggleable__label-arrow\">LinearRegression</label><div class=\"sk-toggleable__content\"><pre>LinearRegression()</pre></div></div></div></div></div>"
      ],
      "text/plain": [
       "LinearRegression()"
      ]
     },
     "execution_count": 40,
     "metadata": {},
     "output_type": "execute_result"
    }
   ],
   "source": [
    "from sklearn.linear_model import LinearRegression\n",
    "\n",
    "# 다중 선형회귀 모델 정의\n",
    "lr_model = LinearRegression()\n",
    "\n",
    "# 모델 학습\n",
    "lr_model.fit(X_train, y_train)"
   ]
  },
  {
   "cell_type": "code",
   "execution_count": 41,
   "id": "76de9320",
   "metadata": {
    "scrolled": true
   },
   "outputs": [
    {
     "data": {
      "text/plain": [
       "array([[ 62.5659895 ],\n",
       "       [115.97784683],\n",
       "       [114.45805077],\n",
       "       ...,\n",
       "       [131.69241448],\n",
       "       [233.71321994],\n",
       "       [282.24218627]])"
      ]
     },
     "execution_count": 41,
     "metadata": {},
     "output_type": "execute_result"
    }
   ],
   "source": [
    "# 예측값 생성\n",
    "lr_preds = lr_model.predict(X_test)\n",
    "# 예측값 확인\n",
    "lr_preds"
   ]
  },
  {
   "cell_type": "markdown",
   "id": "47878b6f",
   "metadata": {},
   "source": [
    "### 2) 예측값 확인 결과\n",
    "자전거 대여량 예측값에 음수값이 존재하는 것을 확인하였다."
   ]
  },
  {
   "cell_type": "code",
   "execution_count": 42,
   "id": "6054b695",
   "metadata": {},
   "outputs": [
    {
     "name": "stdout",
     "output_type": "stream",
     "text": [
      "전체 예측값 개수 : 3192개\n",
      "음수 예측값 개수 : 151개\n"
     ]
    }
   ],
   "source": [
    "# 전체 데이터 수\n",
    "print(f\"전체 예측값 개수 : {len(lr_preds)}개\")\n",
    "\n",
    "# 음수값 개수 확인\n",
    "print(f\"음수 예측값 개수 : {(lr_preds <= 0).sum()}개\")"
   ]
  },
  {
   "cell_type": "markdown",
   "id": "27b67ba9",
   "metadata": {},
   "source": [
    "### 3) 예측값이 음수로 생성되는 이유\n",
    "- 선형회귀는 예측값에 제약 조건이 없으므로, 예측값이 양수 또는 음수로 발생할 수 있다.\n",
    "- 따라서 자전거 수요 예측과 같은 회귀 모델에서는 특정 제약 조건을 추가한 회귀 모델을 사용해야 한다.\n",
    "    - Poision Regression (0 이상의 양수 값을 예측하는데 사용)\n",
    "    - RandomForeset Regression (비선형 문제 해결에 적합)\n",
    "    \n",
    "#### 일단 음수 예측값이 도출된 상태로 RMSE(평균 제곱근 오차), RMSLE를 도출한다."
   ]
  },
  {
   "cell_type": "markdown",
   "id": "b0c9c8a4",
   "metadata": {},
   "source": [
    "### 4) 검증 방법 설명\n",
    "**RMSLE**는 **Root Mean Squared Logarithmic Error**의 약자로, **예측 값과 실제 값의 차이를 로그 변환하여 계산한 후, 그 차이의 제곱 평균의 제곱근을 구한 값**입니다. 이 지표는 예측 오차를 측정하는 데 사용되며, 특히 큰 값보다 **작은 값의 오차를 더 중요시하는 경우에 유용**합니다. 이는 예측 값이 실제 값보다 훨씬 클 때 더 큰 패널티를 부과하므로, 예측 값이 과대평가되는 것을 방지하는 데 효과적입니다.\n",
    "\n",
    "RMSLE는 다음과 같이 계산됩니다:\n",
    "$$\n",
    "RMSLE = \\sqrt{\\frac{1}{n} \\sum_{i=1}^{n} \\left( \\log(p_i + 1) - \\log(a_i + 1) \\right)^2}\n",
    "$$\n"
   ]
  },
  {
   "cell_type": "code",
   "execution_count": 43,
   "id": "f7d0a658",
   "metadata": {
    "scrolled": true
   },
   "outputs": [
    {
     "data": {
      "text/plain": [
       "array([[241],\n",
       "       [281],\n",
       "       [499],\n",
       "       ...,\n",
       "       [ 19],\n",
       "       [119],\n",
       "       [737]], dtype=int64)"
      ]
     },
     "execution_count": 43,
     "metadata": {},
     "output_type": "execute_result"
    }
   ],
   "source": [
    "# 데이터프레임 형태의 y_test값을 numpy 배열 형태로 변환\n",
    "y_test_lr = np.array(y_test)\n",
    "y_test_lr"
   ]
  },
  {
   "cell_type": "code",
   "execution_count": 44,
   "id": "8c59d2db",
   "metadata": {
    "scrolled": true
   },
   "outputs": [],
   "source": [
    "# 2차원 형태를 1차원으로 변경\n",
    "y_test_lr = y_test_lr.ravel()\n",
    "lr_preds = lr_preds.ravel()"
   ]
  },
  {
   "cell_type": "code",
   "execution_count": 45,
   "id": "27c6012f",
   "metadata": {
    "scrolled": true
   },
   "outputs": [
    {
     "data": {
      "text/plain": [
       "142.91328076155844"
      ]
     },
     "execution_count": 45,
     "metadata": {},
     "output_type": "execute_result"
    }
   ],
   "source": [
    "# 평균 제곱근 오차 확인하기\n",
    "mean_squared_error(lr_preds, y_test_lr) ** 0.5"
   ]
  },
  {
   "cell_type": "code",
   "execution_count": 46,
   "id": "858d9a1a",
   "metadata": {},
   "outputs": [],
   "source": [
    "# RMSLE 생성 함수\n",
    "def rmsle(y_test, pred):\n",
    "    # 로그 차이의 제곱 계산 (for문 없이 numpy 연산)\n",
    "    log_value_sqrt = (np.log(y_test + 1) - np.log(pred + 1)) ** 2\n",
    "\n",
    "    # 평균 후 제곱근 계산\n",
    "    return np.sqrt(np.mean(log_value_sqrt))"
   ]
  },
  {
   "cell_type": "code",
   "execution_count": 47,
   "id": "bd20991d",
   "metadata": {
    "scrolled": true
   },
   "outputs": [
    {
     "name": "stdout",
     "output_type": "stream",
     "text": [
      "RMSLE: nan\n"
     ]
    },
    {
     "name": "stderr",
     "output_type": "stream",
     "text": [
      "C:\\Users\\gkdis\\AppData\\Local\\Temp\\ipykernel_22136\\1797349077.py:4: RuntimeWarning: invalid value encountered in log\n",
      "  log_value_sqrt = (np.log(y_test + 1) - np.log(pred + 1)) ** 2\n"
     ]
    }
   ],
   "source": [
    "# 다중선형회귀 기본 default 파라미터 RMSLE 계산\n",
    "lr_rmsle_value = rmsle(y_test_lr, lr_preds)\n",
    "print(f\"RMSLE: {lr_rmsle_value:.4f}\")"
   ]
  },
  {
   "cell_type": "markdown",
   "id": "a5448334",
   "metadata": {},
   "source": [
    "#### 예측값 음수인 데이터를 전부 1로 변경한 뒤 RMSE, RMSLE 확인하기"
   ]
  },
  {
   "cell_type": "code",
   "execution_count": 48,
   "id": "71d81abc",
   "metadata": {},
   "outputs": [],
   "source": [
    "# 데이터 복사\n",
    "lr_preds_1 = lr_preds.copy()\n",
    "\n",
    "# 1차원 배열 형태에서 0보다 작거나 같은 값들을 전부 1로 변환\n",
    "lr_preds_1[lr_preds_1 <= 0 ] = 1\n",
    "\n",
    "# # 예측값들의 최소값 확인\n",
    "# lr_preds_1.min()"
   ]
  },
  {
   "cell_type": "code",
   "execution_count": 49,
   "id": "6c65da79",
   "metadata": {},
   "outputs": [
    {
     "data": {
      "text/plain": [
       "array([ 62.5659895 , 115.97784683, 114.45805077, ..., 131.69241448,\n",
       "       233.71321994, 282.24218627])"
      ]
     },
     "execution_count": 49,
     "metadata": {},
     "output_type": "execute_result"
    }
   ],
   "source": [
    "lr_preds_1"
   ]
  },
  {
   "cell_type": "code",
   "execution_count": 50,
   "id": "76836ae5",
   "metadata": {},
   "outputs": [],
   "source": [
    "lr_preds_1[lr_preds_1 <= 0] = 1"
   ]
  },
  {
   "cell_type": "code",
   "execution_count": 51,
   "id": "7ea744a9",
   "metadata": {},
   "outputs": [
    {
     "data": {
      "text/plain": [
       "array([241, 281, 499, ...,  19, 119, 737], dtype=int64)"
      ]
     },
     "execution_count": 51,
     "metadata": {},
     "output_type": "execute_result"
    }
   ],
   "source": [
    "y_test_lr"
   ]
  },
  {
   "cell_type": "code",
   "execution_count": 52,
   "id": "b1c12d02",
   "metadata": {},
   "outputs": [
    {
     "data": {
      "text/plain": [
       "142.2206209076808"
      ]
     },
     "execution_count": 52,
     "metadata": {},
     "output_type": "execute_result"
    }
   ],
   "source": [
    "mean_squared_error(lr_preds_1, y_test_lr) ** 0.5"
   ]
  },
  {
   "cell_type": "code",
   "execution_count": 53,
   "id": "44f30fe8",
   "metadata": {},
   "outputs": [
    {
     "name": "stdout",
     "output_type": "stream",
     "text": [
      "음수값 1로 변환된 RMSLE : 1.2396\n"
     ]
    }
   ],
   "source": [
    "# RMSLE 구하기\n",
    "lr_rmsle_value2 = rmsle(y_test_lr, lr_preds_1)\n",
    "print(f\"음수값 1로 변환된 RMSLE : {lr_rmsle_value2:.4f}\")"
   ]
  },
  {
   "cell_type": "markdown",
   "id": "a9ba5f8a",
   "metadata": {},
   "source": [
    "## 4.5 XGBoost\n",
    "### 1) XGBoost 알고리즘\n",
    "XGBoost는 여러 개의 약한 결정 트리 모델을 결합하여 점점 더 나은 예측을 할 수 있도록 만들어내는 **부스팅(Boosting)** 기법의 단점을 보완한 예측&분류 알고리즘이다. 이 때, 각 단계는 이전 모델의 오차를 보완하는 방식으로 학습을 진행한다."
   ]
  },
  {
   "cell_type": "markdown",
   "id": "733e5a74",
   "metadata": {},
   "source": [
    "### 2) XGBoost default 파라미터 모델 생성 및 RMSLE 도출"
   ]
  },
  {
   "cell_type": "code",
   "execution_count": 54,
   "id": "fd8386fb",
   "metadata": {
    "scrolled": true
   },
   "outputs": [
    {
     "data": {
      "text/html": [
       "<style>#sk-container-id-2 {color: black;background-color: white;}#sk-container-id-2 pre{padding: 0;}#sk-container-id-2 div.sk-toggleable {background-color: white;}#sk-container-id-2 label.sk-toggleable__label {cursor: pointer;display: block;width: 100%;margin-bottom: 0;padding: 0.3em;box-sizing: border-box;text-align: center;}#sk-container-id-2 label.sk-toggleable__label-arrow:before {content: \"▸\";float: left;margin-right: 0.25em;color: #696969;}#sk-container-id-2 label.sk-toggleable__label-arrow:hover:before {color: black;}#sk-container-id-2 div.sk-estimator:hover label.sk-toggleable__label-arrow:before {color: black;}#sk-container-id-2 div.sk-toggleable__content {max-height: 0;max-width: 0;overflow: hidden;text-align: left;background-color: #f0f8ff;}#sk-container-id-2 div.sk-toggleable__content pre {margin: 0.2em;color: black;border-radius: 0.25em;background-color: #f0f8ff;}#sk-container-id-2 input.sk-toggleable__control:checked~div.sk-toggleable__content {max-height: 200px;max-width: 100%;overflow: auto;}#sk-container-id-2 input.sk-toggleable__control:checked~label.sk-toggleable__label-arrow:before {content: \"▾\";}#sk-container-id-2 div.sk-estimator input.sk-toggleable__control:checked~label.sk-toggleable__label {background-color: #d4ebff;}#sk-container-id-2 div.sk-label input.sk-toggleable__control:checked~label.sk-toggleable__label {background-color: #d4ebff;}#sk-container-id-2 input.sk-hidden--visually {border: 0;clip: rect(1px 1px 1px 1px);clip: rect(1px, 1px, 1px, 1px);height: 1px;margin: -1px;overflow: hidden;padding: 0;position: absolute;width: 1px;}#sk-container-id-2 div.sk-estimator {font-family: monospace;background-color: #f0f8ff;border: 1px dotted black;border-radius: 0.25em;box-sizing: border-box;margin-bottom: 0.5em;}#sk-container-id-2 div.sk-estimator:hover {background-color: #d4ebff;}#sk-container-id-2 div.sk-parallel-item::after {content: \"\";width: 100%;border-bottom: 1px solid gray;flex-grow: 1;}#sk-container-id-2 div.sk-label:hover label.sk-toggleable__label {background-color: #d4ebff;}#sk-container-id-2 div.sk-serial::before {content: \"\";position: absolute;border-left: 1px solid gray;box-sizing: border-box;top: 0;bottom: 0;left: 50%;z-index: 0;}#sk-container-id-2 div.sk-serial {display: flex;flex-direction: column;align-items: center;background-color: white;padding-right: 0.2em;padding-left: 0.2em;position: relative;}#sk-container-id-2 div.sk-item {position: relative;z-index: 1;}#sk-container-id-2 div.sk-parallel {display: flex;align-items: stretch;justify-content: center;background-color: white;position: relative;}#sk-container-id-2 div.sk-item::before, #sk-container-id-2 div.sk-parallel-item::before {content: \"\";position: absolute;border-left: 1px solid gray;box-sizing: border-box;top: 0;bottom: 0;left: 50%;z-index: -1;}#sk-container-id-2 div.sk-parallel-item {display: flex;flex-direction: column;z-index: 1;position: relative;background-color: white;}#sk-container-id-2 div.sk-parallel-item:first-child::after {align-self: flex-end;width: 50%;}#sk-container-id-2 div.sk-parallel-item:last-child::after {align-self: flex-start;width: 50%;}#sk-container-id-2 div.sk-parallel-item:only-child::after {width: 0;}#sk-container-id-2 div.sk-dashed-wrapped {border: 1px dashed gray;margin: 0 0.4em 0.5em 0.4em;box-sizing: border-box;padding-bottom: 0.4em;background-color: white;}#sk-container-id-2 div.sk-label label {font-family: monospace;font-weight: bold;display: inline-block;line-height: 1.2em;}#sk-container-id-2 div.sk-label-container {text-align: center;}#sk-container-id-2 div.sk-container {/* jupyter's `normalize.less` sets `[hidden] { display: none; }` but bootstrap.min.css set `[hidden] { display: none !important; }` so we also need the `!important` here to be able to override the default hidden behavior on the sphinx rendered scikit-learn.org. See: https://github.com/scikit-learn/scikit-learn/issues/21755 */display: inline-block !important;position: relative;}#sk-container-id-2 div.sk-text-repr-fallback {display: none;}</style><div id=\"sk-container-id-2\" class=\"sk-top-container\"><div class=\"sk-text-repr-fallback\"><pre>XGBRegressor(base_score=0.1, booster=None, callbacks=None,\n",
       "             colsample_bylevel=None, colsample_bynode=None,\n",
       "             colsample_bytree=None, device=None, early_stopping_rounds=None,\n",
       "             enable_categorical=False, eval_metric=None, feature_types=None,\n",
       "             gamma=None, grow_policy=None, importance_type=None,\n",
       "             interaction_constraints=None, learning_rate=None, max_bin=None,\n",
       "             max_cat_threshold=None, max_cat_to_onehot=None,\n",
       "             max_delta_step=None, max_depth=None, max_leaves=None,\n",
       "             min_child_weight=None, missing=nan, monotone_constraints=None,\n",
       "             multi_strategy=None, n_estimators=None, n_jobs=None,\n",
       "             num_parallel_tree=None, objective=&#x27;count:poisson&#x27;, ...)</pre><b>In a Jupyter environment, please rerun this cell to show the HTML representation or trust the notebook. <br />On GitHub, the HTML representation is unable to render, please try loading this page with nbviewer.org.</b></div><div class=\"sk-container\" hidden><div class=\"sk-item\"><div class=\"sk-estimator sk-toggleable\"><input class=\"sk-toggleable__control sk-hidden--visually\" id=\"sk-estimator-id-2\" type=\"checkbox\" checked><label for=\"sk-estimator-id-2\" class=\"sk-toggleable__label sk-toggleable__label-arrow\">XGBRegressor</label><div class=\"sk-toggleable__content\"><pre>XGBRegressor(base_score=0.1, booster=None, callbacks=None,\n",
       "             colsample_bylevel=None, colsample_bynode=None,\n",
       "             colsample_bytree=None, device=None, early_stopping_rounds=None,\n",
       "             enable_categorical=False, eval_metric=None, feature_types=None,\n",
       "             gamma=None, grow_policy=None, importance_type=None,\n",
       "             interaction_constraints=None, learning_rate=None, max_bin=None,\n",
       "             max_cat_threshold=None, max_cat_to_onehot=None,\n",
       "             max_delta_step=None, max_depth=None, max_leaves=None,\n",
       "             min_child_weight=None, missing=nan, monotone_constraints=None,\n",
       "             multi_strategy=None, n_estimators=None, n_jobs=None,\n",
       "             num_parallel_tree=None, objective=&#x27;count:poisson&#x27;, ...)</pre></div></div></div></div></div>"
      ],
      "text/plain": [
       "XGBRegressor(base_score=0.1, booster=None, callbacks=None,\n",
       "             colsample_bylevel=None, colsample_bynode=None,\n",
       "             colsample_bytree=None, device=None, early_stopping_rounds=None,\n",
       "             enable_categorical=False, eval_metric=None, feature_types=None,\n",
       "             gamma=None, grow_policy=None, importance_type=None,\n",
       "             interaction_constraints=None, learning_rate=None, max_bin=None,\n",
       "             max_cat_threshold=None, max_cat_to_onehot=None,\n",
       "             max_delta_step=None, max_depth=None, max_leaves=None,\n",
       "             min_child_weight=None, missing=nan, monotone_constraints=None,\n",
       "             multi_strategy=None, n_estimators=None, n_jobs=None,\n",
       "             num_parallel_tree=None, objective='count:poisson', ...)"
      ]
     },
     "execution_count": 54,
     "metadata": {},
     "output_type": "execute_result"
    }
   ],
   "source": [
    "import xgboost as xgb\n",
    "from sklearn.metrics import mean_squared_error, make_scorer\n",
    "# XGBoost 모델 생성\n",
    "xgb_model1 = xgb.XGBRegressor(objective='count:poisson', base_score=0.1, random_state=5)\n",
    "\n",
    "# XGBoost 모델 학습\n",
    "xgb_model1.fit(X_train, y_train)"
   ]
  },
  {
   "cell_type": "code",
   "execution_count": 55,
   "id": "939feb49",
   "metadata": {},
   "outputs": [
    {
     "name": "stdout",
     "output_type": "stream",
     "text": [
      "XGBoost 기본 파라미터 모델 RMSE : 40.0079\n",
      "XGBoost 기본 파라미터 모델 RMSLE : 0.3154\n"
     ]
    }
   ],
   "source": [
    "# XGBoost 예측\n",
    "xgb_pred1 = xgb_model1.predict(X_test)\n",
    " \n",
    "# 성능 평가\n",
    "# RMSE\n",
    "print(f\"XGBoost 기본 파라미터 모델 RMSE : {mean_squared_error(y_test.iloc[:, 0], xgb_pred1)**0.5:.4f}\")\n",
    "print(f\"XGBoost 기본 파라미터 모델 RMSLE : {rmsle(y_test.iloc[:, 0], xgb_pred1):.4f}\")"
   ]
  },
  {
   "cell_type": "code",
   "execution_count": 56,
   "id": "d7057748",
   "metadata": {},
   "outputs": [
    {
     "data": {
      "text/plain": [
       "array([235.44466  , 258.3593   , 440.60345  , ...,   7.8342514,\n",
       "       121.65277  , 679.02826  ], dtype=float32)"
      ]
     },
     "execution_count": 56,
     "metadata": {},
     "output_type": "execute_result"
    }
   ],
   "source": [
    "xgb_pred1"
   ]
  },
  {
   "cell_type": "markdown",
   "id": "455b3c8a",
   "metadata": {},
   "source": [
    "### 3) K-Fold 교차검증 진행"
   ]
  },
  {
   "cell_type": "code",
   "execution_count": 57,
   "id": "71456ed7",
   "metadata": {},
   "outputs": [
    {
     "name": "stdout",
     "output_type": "stream",
     "text": [
      "각 폴드의 RMSLE [-0.31909443 -0.28326001 -0.30658305 -0.29565374 -0.29579953]\n",
      "평균 RMSLE -0.3000781510475262\n"
     ]
    }
   ],
   "source": [
    "# rmsle 점수를 계산해주는 함수 만들기\n",
    "rmsle_scorer = make_scorer(rmsle, greater_is_better=False)\n",
    "\n",
    "# K의 값은 5로 설정\n",
    "kf = KFold(n_splits=5, shuffle=True, random_state=42)\n",
    "\n",
    "y_flatten = np.array(y).flatten()\n",
    "scores = cross_val_score(xgb_model1, X, y_flatten, cv=kf, scoring=rmsle_scorer)\n",
    "\n",
    "print(\"각 폴드의 RMSLE\", scores)\n",
    "print(\"평균 RMSLE\", np.mean(scores))"
   ]
  },
  {
   "cell_type": "code",
   "execution_count": 58,
   "id": "b639fdcd",
   "metadata": {},
   "outputs": [
    {
     "data": {
      "image/png": "[encoded data removed]",
      "text/plain": [
       "<Figure size 1000x500 with 1 Axes>"
      ]
     },
     "metadata": {},
     "output_type": "display_data"
    }
   ],
   "source": [
    "# XGBoost 모델 설명변수들의 중요도\n",
    "importances_xgb = xgb_model1.feature_importances_\n",
    "feature_names_xgb = X_train.columns\n",
    "\n",
    "# 데이터프레임 변경\n",
    "xgb_importance_df = pd.DataFrame({'Feature': feature_names_xgb, 'Importance': importances_xgb})\n",
    "xgb_importance_df = xgb_importance_df.sort_values(by='Importance', ascending=False)\n",
    "\n",
    "# 변수 중요도 바 그래프 시각화\n",
    "plt.figure(figsize=(10, 5))\n",
    "plt.barh(xgb_importance_df['Feature'], xgb_importance_df['Importance'], align='center')\n",
    "plt.xlabel(\"Feature Importance\")\n",
    "plt.ylabel(\"Feature Name\")\n",
    "plt.title(\"XGBoost Feature Importance\", fontsize=15)\n",
    "plt.gca().invert_yaxis()  # 중요도가 높은 것이 위로 오도록 설정\n",
    "plt.show()"
   ]
  },
  {
   "cell_type": "markdown",
   "id": "399fd77e",
   "metadata": {},
   "source": [
    "## 4.5 랜덤포레스트(RandomForest Regressor)\n",
    "### 1) 랜덤포레스트 default 파라미터 모델 생성\n",
    "랜덤 포레스트는 여러 개의 결정 트리를 기반으로 값을 도출하는 앙상블 모델\n",
    "만약 실제값에 음수가 있다면 랜덤포레스트 모델의 예측값도 음수를 생성할 수 있다."
   ]
  },
  {
   "cell_type": "code",
   "execution_count": 59,
   "id": "449c3066",
   "metadata": {},
   "outputs": [],
   "source": [
    "from sklearn.ensemble import RandomForestRegressor"
   ]
  },
  {
   "cell_type": "code",
   "execution_count": 60,
   "id": "da74f982",
   "metadata": {
    "scrolled": false
   },
   "outputs": [
    {
     "data": {
      "text/html": [
       "<style>#sk-container-id-3 {color: black;background-color: white;}#sk-container-id-3 pre{padding: 0;}#sk-container-id-3 div.sk-toggleable {background-color: white;}#sk-container-id-3 label.sk-toggleable__label {cursor: pointer;display: block;width: 100%;margin-bottom: 0;padding: 0.3em;box-sizing: border-box;text-align: center;}#sk-container-id-3 label.sk-toggleable__label-arrow:before {content: \"▸\";float: left;margin-right: 0.25em;color: #696969;}#sk-container-id-3 label.sk-toggleable__label-arrow:hover:before {color: black;}#sk-container-id-3 div.sk-estimator:hover label.sk-toggleable__label-arrow:before {color: black;}#sk-container-id-3 div.sk-toggleable__content {max-height: 0;max-width: 0;overflow: hidden;text-align: left;background-color: #f0f8ff;}#sk-container-id-3 div.sk-toggleable__content pre {margin: 0.2em;color: black;border-radius: 0.25em;background-color: #f0f8ff;}#sk-container-id-3 input.sk-toggleable__control:checked~div.sk-toggleable__content {max-height: 200px;max-width: 100%;overflow: auto;}#sk-container-id-3 input.sk-toggleable__control:checked~label.sk-toggleable__label-arrow:before {content: \"▾\";}#sk-container-id-3 div.sk-estimator input.sk-toggleable__control:checked~label.sk-toggleable__label {background-color: #d4ebff;}#sk-container-id-3 div.sk-label input.sk-toggleable__control:checked~label.sk-toggleable__label {background-color: #d4ebff;}#sk-container-id-3 input.sk-hidden--visually {border: 0;clip: rect(1px 1px 1px 1px);clip: rect(1px, 1px, 1px, 1px);height: 1px;margin: -1px;overflow: hidden;padding: 0;position: absolute;width: 1px;}#sk-container-id-3 div.sk-estimator {font-family: monospace;background-color: #f0f8ff;border: 1px dotted black;border-radius: 0.25em;box-sizing: border-box;margin-bottom: 0.5em;}#sk-container-id-3 div.sk-estimator:hover {background-color: #d4ebff;}#sk-container-id-3 div.sk-parallel-item::after {content: \"\";width: 100%;border-bottom: 1px solid gray;flex-grow: 1;}#sk-container-id-3 div.sk-label:hover label.sk-toggleable__label {background-color: #d4ebff;}#sk-container-id-3 div.sk-serial::before {content: \"\";position: absolute;border-left: 1px solid gray;box-sizing: border-box;top: 0;bottom: 0;left: 50%;z-index: 0;}#sk-container-id-3 div.sk-serial {display: flex;flex-direction: column;align-items: center;background-color: white;padding-right: 0.2em;padding-left: 0.2em;position: relative;}#sk-container-id-3 div.sk-item {position: relative;z-index: 1;}#sk-container-id-3 div.sk-parallel {display: flex;align-items: stretch;justify-content: center;background-color: white;position: relative;}#sk-container-id-3 div.sk-item::before, #sk-container-id-3 div.sk-parallel-item::before {content: \"\";position: absolute;border-left: 1px solid gray;box-sizing: border-box;top: 0;bottom: 0;left: 50%;z-index: -1;}#sk-container-id-3 div.sk-parallel-item {display: flex;flex-direction: column;z-index: 1;position: relative;background-color: white;}#sk-container-id-3 div.sk-parallel-item:first-child::after {align-self: flex-end;width: 50%;}#sk-container-id-3 div.sk-parallel-item:last-child::after {align-self: flex-start;width: 50%;}#sk-container-id-3 div.sk-parallel-item:only-child::after {width: 0;}#sk-container-id-3 div.sk-dashed-wrapped {border: 1px dashed gray;margin: 0 0.4em 0.5em 0.4em;box-sizing: border-box;padding-bottom: 0.4em;background-color: white;}#sk-container-id-3 div.sk-label label {font-family: monospace;font-weight: bold;display: inline-block;line-height: 1.2em;}#sk-container-id-3 div.sk-label-container {text-align: center;}#sk-container-id-3 div.sk-container {/* jupyter's `normalize.less` sets `[hidden] { display: none; }` but bootstrap.min.css set `[hidden] { display: none !important; }` so we also need the `!important` here to be able to override the default hidden behavior on the sphinx rendered scikit-learn.org. See: https://github.com/scikit-learn/scikit-learn/issues/21755 */display: inline-block !important;position: relative;}#sk-container-id-3 div.sk-text-repr-fallback {display: none;}</style><div id=\"sk-container-id-3\" class=\"sk-top-container\"><div class=\"sk-text-repr-fallback\"><pre>RandomForestRegressor(random_state=5)</pre><b>In a Jupyter environment, please rerun this cell to show the HTML representation or trust the notebook. <br />On GitHub, the HTML representation is unable to render, please try loading this page with nbviewer.org.</b></div><div class=\"sk-container\" hidden><div class=\"sk-item\"><div class=\"sk-estimator sk-toggleable\"><input class=\"sk-toggleable__control sk-hidden--visually\" id=\"sk-estimator-id-3\" type=\"checkbox\" checked><label for=\"sk-estimator-id-3\" class=\"sk-toggleable__label sk-toggleable__label-arrow\">RandomForestRegressor</label><div class=\"sk-toggleable__content\"><pre>RandomForestRegressor(random_state=5)</pre></div></div></div></div></div>"
      ],
      "text/plain": [
       "RandomForestRegressor(random_state=5)"
      ]
     },
     "execution_count": 60,
     "metadata": {},
     "output_type": "execute_result"
    }
   ],
   "source": [
    "# 기본 파라미터값으로 모델 생성하여 할당\n",
    "rf_model = RandomForestRegressor(random_state=5)\n",
    "\n",
    "# 모델 학습\n",
    "rf_model.fit(X_train, y_train.iloc[:, 0])"
   ]
  },
  {
   "cell_type": "markdown",
   "id": "2891fdac",
   "metadata": {},
   "source": [
    "### 2) 랜덤포레스트 예측값 도출"
   ]
  },
  {
   "cell_type": "code",
   "execution_count": 61,
   "id": "bd8fc7e1",
   "metadata": {},
   "outputs": [
    {
     "data": {
      "text/plain": [
       "array([263.93, 261.63, 421.33, ...,   6.26, 118.89, 744.91])"
      ]
     },
     "execution_count": 61,
     "metadata": {},
     "output_type": "execute_result"
    }
   ],
   "source": [
    "# 예측값 생성\n",
    "rf_preds1 = rf_model.predict(X_test)\n",
    "\n",
    "# 예측값 확인\n",
    "rf_preds1"
   ]
  },
  {
   "cell_type": "code",
   "execution_count": 62,
   "id": "cb97e260",
   "metadata": {
    "scrolled": true
   },
   "outputs": [
    {
     "name": "stdout",
     "output_type": "stream",
     "text": [
      "음수 예측값 개수 : 0개\n"
     ]
    }
   ],
   "source": [
    "# 음수값 개수 확인\n",
    "print(f\"음수 예측값 개수 : {(rf_preds1 <= 0).sum()}개\")"
   ]
  },
  {
   "cell_type": "markdown",
   "id": "8ccd3192",
   "metadata": {},
   "source": [
    "### 3) 실제값과 예측값 비교"
   ]
  },
  {
   "cell_type": "code",
   "execution_count": 63,
   "id": "727ab6bd",
   "metadata": {},
   "outputs": [
    {
     "name": "stdout",
     "output_type": "stream",
     "text": [
      "평균 제곱근 오차 RMSE : 41.8516\n",
      "평균 제곱 오차 MSE : 1751.5548\n",
      "랜덤포레스트 RMSLE : 0.3476\n"
     ]
    }
   ],
   "source": [
    "# 평균 제곱근 오차 확인\n",
    "rmse = mean_squared_error(rf_preds1, y_test) ** 0.5\n",
    "print(f\"평균 제곱근 오차 RMSE : {rmse:.4f}\")\n",
    "\n",
    "# 평균 제곱 오차 확인\n",
    "mse = mean_squared_error(rf_preds1, y_test)\n",
    "print(f\"평균 제곱 오차 MSE : {mse:.4f}\")\n",
    "\n",
    "# RMSLE 확인\n",
    "rf_rmsle_value1 = rmsle(np.array(y_test).ravel(), rf_preds1)\n",
    "print(f\"랜덤포레스트 RMSLE : {rf_rmsle_value1:.4f}\")"
   ]
  },
  {
   "cell_type": "markdown",
   "id": "a15696e3",
   "metadata": {},
   "source": [
    "### 4) 변수 중요도 확인"
   ]
  },
  {
   "cell_type": "code",
   "execution_count": 64,
   "id": "19715330",
   "metadata": {
    "scrolled": true
   },
   "outputs": [
    {
     "data": {
      "image/png": "[encoded data removed]",
      "text/plain": [
       "<Figure size 1000x500 with 1 Axes>"
      ]
     },
     "metadata": {},
     "output_type": "display_data"
    }
   ],
   "source": [
    "# 랜덤포레스트 모델 설명변수들의 중요도\n",
    "importances_rf = rf_model.feature_importances_\n",
    "feature_names_rf = X_train.columns\n",
    "\n",
    "# 데이터프레임 변경\n",
    "rf_importance_df = pd.DataFrame({'Feature': feature_names_rf, 'Importance': importances_rf})\n",
    "rf_importance_df = rf_importance_df.sort_values(by='Importance', ascending=False)\n",
    "\n",
    "# 변수 중요도 바 그래프 시각화\n",
    "plt.figure(figsize=(10, 5))\n",
    "plt.barh(rf_importance_df['Feature'], rf_importance_df['Importance'], align='center')\n",
    "plt.xlabel(\"Feature Importance\")\n",
    "plt.ylabel(\"Feature Name\")\n",
    "plt.title(\"Random Forest Feature Importance\", fontsize=15)\n",
    "plt.gca().invert_yaxis()  # 중요도가 높은 것이 위로 오도록 설정\n",
    "plt.show()"
   ]
  },
  {
   "cell_type": "code",
   "execution_count": 65,
   "id": "432f5167",
   "metadata": {
    "scrolled": true
   },
   "outputs": [
    {
     "data": {
      "text/html": [
       "<div>\n",
       "<style scoped>\n",
       "    .dataframe tbody tr th:only-of-type {\n",
       "        vertical-align: middle;\n",
       "    }\n",
       "\n",
       "    .dataframe tbody tr th {\n",
       "        vertical-align: top;\n",
       "    }\n",
       "\n",
       "    .dataframe thead th {\n",
       "        text-align: right;\n",
       "    }\n",
       "</style>\n",
       "<table border=\"1\" class=\"dataframe\">\n",
       "  <thead>\n",
       "    <tr style=\"text-align: right;\">\n",
       "      <th></th>\n",
       "      <th>Feature</th>\n",
       "      <th>Importance</th>\n",
       "    </tr>\n",
       "  </thead>\n",
       "  <tbody>\n",
       "    <tr>\n",
       "      <th>7</th>\n",
       "      <td>hour</td>\n",
       "      <td>0.605593</td>\n",
       "    </tr>\n",
       "    <tr>\n",
       "      <th>8</th>\n",
       "      <td>temp_pca</td>\n",
       "      <td>0.116237</td>\n",
       "    </tr>\n",
       "    <tr>\n",
       "      <th>4</th>\n",
       "      <td>year</td>\n",
       "      <td>0.081249</td>\n",
       "    </tr>\n",
       "    <tr>\n",
       "      <th>1</th>\n",
       "      <td>workingday</td>\n",
       "      <td>0.051622</td>\n",
       "    </tr>\n",
       "    <tr>\n",
       "      <th>6</th>\n",
       "      <td>month</td>\n",
       "      <td>0.047839</td>\n",
       "    </tr>\n",
       "  </tbody>\n",
       "</table>\n",
       "</div>"
      ],
      "text/plain": [
       "      Feature  Importance\n",
       "7        hour    0.605593\n",
       "8    temp_pca    0.116237\n",
       "4        year    0.081249\n",
       "1  workingday    0.051622\n",
       "6       month    0.047839"
      ]
     },
     "execution_count": 65,
     "metadata": {},
     "output_type": "execute_result"
    }
   ],
   "source": [
    "# 랜덤포레스트 변수중요도 상위 5개\n",
    "rf_importance_df.head()"
   ]
  },
  {
   "cell_type": "code",
   "execution_count": 66,
   "id": "bbc6d57c",
   "metadata": {
    "scrolled": false
   },
   "outputs": [
    {
     "name": "stderr",
     "output_type": "stream",
     "text": [
      "C:\\Users\\gkdis\\AppData\\Local\\Temp\\ipykernel_22136\\1896936738.py:4: UserWarning: \n",
      "\n",
      "`distplot` is a deprecated function and will be removed in seaborn v0.14.0.\n",
      "\n",
      "Please adapt your code to use either `displot` (a figure-level function with\n",
      "similar flexibility) or `histplot` (an axes-level function for histograms).\n",
      "\n",
      "For a guide to updating your code to use the new functions, please see\n",
      "https://gist.github.com/mwaskom/de44147ed2974457ad6372750bbe5751\n",
      "\n",
      "  sns.distplot(y_train, ax=ax1, bins=50)\n",
      "C:\\Users\\gkdis\\AppData\\Local\\Temp\\ipykernel_22136\\1896936738.py:6: UserWarning: \n",
      "\n",
      "`distplot` is a deprecated function and will be removed in seaborn v0.14.0.\n",
      "\n",
      "Please adapt your code to use either `displot` (a figure-level function with\n",
      "similar flexibility) or `histplot` (an axes-level function for histograms).\n",
      "\n",
      "For a guide to updating your code to use the new functions, please see\n",
      "https://gist.github.com/mwaskom/de44147ed2974457ad6372750bbe5751\n",
      "\n",
      "  sns.distplot(rf_preds1, ax=ax2, bins=50)\n"
     ]
    },
    {
     "data": {
      "image/png": "[encoded data removed]",
      "text/plain": [
       "<Figure size 1000x400 with 2 Axes>"
      ]
     },
     "metadata": {},
     "output_type": "display_data"
    }
   ],
   "source": [
    "# 실제값과 예측값 막대그래프로 차이 비교하기\n",
    "fig, (ax1, ax2) = plt.subplots(ncols=2)\n",
    "fig.set_size_inches(10, 4)\n",
    "sns.distplot(y_train, ax=ax1, bins=50)\n",
    "ax1.set(title='train')\n",
    "sns.distplot(rf_preds1, ax=ax2, bins=50)\n",
    "ax2.set(title='test')\n",
    "plt.show()"
   ]
  },
  {
   "cell_type": "markdown",
   "id": "7a84f6c0",
   "metadata": {},
   "source": [
    "### 5) KFold, GridSearchCV"
   ]
  },
  {
   "cell_type": "code",
   "execution_count": 67,
   "id": "931f5081",
   "metadata": {
    "scrolled": true
   },
   "outputs": [
    {
     "name": "stdout",
     "output_type": "stream",
     "text": [
      "각 폴드의 RMSLE [-0.34165483 -0.30941741 -0.32401367 -0.30980042 -0.32704554]\n",
      "평균 RMSLE -0.32238637433546874\n"
     ]
    }
   ],
   "source": [
    "# rmsle 점수를 계산해주는 함수 만들기\n",
    "rmsle_scorer = make_scorer(rmsle, greater_is_better=False)\n",
    "\n",
    "# K의 값은 5로 설정\n",
    "kf = KFold(n_splits=5, shuffle=True, random_state=42)\n",
    "\n",
    "y_flatten = np.array(y).flatten()\n",
    "scores = cross_val_score(rf_model, X, y_flatten, cv=kf, scoring=rmsle_scorer)\n",
    "\n",
    "print(\"각 폴드의 RMSLE\", scores)\n",
    "print(\"평균 RMSLE\", np.mean(scores))"
   ]
  },
  {
   "cell_type": "code",
   "execution_count": 68,
   "id": "6544efbe",
   "metadata": {
    "scrolled": false
   },
   "outputs": [
    {
     "name": "stdout",
     "output_type": "stream",
     "text": [
      "Fitting 5 folds for each of 27 candidates, totalling 135 fits\n",
      "최적의 하이퍼파라미터: {'max_depth': None, 'min_samples_split': 2, 'n_estimators': 200}\n",
      "최적의 RMSLE 점수: -0.32080855864480934\n"
     ]
    }
   ],
   "source": [
    "from sklearn.model_selection import GridSearchCV, KFold\n",
    "from sklearn.metrics import make_scorer, mean_squared_log_error\n",
    "import numpy as np\n",
    "\n",
    "# 하이퍼파라미터 후보 설정\n",
    "param_grid = {\n",
    "    'n_estimators': [50, 100, 200],   # 트리 개수\n",
    "    'max_depth': [None, 10, 20],      # 최대 깊이\n",
    "    'min_samples_split': [2, 5, 10]   # 노드 분할 최소 샘플 수\n",
    "}\n",
    "\n",
    "# K-Fold 설정 (5개 폴드)\n",
    "cv = KFold(n_splits=5, shuffle=True, random_state=42)\n",
    "\n",
    "rmsle_scorer = make_scorer(rmsle, greater_is_better=False)  # RMSLE는 작을수록 좋음\n",
    "\n",
    "# GridSearchCV 수행 (KFold 포함)\n",
    "grid_search = GridSearchCV(\n",
    "    estimator=rf_model,       # 기존 모델 사용\n",
    "    param_grid=param_grid,    # 하이퍼파라미터 그리드\n",
    "    scoring=rmsle_scorer,     # RMSLE 기준 평가\n",
    "    cv=cv,                    # K-Fold 교차 검증\n",
    "    n_jobs=-1,                # 모든 CPU 코어 사용\n",
    "    verbose=2                 # 진행 상황 출력\n",
    ")\n",
    "\n",
    "# 모델 학습 (자동으로 K-Fold 수행됨)\n",
    "grid_search.fit(X, y_flatten)\n",
    "\n",
    "# 최적의 하이퍼파라미터 및 최적 성능 출력\n",
    "print(\"최적의 하이퍼파라미터:\", grid_search.best_params_)\n",
    "print(\"최적의 RMSLE 점수:\", grid_search.best_score_)\n",
    "\n",
    "# 최적의 모델 저장\n",
    "best_model = grid_search.best_estimator_\n"
   ]
  },
  {
   "cell_type": "markdown",
   "id": "cd3763a2",
   "metadata": {},
   "source": [
    "### GridSearchCV 결과\n",
    "#### 랜덤포레스트 최적의 하이퍼 파라미터\n",
    "- max_depth : None\n",
    "- min_samples_split : 2\n",
    "- n_estimators : 200\n",
    "#### 랜덤포레스트 최적의 RMSLE 점수 : 0.3208"
   ]
  },
  {
   "cell_type": "markdown",
   "id": "703c3ff1",
   "metadata": {},
   "source": [
    "# 5. 최적의 파라미터 모델 생성\n",
    "### RandomForest Regressor\n",
    "- max_depth : None\n",
    "- min_samples_split : 2\n",
    "- n_estimators : 200"
   ]
  },
  {
   "cell_type": "markdown",
   "id": "d5491132",
   "metadata": {},
   "source": [
    "## 5.1 예측값 적용하기 "
   ]
  },
  {
   "cell_type": "code",
   "execution_count": 69,
   "id": "7a92fbba",
   "metadata": {},
   "outputs": [],
   "source": [
    "# 최적의 파라미터로 모델 생성\n",
    "rf_model2 = RandomForestRegressor(n_estimators=200, max_depth=None, min_samples_split=2)\n",
    "\n",
    "# 훈련용 전체 데이터에 학습하기\n",
    "rf_model2.fit(X, y.iloc[:, 0])\n",
    "\n",
    "# 제출용 test 데이터에 예측값 적용하기\n",
    "submission_predict_count = rf_model2.predict(encoded_test_df)"
   ]
  },
  {
   "cell_type": "code",
   "execution_count": 70,
   "id": "5d499363",
   "metadata": {},
   "outputs": [
    {
     "data": {
      "text/plain": [
       "6493"
      ]
     },
     "execution_count": 70,
     "metadata": {},
     "output_type": "execute_result"
    }
   ],
   "source": [
    "len(submission_predict_count)"
   ]
  },
  {
   "cell_type": "code",
   "execution_count": 71,
   "id": "01d027b1",
   "metadata": {
    "scrolled": false
   },
   "outputs": [],
   "source": [
    "# 예측값 test 데이터에 입력하기\n",
    "test_df['count'] = submission_predict_count\n",
    "# 결과 확인\n",
    "test_df.sample(2)\n",
    "# csv 파일 저장\n",
    "test_df.to_csv(\"test_df_2팀_고명진.csv\")"
   ]
  }
 ],
 "metadata": {
  "kernelspec": {
   "display_name": "Python 3 (ipykernel)",
   "language": "python",
   "name": "python3"
  },
  "language_info": {
   "codemirror_mode": {
    "name": "ipython",
    "version": 3
   },
   "file_extension": ".py",
   "mimetype": "text/x-python",
   "name": "python",
   "nbconvert_exporter": "python",
   "pygments_lexer": "ipython3",
   "version": "3.11.3"
  }
 },
 "nbformat": 4,
 "nbformat_minor": 5
}
